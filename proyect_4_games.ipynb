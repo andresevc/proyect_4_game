{
 "cells": [
  {
   "cell_type": "markdown",
   "metadata": {},
   "source": [
    "# Acontinuacion se realiazara el analisis a una tienda de videojuegos el cual se analizara si un juego es exitoso o no "
   ]
  },
  {
   "cell_type": "markdown",
   "metadata": {},
   "source": [
    "\n",
    "En nuestro proyecto de análisis de datos, utilizaremos información histórica de ventas de videojuegos para identificar patrones que predigan el éxito de nuevos juegos. Nos centraremos en evaluar la influencia de factores como reseñas de usuarios y expertos, géneros, plataformas y clasificaciones ESRB, que indican el contenido adecuado para diferentes edades. Analizando estos datos, podremos identificar tendencias y características clave que ayuden a prever qué juegos tendrán un buen desempeño en el mercado y a planificar estrategias publicitarias efectivas.\n",
    "\n",
    "En el conjunto de datos encontrarás información detallada sobre videojuegos, que incluye el nombre del juego, la plataforma en la que se lanzó, y el año de lanzamiento. Los datos también abarcan las ventas regionales, desglosadas en millones de dólares para Norteamérica, Europa, Japón y otros países. Además, se incluyen las puntuaciones de críticos y usuarios, con escalas de hasta 100 y 10, respectivamente, así como la clasificación ESRB, que indica el contenido adecuado para diferentes edades. Es importante tener en cuenta que los datos de 2016 pueden estar incompletos, lo que podría afectar el análisis y la interpretación de la información sobre los juegos lanzados en ese año.\n"
   ]
  },
  {
   "cell_type": "markdown",
   "metadata": {},
   "source": [
    "En primer lugar se importa las librerias que se vayan a utilizar."
   ]
  },
  {
   "cell_type": "code",
   "execution_count": 1,
   "metadata": {
    "tags": [
     "e5c1f0c2-db9f-43a0-99b9-4875c52427e8"
    ]
   },
   "outputs": [],
   "source": [
    "import pandas as pd \n",
    "import numpy as np \n",
    "import matplotlib.pyplot as plt\n",
    "from scipy import stats as st \n",
    "import seaborn as sns\n",
    "from scipy.stats import levene"
   ]
  },
  {
   "cell_type": "markdown",
   "metadata": {},
   "source": [
    "Se procede a explorar el archivo que se va a utilizar para este analisis"
   ]
  },
  {
   "cell_type": "code",
   "execution_count": 4,
   "metadata": {},
   "outputs": [],
   "source": [
    "#Se lee el dataframe que se va a emplear.\n",
    "game=pd.read_csv('C:/Users/andre/Documents/TRIPLETEN ANALISIS DE DATOS/Proyectos/Proyecto_4/games.csv'\n",
    ")"
   ]
  },
  {
   "cell_type": "code",
   "execution_count": null,
   "metadata": {},
   "outputs": [
    {
     "name": "stdout",
     "output_type": "stream",
     "text": [
      "<class 'pandas.core.frame.DataFrame'>\n",
      "RangeIndex: 16715 entries, 0 to 16714\n",
      "Data columns (total 11 columns):\n",
      " #   Column           Non-Null Count  Dtype  \n",
      "---  ------           --------------  -----  \n",
      " 0   Name             16713 non-null  object \n",
      " 1   Platform         16715 non-null  object \n",
      " 2   Year_of_Release  16446 non-null  float64\n",
      " 3   Genre            16713 non-null  object \n",
      " 4   NA_sales         16715 non-null  float64\n",
      " 5   EU_sales         16715 non-null  float64\n",
      " 6   JP_sales         16715 non-null  float64\n",
      " 7   Other_sales      16715 non-null  float64\n",
      " 8   Critic_Score     8137 non-null   float64\n",
      " 9   User_Score       10014 non-null  object \n",
      " 10  Rating           9949 non-null   object \n",
      "dtypes: float64(6), object(5)\n",
      "memory usage: 1.4+ MB\n"
     ]
    }
   ],
   "source": [
    "#Con el metodo info() se tiene una rapida descripcion , de los nombres de las columnas , del tipo de dato y de\n",
    "#si existen valores ausentes.\n",
    "game.info()"
   ]
  },
  {
   "cell_type": "markdown",
   "metadata": {},
   "source": [
    "Una ves que se tiene esta informacion presente, se procedere a usar el metodo snake_case con los nombres de las  columnas y de igual manera se procedera a reestablecer el tipo de dato segun la columna si lo requiera."
   ]
  },
  {
   "cell_type": "code",
   "execution_count": null,
   "metadata": {},
   "outputs": [],
   "source": [
    "#Convirtiendo los nombres de las columnas en metodo snake_case\n",
    "#lista para reemplazar los nuevos valores de las columnas\n",
    "new_columns=[]\n",
    "#ciclo for para iterar sobre cada elemento de la columna\n",
    "for old_columns in game.columns:\n",
    "    lower = old_columns.lower()\n",
    "    new_columns.append(lower)\n",
    "#asignacion del reemplazo de valores de columna\n",
    "game.columns=new_columns \n",
    "\n",
    "    "
   ]
  },
  {
   "cell_type": "markdown",
   "metadata": {},
   "source": [
    "Antes de editar los tipo de datos en las columnas , primero se va a tratar los valores ausentes , ya que al convertir un tipo de dato es preferible no tener valores ausentes en estos. \n",
    "Acontinuacion se describiran las columnas que tienen valores ausentes a traves de una funcion:"
   ]
  },
  {
   "cell_type": "code",
   "execution_count": null,
   "metadata": {
    "scrolled": true
   },
   "outputs": [
    {
     "name": "stdout",
     "output_type": "stream",
     "text": [
      "Existen 2 valores ausentes para la columna name\n",
      "Existen 269 valores ausentes para la columna year_of_release\n",
      "Existen 2 valores ausentes para la columna genre\n",
      "Existen 8578 valores ausentes para la columna critic_score\n",
      "Existen 6701 valores ausentes para la columna user_score\n",
      "Existen 6766 valores ausentes para la columna rating\n"
     ]
    }
   ],
   "source": [
    "#Se define funcion que cuente los valores ausentes en todas las columnas\n",
    "def ausentes(data,column_name):\n",
    "    num_missing = data[column_name].isna().sum() # se usa el metodo isna para contar los valores ausentes\n",
    "    print(f'Existen {num_missing} valores ausentes para la columna {column_name}') #se mostrara \n",
    "#Se imprimira los valores ausentes para las columnas especificas\n",
    "for val_ausentes in game.columns:\n",
    "    num_missing = game[val_ausentes].isna().sum() # se crea nuevamente la variable num_missing para contar los valores ausentes\n",
    "    if num_missing > 0: #solo mostrara las columnas con valores ausentes \n",
    "        ausentes(game,val_ausentes) #Se llama a la funcion"
   ]
  },
  {
   "cell_type": "markdown",
   "metadata": {},
   "source": [
    "Se puede evidenciar que existe un gran volumen de valores ausentes en diversas columnas, a continuacion se describira como se procedera con cada una y como sera rellenada.\n",
    "\n"
   ]
  },
  {
   "cell_type": "code",
   "execution_count": null,
   "metadata": {},
   "outputs": [],
   "source": [
    "#En la columna name se reemplazara con NO_NAME, el motivo de sus valores puede ser por datos incompletos\n",
    "game['name'].fillna('NO_NAME',inplace=True)"
   ]
  },
  {
   "cell_type": "code",
   "execution_count": null,
   "metadata": {},
   "outputs": [
    {
     "name": "stdout",
     "output_type": "stream",
     "text": [
      "2007.0\n"
     ]
    },
    {
     "data": {
      "image/png": "[encoded data removed]",
      "text/plain": [
       "<Figure size 640x480 with 1 Axes>"
      ]
     },
     "metadata": {},
     "output_type": "display_data"
    }
   ],
   "source": [
    "#En la columna year_of_release se procedio a mirar con un histograma , la proporcion de los datos, y se puede ver \n",
    "#que existe una gran proporcion entre el 2000 al 2013, por tal razon se procedera a rellenar los valores ausentes\n",
    "#con el valor medio que corresponde a 2007.\n",
    "#se grafica un histograma para ver la proporcion de datos \n",
    "game['year_of_release'].plot(kind='hist')\n",
    "#conocer el valor de la mediana\n",
    "print(game['year_of_release'].median())\n",
    "#reemplazar este valor de 2007 por los valores ausentes.\n",
    "game['year_of_release'].fillna(2007,inplace=True)\n",
    "#ahora se procedera a convertir los datos de tipo entero para poder quitar los decimales\n",
    "game['year_of_release']=game['year_of_release'].astype(int)"
   ]
  },
  {
   "cell_type": "code",
   "execution_count": null,
   "metadata": {},
   "outputs": [
    {
     "data": {
      "text/plain": [
       "<AxesSubplot:ylabel='Frequency'>"
      ]
     },
     "execution_count": 8,
     "metadata": {},
     "output_type": "execute_result"
    },
    {
     "data": {
      "image/png": "[encoded data removed]",
      "text/plain": [
       "<Figure size 640x480 with 1 Axes>"
      ]
     },
     "metadata": {},
     "output_type": "display_data"
    }
   ],
   "source": [
    "game['year_of_release'].plot(kind='hist')"
   ]
  },
  {
   "cell_type": "code",
   "execution_count": null,
   "metadata": {},
   "outputs": [],
   "source": [
    "#En la columna genre se reemplazara con NO_GENRE, el motivo de sus valores puede ser por datos incompletos\n",
    "game['genre'].fillna('NO_GENRE',inplace=True)"
   ]
  },
  {
   "cell_type": "markdown",
   "metadata": {},
   "source": [
    "Para la columna user_score se necesita tomar en cuenta los valores TBD , por lo que una ves que se contaron cuantos valores tbd existian , se tuvo un resultado de 2424 , acontinuacion estos valores TBD, Se tomaron en cuenta y se procedio a reemplazarlo por la media del conjunto de datos \n"
   ]
  },
  {
   "cell_type": "code",
   "execution_count": null,
   "metadata": {},
   "outputs": [
    {
     "name": "stdout",
     "output_type": "stream",
     "text": [
      "2424\n",
      "['8' nan '8.3' '8.5' '6.6' '8.4' '8.6' '7.7' '6.3' '7.4' '8.2' '9' '7.9'\n",
      " '8.1' '8.7' '7.1' '3.4' '5.3' '4.8' '3.2' '8.9' '6.4' '7.8' '7.5' '2.6'\n",
      " '7.2' '9.2' '7' '7.3' '4.3' '7.6' '5.7' '5' '9.1' '6.5' 'tbd' '8.8' '6.9'\n",
      " '9.4' '6.8' '6.1' '6.7' '5.4' '4' '4.9' '4.5' '9.3' '6.2' '4.2' '6' '3.7'\n",
      " '4.1' '5.8' '5.6' '5.5' '4.4' '4.6' '5.9' '3.9' '3.1' '2.9' '5.2' '3.3'\n",
      " '4.7' '5.1' '3.5' '2.5' '1.9' '3' '2.7' '2.2' '2' '9.5' '2.1' '3.6' '2.8'\n",
      " '1.8' '3.8' '0' '1.6' '9.6' '2.4' '1.7' '1.1' '0.3' '1.5' '0.7' '1.2'\n",
      " '2.3' '0.5' '1.3' '0.2' '0.6' '1.4' '0.9' '1' '9.7']\n"
     ]
    }
   ],
   "source": [
    "#Se cuentan cuantos valores tbd existen \n",
    "print((game['user_score']=='tbd').sum())\n",
    "#se imprime los valores unicos de la columna en el cual se puede observar tbd en ellos\n",
    "print(game['user_score'].unique())\n"
   ]
  },
  {
   "cell_type": "markdown",
   "metadata": {},
   "source": [
    "La columna es un tipo de dato objeto , por lo tanto no se puede realizar operaciones como el promedio o la mediana. En este caso se va a crear una nueva columna provisional , el cual eliminara las celdas tdb , luego se la convertira en un tipo de dato flotante y se procedera a conocer el valor de la mediana."
   ]
  },
  {
   "cell_type": "code",
   "execution_count": null,
   "metadata": {},
   "outputs": [],
   "source": [
    "#se crea nueva columna provisional\n",
    "game['provisional_user_score']=game['user_score']"
   ]
  },
  {
   "cell_type": "code",
   "execution_count": null,
   "metadata": {},
   "outputs": [
    {
     "data": {
      "text/plain": [
       "7.5"
      ]
     },
     "execution_count": 12,
     "metadata": {},
     "output_type": "execute_result"
    }
   ],
   "source": [
    "# Reemplazar 'tbd' con NaN\n",
    "game['provisional_user_score'].replace('tbd', np.nan, inplace=True)\n",
    "# Convertir la columna a tipo flotante\n",
    "game['provisional_user_score'] = game['provisional_user_score'].astype(float)\n",
    "#se calcula el valor de la mediana\n",
    "game['provisional_user_score'].median()"
   ]
  },
  {
   "cell_type": "markdown",
   "metadata": {},
   "source": [
    "Ahora que ya se conoce cual es el valor de la mediana , se procedere a reemplazar este valor en los valores tbd en la columna original de user_score, y se eliminara la columna provisional que se creo."
   ]
  },
  {
   "cell_type": "code",
   "execution_count": null,
   "metadata": {},
   "outputs": [],
   "source": [
    "#Se realiza el cambio respectivo \n",
    "game['user_score'].replace('tbd',7.5,inplace=True)\n",
    "#ahora se procedera a convertir esta columna en su tipo de dato correspondiente que es float\n",
    "game['user_score']=game['user_score'].astype(float)\n",
    "#se elimina la columna provisiona\n",
    "game.drop('provisional_user_score', axis=1 , inplace=True)"
   ]
  },
  {
   "cell_type": "markdown",
   "metadata": {},
   "source": [
    "Una ves que se tiene la columna user_score de tipo flotante y se reemplazaron los valores de tbd por la mediana , se procedera a eliminar las filas ya que se observa que son mas del 40 por ciento que tiene valores ausentes , por lo cual es un gran porcentaje que puede afectar el analisis. Ademas es importante mencionar que tanto user_score como critic_score y como rating tienen un gran porcentaje de valores ausentes en las mismas filas , por lo que se proceder a eliminarlas y luego con las columnas que aun tengan valores pendientes se las analizara para reemplazarlas con otros valores."
   ]
  },
  {
   "cell_type": "code",
   "execution_count": null,
   "metadata": {},
   "outputs": [
    {
     "name": "stdout",
     "output_type": "stream",
     "text": [
      "<class 'pandas.core.frame.DataFrame'>\n",
      "Int64Index: 10014 entries, 0 to 16706\n",
      "Data columns (total 11 columns):\n",
      " #   Column           Non-Null Count  Dtype  \n",
      "---  ------           --------------  -----  \n",
      " 0   name             10014 non-null  object \n",
      " 1   platform         10014 non-null  object \n",
      " 2   year_of_release  10014 non-null  int64  \n",
      " 3   genre            10014 non-null  object \n",
      " 4   na_sales         10014 non-null  float64\n",
      " 5   eu_sales         10014 non-null  float64\n",
      " 6   jp_sales         10014 non-null  float64\n",
      " 7   other_sales      10014 non-null  float64\n",
      " 8   critic_score     8099 non-null   float64\n",
      " 9   user_score       10014 non-null  float64\n",
      " 10  rating           9878 non-null   object \n",
      "dtypes: float64(6), int64(1), object(4)\n",
      "memory usage: 938.8+ KB\n"
     ]
    }
   ],
   "source": [
    "#Se eliminan las filas con valores ausentes presente en la columnaa user_score\n",
    "game.dropna(subset=['user_score'], inplace=True)\n",
    "#Se observa rapidamente cuales valores ausentes aun tenemos presentes\n",
    "game.info()"
   ]
  },
  {
   "cell_type": "markdown",
   "metadata": {},
   "source": [
    "En este caso se observa que la columna de critic_score y  de rating tiene aun valores ausentes , por lo que se procedera a analizarlos"
   ]
  },
  {
   "cell_type": "code",
   "execution_count": null,
   "metadata": {},
   "outputs": [
    {
     "data": {
      "text/plain": [
       "136"
      ]
     },
     "execution_count": 15,
     "metadata": {},
     "output_type": "execute_result"
    }
   ],
   "source": [
    "#Primero la columna de rating \n",
    "game['rating'].isna().sum()"
   ]
  },
  {
   "cell_type": "markdown",
   "metadata": {},
   "source": [
    "Como es una columna categorica , los valores ausentes seran reemplazados por la moda. Y una ves finalizado esto , se tendran los datos limpios para poder analizarlos."
   ]
  },
  {
   "cell_type": "code",
   "execution_count": null,
   "metadata": {},
   "outputs": [
    {
     "data": {
      "text/plain": [
       "0    E\n",
       "dtype: object"
      ]
     },
     "execution_count": 16,
     "metadata": {},
     "output_type": "execute_result"
    }
   ],
   "source": [
    "#Se observa la moda\n",
    "game['rating'].mode()"
   ]
  },
  {
   "cell_type": "code",
   "execution_count": null,
   "metadata": {},
   "outputs": [
    {
     "name": "stdout",
     "output_type": "stream",
     "text": [
      "<class 'pandas.core.frame.DataFrame'>\n",
      "Int64Index: 10014 entries, 0 to 16706\n",
      "Data columns (total 11 columns):\n",
      " #   Column           Non-Null Count  Dtype  \n",
      "---  ------           --------------  -----  \n",
      " 0   name             10014 non-null  object \n",
      " 1   platform         10014 non-null  object \n",
      " 2   year_of_release  10014 non-null  int64  \n",
      " 3   genre            10014 non-null  object \n",
      " 4   na_sales         10014 non-null  float64\n",
      " 5   eu_sales         10014 non-null  float64\n",
      " 6   jp_sales         10014 non-null  float64\n",
      " 7   other_sales      10014 non-null  float64\n",
      " 8   critic_score     8099 non-null   float64\n",
      " 9   user_score       10014 non-null  float64\n",
      " 10  rating           10014 non-null  object \n",
      "dtypes: float64(6), int64(1), object(4)\n",
      "memory usage: 938.8+ KB\n"
     ]
    },
    {
     "data": {
      "text/plain": [
       "0"
      ]
     },
     "execution_count": 17,
     "metadata": {},
     "output_type": "execute_result"
    }
   ],
   "source": [
    "#se reemplaza la columna con el valor de la moda\n",
    "game['rating'].fillna('E', inplace=True)\n",
    "#se obesrva que ya no existan valores ausentes en las columnas\n",
    "game.info()\n",
    "#contar valores duplicados en las columnas\n",
    "game.duplicated().sum()"
   ]
  },
  {
   "cell_type": "code",
   "execution_count": null,
   "metadata": {},
   "outputs": [
    {
     "data": {
      "text/plain": [
       "1915"
      ]
     },
     "execution_count": 18,
     "metadata": {},
     "output_type": "execute_result"
    }
   ],
   "source": [
    "#Ahora se analizara la columna critic_score\n",
    "game['critic_score'].isna().sum()"
   ]
  },
  {
   "cell_type": "markdown",
   "metadata": {},
   "source": [
    "Es una columna que tiene 1915 valores ausentes. Para este caso estos valores ausentes seran reemplazados por la mediana."
   ]
  },
  {
   "cell_type": "code",
   "execution_count": null,
   "metadata": {},
   "outputs": [
    {
     "data": {
      "text/plain": [
       "71.0"
      ]
     },
     "execution_count": 19,
     "metadata": {},
     "output_type": "execute_result"
    }
   ],
   "source": [
    "#Calculo de la mediana\n",
    "game['critic_score'].median()"
   ]
  },
  {
   "cell_type": "code",
   "execution_count": null,
   "metadata": {},
   "outputs": [],
   "source": [
    "#Reemplazando los valores\n",
    "game['critic_score'].fillna(71 , inplace=True)"
   ]
  },
  {
   "cell_type": "code",
   "execution_count": null,
   "metadata": {},
   "outputs": [
    {
     "name": "stdout",
     "output_type": "stream",
     "text": [
      "<class 'pandas.core.frame.DataFrame'>\n",
      "Int64Index: 10014 entries, 0 to 16706\n",
      "Data columns (total 11 columns):\n",
      " #   Column           Non-Null Count  Dtype  \n",
      "---  ------           --------------  -----  \n",
      " 0   name             10014 non-null  object \n",
      " 1   platform         10014 non-null  object \n",
      " 2   year_of_release  10014 non-null  int64  \n",
      " 3   genre            10014 non-null  object \n",
      " 4   na_sales         10014 non-null  float64\n",
      " 5   eu_sales         10014 non-null  float64\n",
      " 6   jp_sales         10014 non-null  float64\n",
      " 7   other_sales      10014 non-null  float64\n",
      " 8   critic_score     10014 non-null  float64\n",
      " 9   user_score       10014 non-null  float64\n",
      " 10  rating           10014 non-null  object \n",
      "dtypes: float64(6), int64(1), object(4)\n",
      "memory usage: 938.8+ KB\n"
     ]
    },
    {
     "data": {
      "text/plain": [
       "0"
      ]
     },
     "execution_count": 21,
     "metadata": {},
     "output_type": "execute_result"
    }
   ],
   "source": [
    "#se obesrva que ya no existan valores ausentes en las columnas\n",
    "game.info()\n",
    "#contar valores duplicados en las columnas\n",
    "game.duplicated().sum()"
   ]
  },
  {
   "cell_type": "markdown",
   "metadata": {},
   "source": [
    "Ya se tienen listas las columnas sin valores ausentes y de igual manera se confirmo que no existian valores duplicados en el mismo , con esta informacion confirmada , se procedera a realizar el analisis respectivo."
   ]
  },
  {
   "cell_type": "code",
   "execution_count": null,
   "metadata": {},
   "outputs": [],
   "source": [
    "#se crea una nueva columna que contenga las ventas totales de todas las regiones \n",
    "game['total_sales']=game['na_sales'] + game['eu_sales'] + game['jp_sales'] "
   ]
  },
  {
   "cell_type": "code",
   "execution_count": null,
   "metadata": {},
   "outputs": [
    {
     "data": {
      "image/png": "[encoded data removed]",
      "text/plain": [
       "<Figure size 640x480 with 1 Axes>"
      ]
     },
     "metadata": {},
     "output_type": "display_data"
    }
   ],
   "source": [
    "#Se observa cuantos juegos fueron lanzados por ano\n",
    "games_year=game.groupby('year_of_release')['name'].count().reset_index(name='games_per_year')\n",
    "#se crea un grafico de barras para observar como con el pasar del tiempo ha variado los juegos lanzados por ano.\n",
    "games_year.plot(kind='bar',x='year_of_release',y='games_per_year',ylabel='games_per_year')\n",
    "plt.grid(True)"
   ]
  },
  {
   "cell_type": "markdown",
   "metadata": {},
   "source": [
    "Aqui se puede observar cuantos juegos fueron lanzados por ano, en el cual en el 2009 fue el ano donde se lanzaron mucho mas juegos , y se ha podido observar qeu ese crecimiento se vio afectado en los siguientes anos porque las ventas bajaron significativamente."
   ]
  },
  {
   "cell_type": "code",
   "execution_count": null,
   "metadata": {},
   "outputs": [
    {
     "data": {
      "text/plain": [
       "<AxesSubplot:xlabel='platform', ylabel='Millones_de_dolares'>"
      ]
     },
     "execution_count": 24,
     "metadata": {},
     "output_type": "execute_result"
    },
    {
     "data": {
      "image/png": "[encoded data removed]",
      "text/plain": [
       "<Figure size 640x480 with 1 Axes>"
      ]
     },
     "metadata": {},
     "output_type": "display_data"
    }
   ],
   "source": [
    "# se procedera a observar como varian las ventas de una plataforma u otra, para esto se realizara lo siguiente'\n",
    "sales_per_platform=game.groupby('platform')['total_sales'].sum().reset_index(name='sales_per_platform').sort_values(by='sales_per_platform', ascending=False)\n",
    "#se realiaza un grafico para observar cual ha sido la plataforma con mayores ventas y las que le sigue\n",
    "sales_per_platform.plot(kind = 'bar',x = 'platform', y = 'sales_per_platform',ylabel = 'Millones_de_dolares')\n"
   ]
  },
  {
   "cell_type": "markdown",
   "metadata": {},
   "source": [
    "Aqui se puede observar que se tiene 4 principales plataformas con mayores ventas que superan los 800 millones de ventas , entre las cuales esta el PS2, X360 X PS3 Y EL WII. Ahora se procedera analizar cada una con un histograma para poder en que ano se hicieron populares."
   ]
  },
  {
   "cell_type": "code",
   "execution_count": null,
   "metadata": {},
   "outputs": [
    {
     "data": {
      "text/plain": [
       "(2000.0, 2005.0)"
      ]
     },
     "execution_count": 25,
     "metadata": {},
     "output_type": "execute_result"
    },
    {
     "data": {
      "image/png": "[encoded data removed]",
      "text/plain": [
       "<Figure size 640x480 with 1 Axes>"
      ]
     },
     "metadata": {},
     "output_type": "display_data"
    }
   ],
   "source": [
    "#Filtro una nueevo data frame para que en platform solo esten los de PS2\n",
    "filtro_ps2=game[game['platform']=='PS2']\n",
    "sales_ps2_year=filtro_ps2.groupby('year_of_release')['total_sales'].sum().reset_index(name='ventas')\n",
    "# Graficar una distribucion de las ventasd e ps2 a lo largo los anos.\n",
    "plt.bar(sales_ps2_year['year_of_release'], sales_ps2_year['ventas'], color='skyblue', edgecolor='black')\n",
    "plt.title('Distribución de Ventas Totales por Año (PS2)')\n",
    "plt.xlabel('Año de Lanzamiento')\n",
    "plt.ylabel('Ventas Totales')\n",
    "plt.xlim(2000, 2005)\n",
    "\n"
   ]
  },
  {
   "cell_type": "markdown",
   "metadata": {},
   "source": [
    "Para la plataforma de PS2, se puede ver que su ano de lanzamiento comenzo en el 2000 , y tuvo durante los proximos 5 anos , grandes ventas totales. Asi mismo despues de alcanzar su pico de ventas en el 2004 , fue decayendo hasta disminuir las ventas en el 2010."
   ]
  },
  {
   "cell_type": "code",
   "execution_count": null,
   "metadata": {},
   "outputs": [
    {
     "data": {
      "text/plain": [
       "(2006.0, 2011.0)"
      ]
     },
     "execution_count": 26,
     "metadata": {},
     "output_type": "execute_result"
    },
    {
     "data": {
      "image/png": "[encoded data removed]",
      "text/plain": [
       "<Figure size 640x480 with 1 Axes>"
      ]
     },
     "metadata": {},
     "output_type": "display_data"
    }
   ],
   "source": [
    "#Filtro una nueevo data frame para que en platform solo esten los de x360\n",
    "filtro_x360=game[game['platform']=='X360']\n",
    "sales_x360_year=filtro_x360.groupby('year_of_release')['total_sales'].sum().reset_index(name='ventas')\n",
    "# Graficar una distribucion de las ventasd e ps2 a lo largo los anos.\n",
    "plt.bar(sales_x360_year['year_of_release'], sales_x360_year['ventas'], color='skyblue', edgecolor='black')\n",
    "plt.title('Distribución de Ventas Totales por Año (x360)')\n",
    "plt.xlabel('Año de Lanzamiento')\n",
    "plt.ylabel('Ventas Totales')\n",
    "plt.xlim(2006, 2011)"
   ]
  },
  {
   "cell_type": "markdown",
   "metadata": {},
   "source": [
    "Para la plataforma de X360, se puede ver que su ano de lanzamiento comenzo en el 2005 con pocas ventas, luego sus ventas despegaron en el 2007 y 2008 , despues de esto sus ventas disminuyeron en el 2009 pero luego alcanzo su pico en el 2010 , donde posterior a esto ya sus ventas fueron disminuyendo.\n",
    "\n"
   ]
  },
  {
   "cell_type": "code",
   "execution_count": null,
   "metadata": {},
   "outputs": [
    {
     "data": {
      "text/plain": [
       "(2006.0, 2011.0)"
      ]
     },
     "execution_count": 27,
     "metadata": {},
     "output_type": "execute_result"
    },
    {
     "data": {
      "image/png": "[encoded data removed]",
      "text/plain": [
       "<Figure size 640x480 with 1 Axes>"
      ]
     },
     "metadata": {},
     "output_type": "display_data"
    }
   ],
   "source": [
    "#Se filtra una nueva variable para que solo esten presente los de PS3\n",
    "filtro_ps3 = game[game['platform'] == 'PS3']\n",
    "sales_ps3_year = filtro_ps3.groupby('year_of_release')['total_sales'].sum().reset_index(name='ventas')\n",
    "#se grafica un grafico de barras para poder ver la distribucion de las ventas por anos\n",
    "plt.bar(sales_ps3_year['year_of_release'], sales_ps3_year['ventas'] , color='skyblue', edgecolor='black')\n",
    "plt.title('Distribución de Ventas Totales por Año (PS3)')\n",
    "plt.xlabel('Año de Lanzamiento')\n",
    "plt.ylabel('Ventas Totales')\n",
    "\n",
    "plt.xlim(2006, 2011)"
   ]
  },
  {
   "cell_type": "markdown",
   "metadata": {},
   "source": [
    "Para la plataforma de PS3, se puede ver que su ano de lanzamiento comenzo en el 2006 , y sus mejores ventas las desarrollo entre el 2008 y el 2011. Luego de su pico en el 2011 , las ventas decayeron en el 2012 pero luego aumento un pequeno porcentaje en el 2013 y en los proximos anos siguio cayendo."
   ]
  },
  {
   "cell_type": "code",
   "execution_count": null,
   "metadata": {},
   "outputs": [
    {
     "data": {
      "text/plain": [
       "(2005.0, 2020.0)"
      ]
     },
     "execution_count": 28,
     "metadata": {},
     "output_type": "execute_result"
    },
    {
     "data": {
      "image/png": "[encoded data removed]",
      "text/plain": [
       "<Figure size 640x480 with 1 Axes>"
      ]
     },
     "metadata": {},
     "output_type": "display_data"
    }
   ],
   "source": [
    "#Se crea un nuevo dataframe para filtrar ahora para la plataforma de wii\n",
    "filtro_wii = game[game['platform'] == 'Wii']\n",
    "#se agrupara para ver segun las ventas totales con el ano de lanzamiento\n",
    "sales_wii_year = filtro_wii.groupby('year_of_release')['total_sales'].sum().reset_index(name='ventas')\n",
    "#se grafica un grafico de barras para poder ver la distribucion de las ventas por anos\n",
    "plt.bar(sales_wii_year['year_of_release'], sales_wii_year['ventas'] , color='skyblue', edgecolor='black')\n",
    "plt.title('Distribución de Ventas Totales por Año (Wii)')\n",
    "plt.xlabel('Año de Lanzamiento')\n",
    "plt.ylabel('Ventas Totales')\n",
    "plt.xlim(2005, 2020)"
   ]
  },
  {
   "cell_type": "markdown",
   "metadata": {},
   "source": [
    "Para la plataforma de WII, se puede ver que su ano de lanzamiento comenzo en el 2006 con buenas ventas , y estas aumentando hasta el 2009 donde alcanzo su pico de ventas. Luego fueron decayendo sus ventas en los proximos anos hasta el 2016.\n",
    "\n",
    "Es importante mencionar que para el analisis de estas plataforma , se ha podido observar que el periodo de existencia de las plataformas tiene un promedio de 10 anos de duracion. Desde que tiene su lanzamiento hasta desaparecer , generando minimas ventas que son insignificativas."
   ]
  },
  {
   "cell_type": "code",
   "execution_count": null,
   "metadata": {},
   "outputs": [
    {
     "data": {
      "text/html": [
       "<div>\n",
       "<style scoped>\n",
       "    .dataframe tbody tr th:only-of-type {\n",
       "        vertical-align: middle;\n",
       "    }\n",
       "\n",
       "    .dataframe tbody tr th {\n",
       "        vertical-align: top;\n",
       "    }\n",
       "\n",
       "    .dataframe thead th {\n",
       "        text-align: right;\n",
       "    }\n",
       "</style>\n",
       "<table border=\"1\" class=\"dataframe\">\n",
       "  <thead>\n",
       "    <tr style=\"text-align: right;\">\n",
       "      <th></th>\n",
       "      <th>year_of_release</th>\n",
       "      <th>na_sales</th>\n",
       "      <th>eu_sales</th>\n",
       "      <th>jp_sales</th>\n",
       "      <th>other_sales</th>\n",
       "      <th>critic_score</th>\n",
       "      <th>user_score</th>\n",
       "      <th>total_sales</th>\n",
       "    </tr>\n",
       "  </thead>\n",
       "  <tbody>\n",
       "    <tr>\n",
       "      <th>count</th>\n",
       "      <td>10014.000000</td>\n",
       "      <td>10014.000000</td>\n",
       "      <td>10014.000000</td>\n",
       "      <td>10014.000000</td>\n",
       "      <td>10014.000000</td>\n",
       "      <td>10014.000000</td>\n",
       "      <td>10014.000000</td>\n",
       "      <td>10014.000000</td>\n",
       "    </tr>\n",
       "    <tr>\n",
       "      <th>mean</th>\n",
       "      <td>2007.618734</td>\n",
       "      <td>0.315357</td>\n",
       "      <td>0.180990</td>\n",
       "      <td>0.045448</td>\n",
       "      <td>0.064011</td>\n",
       "      <td>69.362692</td>\n",
       "      <td>7.215808</td>\n",
       "      <td>0.541795</td>\n",
       "    </tr>\n",
       "    <tr>\n",
       "      <th>std</th>\n",
       "      <td>4.080538</td>\n",
       "      <td>0.818004</td>\n",
       "      <td>0.580825</td>\n",
       "      <td>0.240079</td>\n",
       "      <td>0.227530</td>\n",
       "      <td>12.557089</td>\n",
       "      <td>1.315720</td>\n",
       "      <td>1.479349</td>\n",
       "    </tr>\n",
       "    <tr>\n",
       "      <th>min</th>\n",
       "      <td>1985.000000</td>\n",
       "      <td>0.000000</td>\n",
       "      <td>0.000000</td>\n",
       "      <td>0.000000</td>\n",
       "      <td>0.000000</td>\n",
       "      <td>13.000000</td>\n",
       "      <td>0.000000</td>\n",
       "      <td>0.000000</td>\n",
       "    </tr>\n",
       "    <tr>\n",
       "      <th>25%</th>\n",
       "      <td>2005.000000</td>\n",
       "      <td>0.050000</td>\n",
       "      <td>0.010000</td>\n",
       "      <td>0.000000</td>\n",
       "      <td>0.010000</td>\n",
       "      <td>63.000000</td>\n",
       "      <td>6.800000</td>\n",
       "      <td>0.080000</td>\n",
       "    </tr>\n",
       "    <tr>\n",
       "      <th>50%</th>\n",
       "      <td>2008.000000</td>\n",
       "      <td>0.120000</td>\n",
       "      <td>0.040000</td>\n",
       "      <td>0.000000</td>\n",
       "      <td>0.020000</td>\n",
       "      <td>71.000000</td>\n",
       "      <td>7.500000</td>\n",
       "      <td>0.190000</td>\n",
       "    </tr>\n",
       "    <tr>\n",
       "      <th>75%</th>\n",
       "      <td>2010.000000</td>\n",
       "      <td>0.300000</td>\n",
       "      <td>0.150000</td>\n",
       "      <td>0.000000</td>\n",
       "      <td>0.050000</td>\n",
       "      <td>77.000000</td>\n",
       "      <td>8.000000</td>\n",
       "      <td>0.500000</td>\n",
       "    </tr>\n",
       "    <tr>\n",
       "      <th>max</th>\n",
       "      <td>2016.000000</td>\n",
       "      <td>41.360000</td>\n",
       "      <td>28.960000</td>\n",
       "      <td>6.500000</td>\n",
       "      <td>10.570000</td>\n",
       "      <td>98.000000</td>\n",
       "      <td>9.700000</td>\n",
       "      <td>74.090000</td>\n",
       "    </tr>\n",
       "  </tbody>\n",
       "</table>\n",
       "</div>"
      ],
      "text/plain": [
       "       year_of_release      na_sales      eu_sales      jp_sales  \\\n",
       "count     10014.000000  10014.000000  10014.000000  10014.000000   \n",
       "mean       2007.618734      0.315357      0.180990      0.045448   \n",
       "std           4.080538      0.818004      0.580825      0.240079   \n",
       "min        1985.000000      0.000000      0.000000      0.000000   \n",
       "25%        2005.000000      0.050000      0.010000      0.000000   \n",
       "50%        2008.000000      0.120000      0.040000      0.000000   \n",
       "75%        2010.000000      0.300000      0.150000      0.000000   \n",
       "max        2016.000000     41.360000     28.960000      6.500000   \n",
       "\n",
       "        other_sales  critic_score    user_score   total_sales  \n",
       "count  10014.000000  10014.000000  10014.000000  10014.000000  \n",
       "mean       0.064011     69.362692      7.215808      0.541795  \n",
       "std        0.227530     12.557089      1.315720      1.479349  \n",
       "min        0.000000     13.000000      0.000000      0.000000  \n",
       "25%        0.010000     63.000000      6.800000      0.080000  \n",
       "50%        0.020000     71.000000      7.500000      0.190000  \n",
       "75%        0.050000     77.000000      8.000000      0.500000  \n",
       "max       10.570000     98.000000      9.700000     74.090000  "
      ]
     },
     "execution_count": 29,
     "metadata": {},
     "output_type": "execute_result"
    }
   ],
   "source": [
    "game.describe()"
   ]
  },
  {
   "cell_type": "code",
   "execution_count": null,
   "metadata": {},
   "outputs": [
    {
     "data": {
      "image/png": "[encoded data removed]",
      "text/plain": [
       "<Figure size 1200x800 with 1 Axes>"
      ]
     },
     "metadata": {},
     "output_type": "display_data"
    }
   ],
   "source": [
    "#Se va a crear un diagrama de caja y bigotes para todas las plataformas\n",
    "plt.figure(figsize=(12, 8))\n",
    "\n",
    "# Crear el diagrama de caja usando las columnas de platform y total_sales\n",
    "sns.boxplot(data=game, x='platform', y='total_sales')\n",
    "\n",
    "# Añadir título y etiquetas\n",
    "plt.title('Distribución de Ventas Globales por Plataforma')\n",
    "plt.xlabel('Plataforma')\n",
    "plt.ylabel('Ventas Globales')\n",
    "#plt.ylim(0, 6)\n",
    "# Rotar etiquetas del eje x para mejor visualización si es necesario\n",
    "plt.xticks(rotation=45)\n",
    "\n",
    "# Mostrar el gráfico\n",
    "plt.show()"
   ]
  },
  {
   "cell_type": "markdown",
   "metadata": {},
   "source": [
    "En el diagrama de caja y bigotes de las ventas globales por plataforma, se observa la distribución de las ventas para cada plataforma, mostrando cuartiles, medianas y outliers. Las cajas representan la variabilidad intercuartílica, mientras que los bigotes indican el rango de datos dentro de 1.5 veces el rango intercuartílico. Las diferencias significativas en la mediana entre plataformas sugieren variaciones en el desempeño de ventas, con algunas plataformas mostrando mayores fluctuaciones y valores atípicos. Analizar estos diagramas ayuda a identificar plataformas con ventas más estables o extremas, ofreciendo una visión clara de la distribución y el comportamiento de ventas."
   ]
  },
  {
   "cell_type": "markdown",
   "metadata": {},
   "source": [
    "Mira cómo las reseñas de usuarios y profesionales afectan las ventas de una plataforma popular (tu elección). Crea un gráfico de dispersión y calcula la correlación entre las reseñas y las ventas. Saca conclusiones."
   ]
  },
  {
   "cell_type": "code",
   "execution_count": null,
   "metadata": {},
   "outputs": [
    {
     "data": {
      "image/png": "[encoded data removed]",
      "text/plain": [
       "<Figure size 640x480 with 1 Axes>"
      ]
     },
     "metadata": {},
     "output_type": "display_data"
    },
    {
     "name": "stdout",
     "output_type": "stream",
     "text": [
      "La correlacion es igual a: 0.23398013575653853\n"
     ]
    }
   ],
   "source": [
    "#Para este caso se va a tomar en cuenta las ventas de PS3.\n",
    "#En este dataframe solo se tiene la tabla con la plataforma especificada en filtro_ps3\n",
    "filtro_ps3 \n",
    "#se crea un nuevo dataframe el cual este agrupado por critic_score y user_sore \n",
    "resenas_usu_pro=filtro_ps3.groupby(['critic_score','user_score'])['total_sales'].sum().reset_index()\n",
    "#Se crea el grafico de dispersion \n",
    "plt.scatter(resenas_usu_pro['user_score'], resenas_usu_pro['critic_score'], alpha=0.5, c='blue', edgecolors='w', linewidth=0.5)\n",
    "\n",
    "# Añadir título y etiquetas\n",
    "plt.title('Diagrama de Dispersión de Ventas Totales en Función de Critic Score y User Score')\n",
    "plt.xlabel('User Score')\n",
    "plt.ylabel('Critic Score')\n",
    "\n",
    "# Mostrar la gráfica\n",
    "plt.grid(True)\n",
    "plt.show()\n",
    "correlacion=game['critic_score'].corr(game['total_sales'])\n",
    "print(f'La correlacion es igual a: {correlacion}')"
   ]
  },
  {
   "cell_type": "markdown",
   "metadata": {},
   "source": [
    "Se puede ver que la correlacion que existe entre los comentarios de los usuarios y las ventas es baja.\n",
    "\n",
    "Ahora se procedera a analizar los juegos mas vendidos y de igual manera que juegos se han vendido mas en cada plataforma con mayres ventas."
   ]
  },
  {
   "cell_type": "code",
   "execution_count": null,
   "metadata": {},
   "outputs": [
    {
     "data": {
      "image/png": "[encoded data removed]",
      "text/plain": [
       "<Figure size 640x480 with 1 Axes>"
      ]
     },
     "metadata": {},
     "output_type": "display_data"
    },
    {
     "name": "stdout",
     "output_type": "stream",
     "text": [
      "La correlacion es igual a: 0.07075927247172466\n"
     ]
    }
   ],
   "source": [
    "# para user score\n",
    "#Para este caso se va a tomar en cuenta las ventas de PS3.\n",
    "#En este dataframe solo se tiene la tabla con la plataforma especificada en filtro_ps3\n",
    "filtro_ps3 \n",
    "#se crea un nuevo dataframe el cual este agrupado por critic_score y user_sore \n",
    "resenas_usu_sales=filtro_ps3.groupby('user_score')['total_sales'].sum().reset_index()\n",
    "#Se crea el grafico de dispersion \n",
    "plt.scatter(resenas_usu_sales['user_score'], resenas_usu_sales['total_sales'], alpha=0.5, c='blue', edgecolors='w', linewidth=0.5)\n",
    "\n",
    "# Añadir título y etiquetas\n",
    "plt.title('Diagrama de Dispersión de Ventas Totales en Función de Critic Score y User Score')\n",
    "plt.xlabel('User Score')\n",
    "plt.ylabel('Total Sales')\n",
    "\n",
    "# Mostrar la gráfica\n",
    "plt.grid(True)\n",
    "plt.show()\n",
    "correlacion=game['user_score'].corr(game['total_sales'])\n",
    "print(f'La correlacion es igual a: {correlacion}')"
   ]
  },
  {
   "cell_type": "code",
   "execution_count": null,
   "metadata": {},
   "outputs": [
    {
     "data": {
      "image/png": "[encoded data removed]",
      "text/plain": [
       "<Figure size 640x480 with 1 Axes>"
      ]
     },
     "metadata": {},
     "output_type": "display_data"
    },
    {
     "name": "stdout",
     "output_type": "stream",
     "text": [
      "La correlacion es igual a: 0.23398013575653853\n"
     ]
    }
   ],
   "source": [
    "# para critic_score\n",
    "#Para este caso se va a tomar en cuenta las ventas de PS3.\n",
    "#En este dataframe solo se tiene la tabla con la plataforma especificada en filtro_ps3\n",
    "filtro_ps3 \n",
    "#se crea un nuevo dataframe el cual este agrupado por critic_score y user_sore \n",
    "resenas_cri_sales=filtro_ps3.groupby('critic_score')['total_sales'].sum().reset_index()\n",
    "#Se crea el grafico de dispersion \n",
    "plt.scatter(resenas_cri_sales['critic_score'], resenas_cri_sales['total_sales'], alpha=0.5, c='blue', edgecolors='w', linewidth=0.5)\n",
    "\n",
    "# Añadir título y etiquetas\n",
    "plt.title('Diagrama de Dispersión de Ventas Totales en Función de Critic Score y User Score')\n",
    "plt.xlabel('Critic Score')\n",
    "plt.ylabel('Total Sales')\n",
    "\n",
    "# Mostrar la gráfica\n",
    "plt.grid(True)\n",
    "plt.show()\n",
    "correlacion=game['critic_score'].corr(game['total_sales'])\n",
    "print(f'La correlacion es igual a: {correlacion}')"
   ]
  },
  {
   "cell_type": "code",
   "execution_count": null,
   "metadata": {},
   "outputs": [],
   "source": [
    "#Se agrupa los videos juegos por sus ventas \n",
    "game_sales = game.groupby('name')['total_sales'].sum().reset_index().sort_values(by='total_sales', ascending=False)"
   ]
  },
  {
   "cell_type": "code",
   "execution_count": null,
   "metadata": {},
   "outputs": [
    {
     "data": {
      "text/html": [
       "<div>\n",
       "<style scoped>\n",
       "    .dataframe tbody tr th:only-of-type {\n",
       "        vertical-align: middle;\n",
       "    }\n",
       "\n",
       "    .dataframe tbody tr th {\n",
       "        vertical-align: top;\n",
       "    }\n",
       "\n",
       "    .dataframe thead th {\n",
       "        text-align: right;\n",
       "    }\n",
       "</style>\n",
       "<table border=\"1\" class=\"dataframe\">\n",
       "  <thead>\n",
       "    <tr style=\"text-align: right;\">\n",
       "      <th></th>\n",
       "      <th>name</th>\n",
       "      <th>total_sales</th>\n",
       "    </tr>\n",
       "  </thead>\n",
       "  <tbody>\n",
       "    <tr>\n",
       "      <th>5882</th>\n",
       "      <td>Wii Sports</td>\n",
       "      <td>74.09</td>\n",
       "    </tr>\n",
       "    <tr>\n",
       "      <th>2102</th>\n",
       "      <td>Grand Theft Auto V</td>\n",
       "      <td>48.68</td>\n",
       "    </tr>\n",
       "    <tr>\n",
       "      <th>2982</th>\n",
       "      <td>Mario Kart Wii</td>\n",
       "      <td>32.23</td>\n",
       "    </tr>\n",
       "    <tr>\n",
       "      <th>5884</th>\n",
       "      <td>Wii Sports Resort</td>\n",
       "      <td>29.82</td>\n",
       "    </tr>\n",
       "    <tr>\n",
       "      <th>708</th>\n",
       "      <td>Call of Duty: Black Ops</td>\n",
       "      <td>27.51</td>\n",
       "    </tr>\n",
       "    <tr>\n",
       "      <th>714</th>\n",
       "      <td>Call of Duty: Modern Warfare 3</td>\n",
       "      <td>27.31</td>\n",
       "    </tr>\n",
       "    <tr>\n",
       "      <th>3632</th>\n",
       "      <td>New Super Mario Bros.</td>\n",
       "      <td>26.92</td>\n",
       "    </tr>\n",
       "    <tr>\n",
       "      <th>3635</th>\n",
       "      <td>New Super Mario Bros. Wii</td>\n",
       "      <td>26.08</td>\n",
       "    </tr>\n",
       "    <tr>\n",
       "      <th>5880</th>\n",
       "      <td>Wii Play</td>\n",
       "      <td>26.07</td>\n",
       "    </tr>\n",
       "    <tr>\n",
       "      <th>709</th>\n",
       "      <td>Call of Duty: Black Ops II</td>\n",
       "      <td>25.64</td>\n",
       "    </tr>\n",
       "  </tbody>\n",
       "</table>\n",
       "</div>"
      ],
      "text/plain": [
       "                                name  total_sales\n",
       "5882                      Wii Sports        74.09\n",
       "2102              Grand Theft Auto V        48.68\n",
       "2982                  Mario Kart Wii        32.23\n",
       "5884               Wii Sports Resort        29.82\n",
       "708          Call of Duty: Black Ops        27.51\n",
       "714   Call of Duty: Modern Warfare 3        27.31\n",
       "3632           New Super Mario Bros.        26.92\n",
       "3635       New Super Mario Bros. Wii        26.08\n",
       "5880                        Wii Play        26.07\n",
       "709       Call of Duty: Black Ops II        25.64"
      ]
     },
     "execution_count": 35,
     "metadata": {},
     "output_type": "execute_result"
    }
   ],
   "source": [
    "game_sales.head(10)"
   ]
  },
  {
   "cell_type": "markdown",
   "metadata": {},
   "source": [
    "En este caso se puede observar los 10 juegos mas vendidos sin tener en cuenta alguna plataforma en especifico. Ahora se va a ver cuales son los juegos mas vendidos para las 4 plataformas que hay."
   ]
  },
  {
   "cell_type": "code",
   "execution_count": null,
   "metadata": {},
   "outputs": [
    {
     "data": {
      "text/html": [
       "<div>\n",
       "<style scoped>\n",
       "    .dataframe tbody tr th:only-of-type {\n",
       "        vertical-align: middle;\n",
       "    }\n",
       "\n",
       "    .dataframe tbody tr th {\n",
       "        vertical-align: top;\n",
       "    }\n",
       "\n",
       "    .dataframe thead th {\n",
       "        text-align: right;\n",
       "    }\n",
       "</style>\n",
       "<table border=\"1\" class=\"dataframe\">\n",
       "  <thead>\n",
       "    <tr style=\"text-align: right;\">\n",
       "      <th></th>\n",
       "      <th>name</th>\n",
       "      <th>total_sales</th>\n",
       "    </tr>\n",
       "  </thead>\n",
       "  <tbody>\n",
       "    <tr>\n",
       "      <th>465</th>\n",
       "      <td>Grand Theft Auto: Vice City</td>\n",
       "      <td>14.37</td>\n",
       "    </tr>\n",
       "    <tr>\n",
       "      <th>459</th>\n",
       "      <td>Gran Turismo 3: A-Spec</td>\n",
       "      <td>13.81</td>\n",
       "    </tr>\n",
       "    <tr>\n",
       "      <th>462</th>\n",
       "      <td>Grand Theft Auto III</td>\n",
       "      <td>11.80</td>\n",
       "    </tr>\n",
       "    <tr>\n",
       "      <th>464</th>\n",
       "      <td>Grand Theft Auto: San Andreas</td>\n",
       "      <td>10.24</td>\n",
       "    </tr>\n",
       "    <tr>\n",
       "      <th>381</th>\n",
       "      <td>Final Fantasy X</td>\n",
       "      <td>7.71</td>\n",
       "    </tr>\n",
       "    <tr>\n",
       "      <th>595</th>\n",
       "      <td>Kingdom Hearts</td>\n",
       "      <td>6.33</td>\n",
       "    </tr>\n",
       "    <tr>\n",
       "      <th>879</th>\n",
       "      <td>Need for Speed Underground</td>\n",
       "      <td>6.18</td>\n",
       "    </tr>\n",
       "    <tr>\n",
       "      <th>700</th>\n",
       "      <td>Medal of Honor: Frontline</td>\n",
       "      <td>5.85</td>\n",
       "    </tr>\n",
       "    <tr>\n",
       "      <th>880</th>\n",
       "      <td>Need for Speed Underground 2</td>\n",
       "      <td>5.81</td>\n",
       "    </tr>\n",
       "    <tr>\n",
       "      <th>711</th>\n",
       "      <td>Metal Gear Solid 2: Sons of Liberty</td>\n",
       "      <td>5.33</td>\n",
       "    </tr>\n",
       "  </tbody>\n",
       "</table>\n",
       "</div>"
      ],
      "text/plain": [
       "                                    name  total_sales\n",
       "465          Grand Theft Auto: Vice City        14.37\n",
       "459               Gran Turismo 3: A-Spec        13.81\n",
       "462                 Grand Theft Auto III        11.80\n",
       "464        Grand Theft Auto: San Andreas        10.24\n",
       "381                      Final Fantasy X         7.71\n",
       "595                       Kingdom Hearts         6.33\n",
       "879           Need for Speed Underground         6.18\n",
       "700            Medal of Honor: Frontline         5.85\n",
       "880         Need for Speed Underground 2         5.81\n",
       "711  Metal Gear Solid 2: Sons of Liberty         5.33"
      ]
     },
     "execution_count": 36,
     "metadata": {},
     "output_type": "execute_result"
    }
   ],
   "source": [
    "#Se crea para filtro ps2 \n",
    "game_filtro_ps2=filtro_ps2.groupby('name')['total_sales'].sum().reset_index().sort_values(by= 'total_sales', ascending=False)\n",
    "game_filtro_ps2.head(10)"
   ]
  },
  {
   "cell_type": "markdown",
   "metadata": {},
   "source": [
    "Se ven los 10 juegos mas vendidos para el PS2 , El cual destaca GTA:San Andreas"
   ]
  },
  {
   "cell_type": "code",
   "execution_count": null,
   "metadata": {},
   "outputs": [
    {
     "data": {
      "text/html": [
       "<div>\n",
       "<style scoped>\n",
       "    .dataframe tbody tr th:only-of-type {\n",
       "        vertical-align: middle;\n",
       "    }\n",
       "\n",
       "    .dataframe tbody tr th {\n",
       "        vertical-align: top;\n",
       "    }\n",
       "\n",
       "    .dataframe thead th {\n",
       "        text-align: right;\n",
       "    }\n",
       "</style>\n",
       "<table border=\"1\" class=\"dataframe\">\n",
       "  <thead>\n",
       "    <tr style=\"text-align: right;\">\n",
       "      <th></th>\n",
       "      <th>name</th>\n",
       "      <th>total_sales</th>\n",
       "    </tr>\n",
       "  </thead>\n",
       "  <tbody>\n",
       "    <tr>\n",
       "      <th>447</th>\n",
       "      <td>Kinect Adventures!</td>\n",
       "      <td>20.13</td>\n",
       "    </tr>\n",
       "    <tr>\n",
       "      <th>369</th>\n",
       "      <td>Grand Theft Auto V</td>\n",
       "      <td>14.86</td>\n",
       "    </tr>\n",
       "    <tr>\n",
       "      <th>134</th>\n",
       "      <td>Call of Duty: Black Ops</td>\n",
       "      <td>13.49</td>\n",
       "    </tr>\n",
       "    <tr>\n",
       "      <th>138</th>\n",
       "      <td>Call of Duty: Modern Warfare 3</td>\n",
       "      <td>13.41</td>\n",
       "    </tr>\n",
       "    <tr>\n",
       "      <th>135</th>\n",
       "      <td>Call of Duty: Black Ops II</td>\n",
       "      <td>12.56</td>\n",
       "    </tr>\n",
       "    <tr>\n",
       "      <th>137</th>\n",
       "      <td>Call of Duty: Modern Warfare 2</td>\n",
       "      <td>12.19</td>\n",
       "    </tr>\n",
       "    <tr>\n",
       "      <th>387</th>\n",
       "      <td>Halo 3</td>\n",
       "      <td>10.91</td>\n",
       "    </tr>\n",
       "    <tr>\n",
       "      <th>368</th>\n",
       "      <td>Grand Theft Auto IV</td>\n",
       "      <td>9.97</td>\n",
       "    </tr>\n",
       "    <tr>\n",
       "      <th>136</th>\n",
       "      <td>Call of Duty: Ghosts</td>\n",
       "      <td>9.33</td>\n",
       "    </tr>\n",
       "    <tr>\n",
       "      <th>392</th>\n",
       "      <td>Halo: Reach</td>\n",
       "      <td>9.07</td>\n",
       "    </tr>\n",
       "  </tbody>\n",
       "</table>\n",
       "</div>"
      ],
      "text/plain": [
       "                               name  total_sales\n",
       "447              Kinect Adventures!        20.13\n",
       "369              Grand Theft Auto V        14.86\n",
       "134         Call of Duty: Black Ops        13.49\n",
       "138  Call of Duty: Modern Warfare 3        13.41\n",
       "135      Call of Duty: Black Ops II        12.56\n",
       "137  Call of Duty: Modern Warfare 2        12.19\n",
       "387                          Halo 3        10.91\n",
       "368             Grand Theft Auto IV         9.97\n",
       "136            Call of Duty: Ghosts         9.33\n",
       "392                     Halo: Reach         9.07"
      ]
     },
     "execution_count": 37,
     "metadata": {},
     "output_type": "execute_result"
    }
   ],
   "source": [
    "#Se crea para filtro X360\n",
    "game_filtro_x360=filtro_x360.groupby('name')['total_sales'].sum().reset_index().sort_values(by= 'total_sales', ascending=False)\n",
    "game_filtro_x360.head(10)"
   ]
  },
  {
   "cell_type": "markdown",
   "metadata": {},
   "source": [
    "Se ven los 10 juegos mas vendidos para el  x360 , El cual destaca kinect Adventures!"
   ]
  },
  {
   "cell_type": "code",
   "execution_count": null,
   "metadata": {},
   "outputs": [
    {
     "data": {
      "text/html": [
       "<div>\n",
       "<style scoped>\n",
       "    .dataframe tbody tr th:only-of-type {\n",
       "        vertical-align: middle;\n",
       "    }\n",
       "\n",
       "    .dataframe tbody tr th {\n",
       "        vertical-align: top;\n",
       "    }\n",
       "\n",
       "    .dataframe thead th {\n",
       "        text-align: right;\n",
       "    }\n",
       "</style>\n",
       "<table border=\"1\" class=\"dataframe\">\n",
       "  <thead>\n",
       "    <tr style=\"text-align: right;\">\n",
       "      <th></th>\n",
       "      <th>name</th>\n",
       "      <th>total_sales</th>\n",
       "    </tr>\n",
       "  </thead>\n",
       "  <tbody>\n",
       "    <tr>\n",
       "      <th>318</th>\n",
       "      <td>Grand Theft Auto V</td>\n",
       "      <td>17.09</td>\n",
       "    </tr>\n",
       "    <tr>\n",
       "      <th>117</th>\n",
       "      <td>Call of Duty: Modern Warfare 3</td>\n",
       "      <td>11.76</td>\n",
       "    </tr>\n",
       "    <tr>\n",
       "      <th>114</th>\n",
       "      <td>Call of Duty: Black Ops II</td>\n",
       "      <td>11.37</td>\n",
       "    </tr>\n",
       "    <tr>\n",
       "      <th>113</th>\n",
       "      <td>Call of Duty: Black Ops</td>\n",
       "      <td>10.84</td>\n",
       "    </tr>\n",
       "    <tr>\n",
       "      <th>116</th>\n",
       "      <td>Call of Duty: Modern Warfare 2</td>\n",
       "      <td>9.01</td>\n",
       "    </tr>\n",
       "    <tr>\n",
       "      <th>317</th>\n",
       "      <td>Grand Theft Auto IV</td>\n",
       "      <td>8.89</td>\n",
       "    </tr>\n",
       "    <tr>\n",
       "      <th>313</th>\n",
       "      <td>Gran Turismo 5</td>\n",
       "      <td>8.59</td>\n",
       "    </tr>\n",
       "    <tr>\n",
       "      <th>115</th>\n",
       "      <td>Call of Duty: Ghosts</td>\n",
       "      <td>8.11</td>\n",
       "    </tr>\n",
       "    <tr>\n",
       "      <th>264</th>\n",
       "      <td>FIFA Soccer 13</td>\n",
       "      <td>6.20</td>\n",
       "    </tr>\n",
       "    <tr>\n",
       "      <th>56</th>\n",
       "      <td>Battlefield 3</td>\n",
       "      <td>6.09</td>\n",
       "    </tr>\n",
       "  </tbody>\n",
       "</table>\n",
       "</div>"
      ],
      "text/plain": [
       "                               name  total_sales\n",
       "318              Grand Theft Auto V        17.09\n",
       "117  Call of Duty: Modern Warfare 3        11.76\n",
       "114      Call of Duty: Black Ops II        11.37\n",
       "113         Call of Duty: Black Ops        10.84\n",
       "116  Call of Duty: Modern Warfare 2         9.01\n",
       "317             Grand Theft Auto IV         8.89\n",
       "313                  Gran Turismo 5         8.59\n",
       "115            Call of Duty: Ghosts         8.11\n",
       "264                  FIFA Soccer 13         6.20\n",
       "56                    Battlefield 3         6.09"
      ]
     },
     "execution_count": 38,
     "metadata": {},
     "output_type": "execute_result"
    }
   ],
   "source": [
    "#Se crea para filtro ps3 \n",
    "game_filtro_ps3=filtro_ps3.groupby('name')['total_sales'].sum().reset_index().sort_values(by= 'total_sales', ascending=False)\n",
    "game_filtro_ps3.head(10)"
   ]
  },
  {
   "cell_type": "markdown",
   "metadata": {},
   "source": [
    "Se ven los juegos mas vendidos para el PS3 en el cual se puede observar el GTA 5."
   ]
  },
  {
   "cell_type": "code",
   "execution_count": null,
   "metadata": {},
   "outputs": [
    {
     "data": {
      "text/html": [
       "<div>\n",
       "<style scoped>\n",
       "    .dataframe tbody tr th:only-of-type {\n",
       "        vertical-align: middle;\n",
       "    }\n",
       "\n",
       "    .dataframe tbody tr th {\n",
       "        vertical-align: top;\n",
       "    }\n",
       "\n",
       "    .dataframe thead th {\n",
       "        text-align: right;\n",
       "    }\n",
       "</style>\n",
       "<table border=\"1\" class=\"dataframe\">\n",
       "  <thead>\n",
       "    <tr style=\"text-align: right;\">\n",
       "      <th></th>\n",
       "      <th>name</th>\n",
       "      <th>total_sales</th>\n",
       "    </tr>\n",
       "  </thead>\n",
       "  <tbody>\n",
       "    <tr>\n",
       "      <th>962</th>\n",
       "      <td>Wii Sports</td>\n",
       "      <td>74.09</td>\n",
       "    </tr>\n",
       "    <tr>\n",
       "      <th>495</th>\n",
       "      <td>Mario Kart Wii</td>\n",
       "      <td>32.23</td>\n",
       "    </tr>\n",
       "    <tr>\n",
       "      <th>963</th>\n",
       "      <td>Wii Sports Resort</td>\n",
       "      <td>29.82</td>\n",
       "    </tr>\n",
       "    <tr>\n",
       "      <th>600</th>\n",
       "      <td>New Super Mario Bros. Wii</td>\n",
       "      <td>26.08</td>\n",
       "    </tr>\n",
       "    <tr>\n",
       "      <th>960</th>\n",
       "      <td>Wii Play</td>\n",
       "      <td>26.07</td>\n",
       "    </tr>\n",
       "    <tr>\n",
       "      <th>956</th>\n",
       "      <td>Wii Fit</td>\n",
       "      <td>20.55</td>\n",
       "    </tr>\n",
       "    <tr>\n",
       "      <th>957</th>\n",
       "      <td>Wii Fit Plus</td>\n",
       "      <td>20.03</td>\n",
       "    </tr>\n",
       "    <tr>\n",
       "      <th>818</th>\n",
       "      <td>Super Smash Bros. Brawl</td>\n",
       "      <td>11.83</td>\n",
       "    </tr>\n",
       "    <tr>\n",
       "      <th>813</th>\n",
       "      <td>Super Mario Galaxy</td>\n",
       "      <td>10.61</td>\n",
       "    </tr>\n",
       "    <tr>\n",
       "      <th>415</th>\n",
       "      <td>Just Dance 3</td>\n",
       "      <td>9.06</td>\n",
       "    </tr>\n",
       "  </tbody>\n",
       "</table>\n",
       "</div>"
      ],
      "text/plain": [
       "                          name  total_sales\n",
       "962                 Wii Sports        74.09\n",
       "495             Mario Kart Wii        32.23\n",
       "963          Wii Sports Resort        29.82\n",
       "600  New Super Mario Bros. Wii        26.08\n",
       "960                   Wii Play        26.07\n",
       "956                    Wii Fit        20.55\n",
       "957               Wii Fit Plus        20.03\n",
       "818    Super Smash Bros. Brawl        11.83\n",
       "813         Super Mario Galaxy        10.61\n",
       "415               Just Dance 3         9.06"
      ]
     },
     "execution_count": 39,
     "metadata": {},
     "output_type": "execute_result"
    }
   ],
   "source": [
    "#Se crea para filtro wii\n",
    "game_filtro_wii=filtro_wii.groupby('name')['total_sales'].sum().reset_index().sort_values(by= 'total_sales', ascending=False)\n",
    "game_filtro_wii.head(10)"
   ]
  },
  {
   "cell_type": "markdown",
   "metadata": {},
   "source": [
    "Y se observa los juegos mas vendidos para la plataforma de WII.\n",
    "\n",
    "Se puede observar que entre las consolas de PS2 Y PS3 , algunos de sus juegos se repiten como mayores ventas, juegos que ya han salido una ves y que sale una nueva version de ellas. Mientras que en Wii y X360 son juegos mas personalizados , especialmente en el Wii que son juegos mas de la consola."
   ]
  },
  {
   "cell_type": "markdown",
   "metadata": {},
   "source": [
    "Echa un vistazo a la distribución general de los juegos por género. ¿Qué se puede decir de los géneros más rentables? ¿Puedes generalizar acerca de los géneros con ventas altas y bajas?"
   ]
  },
  {
   "cell_type": "code",
   "execution_count": null,
   "metadata": {},
   "outputs": [],
   "source": [
    "#Ver los generos mas populares segun sus ventas\n",
    "popular_genre = game.groupby('genre')['total_sales'].sum().reset_index().sort_values(by='total_sales',ascending=False)"
   ]
  },
  {
   "cell_type": "code",
   "execution_count": null,
   "metadata": {},
   "outputs": [
    {
     "data": {
      "text/plain": [
       "<AxesSubplot:title={'center':'Generos mas populares segun sus ventas'}, xlabel='Generos de video juegos ', ylabel='Ventas en millones'>"
      ]
     },
     "execution_count": 41,
     "metadata": {},
     "output_type": "execute_result"
    },
    {
     "data": {
      "image/png": "[encoded data removed]",
      "text/plain": [
       "<Figure size 640x480 with 1 Axes>"
      ]
     },
     "metadata": {},
     "output_type": "display_data"
    }
   ],
   "source": [
    "#grafico para mostrar los generos mas populares\n",
    "popular_genre.plot(kind='bar', x='genre', y='total_sales' , xlabel='Generos de video juegos ', ylabel= 'Ventas en millones',\n",
    "                  title= 'Generos mas populares segun sus ventas', rot =45 , color = 'green')"
   ]
  },
  {
   "cell_type": "markdown",
   "metadata": {},
   "source": [
    "Se puede observar las ventas por genero , las cuales hay que destacar que los generos preferidos por los usuarios segun sus ventas son de accion , de deporte y de disparo. Mientas que los 3 generos menos vendidos son de aventura , de rompecabezas y de estrategia."
   ]
  },
  {
   "cell_type": "markdown",
   "metadata": {},
   "source": [
    "Ahora que se ha analizado toda la informacion en conjunto se procedera a analizar por region como es el comportamiento de los usuarios. Las tres regiones seran de Norte America , Japon , y Europa."
   ]
  },
  {
   "cell_type": "code",
   "execution_count": null,
   "metadata": {},
   "outputs": [],
   "source": [
    "jp_platform = game.groupby('platform')['jp_sales'].sum().reset_index().sort_values(by='jp_sales',ascending = False).reset_index(drop=True)"
   ]
  },
  {
   "cell_type": "code",
   "execution_count": null,
   "metadata": {},
   "outputs": [
    {
     "data": {
      "text/html": [
       "<div>\n",
       "<style scoped>\n",
       "    .dataframe tbody tr th:only-of-type {\n",
       "        vertical-align: middle;\n",
       "    }\n",
       "\n",
       "    .dataframe tbody tr th {\n",
       "        vertical-align: top;\n",
       "    }\n",
       "\n",
       "    .dataframe thead th {\n",
       "        text-align: right;\n",
       "    }\n",
       "</style>\n",
       "<table border=\"1\" class=\"dataframe\">\n",
       "  <thead>\n",
       "    <tr style=\"text-align: right;\">\n",
       "      <th></th>\n",
       "      <th>platform</th>\n",
       "      <th>jp_sales</th>\n",
       "    </tr>\n",
       "  </thead>\n",
       "  <tbody>\n",
       "    <tr>\n",
       "      <th>0</th>\n",
       "      <td>DS</td>\n",
       "      <td>87.15</td>\n",
       "    </tr>\n",
       "    <tr>\n",
       "      <th>1</th>\n",
       "      <td>PS2</td>\n",
       "      <td>78.40</td>\n",
       "    </tr>\n",
       "    <tr>\n",
       "      <th>2</th>\n",
       "      <td>PS3</td>\n",
       "      <td>59.74</td>\n",
       "    </tr>\n",
       "    <tr>\n",
       "      <th>3</th>\n",
       "      <td>Wii</td>\n",
       "      <td>53.19</td>\n",
       "    </tr>\n",
       "    <tr>\n",
       "      <th>4</th>\n",
       "      <td>PS</td>\n",
       "      <td>40.53</td>\n",
       "    </tr>\n",
       "  </tbody>\n",
       "</table>\n",
       "</div>"
      ],
      "text/plain": [
       "  platform  jp_sales\n",
       "0       DS     87.15\n",
       "1      PS2     78.40\n",
       "2      PS3     59.74\n",
       "3      Wii     53.19\n",
       "4       PS     40.53"
      ]
     },
     "execution_count": 43,
     "metadata": {},
     "output_type": "execute_result"
    }
   ],
   "source": [
    "jp_platform.head()"
   ]
  },
  {
   "cell_type": "code",
   "execution_count": null,
   "metadata": {},
   "outputs": [],
   "source": [
    "na_platform = game.groupby('platform')['na_sales'].sum().reset_index().sort_values(by='na_sales',ascending = False).reset_index(drop=True)"
   ]
  },
  {
   "cell_type": "code",
   "execution_count": null,
   "metadata": {},
   "outputs": [
    {
     "data": {
      "text/html": [
       "<div>\n",
       "<style scoped>\n",
       "    .dataframe tbody tr th:only-of-type {\n",
       "        vertical-align: middle;\n",
       "    }\n",
       "\n",
       "    .dataframe tbody tr th {\n",
       "        vertical-align: top;\n",
       "    }\n",
       "\n",
       "    .dataframe thead th {\n",
       "        text-align: right;\n",
       "    }\n",
       "</style>\n",
       "<table border=\"1\" class=\"dataframe\">\n",
       "  <thead>\n",
       "    <tr style=\"text-align: right;\">\n",
       "      <th></th>\n",
       "      <th>platform</th>\n",
       "      <th>na_sales</th>\n",
       "    </tr>\n",
       "  </thead>\n",
       "  <tbody>\n",
       "    <tr>\n",
       "      <th>0</th>\n",
       "      <td>X360</td>\n",
       "      <td>571.72</td>\n",
       "    </tr>\n",
       "    <tr>\n",
       "      <th>1</th>\n",
       "      <td>PS2</td>\n",
       "      <td>525.95</td>\n",
       "    </tr>\n",
       "    <tr>\n",
       "      <th>2</th>\n",
       "      <td>Wii</td>\n",
       "      <td>452.24</td>\n",
       "    </tr>\n",
       "    <tr>\n",
       "      <th>3</th>\n",
       "      <td>PS3</td>\n",
       "      <td>368.05</td>\n",
       "    </tr>\n",
       "    <tr>\n",
       "      <th>4</th>\n",
       "      <td>DS</td>\n",
       "      <td>295.38</td>\n",
       "    </tr>\n",
       "  </tbody>\n",
       "</table>\n",
       "</div>"
      ],
      "text/plain": [
       "  platform  na_sales\n",
       "0     X360    571.72\n",
       "1      PS2    525.95\n",
       "2      Wii    452.24\n",
       "3      PS3    368.05\n",
       "4       DS    295.38"
      ]
     },
     "execution_count": 45,
     "metadata": {},
     "output_type": "execute_result"
    }
   ],
   "source": [
    "na_platform.head()"
   ]
  },
  {
   "cell_type": "code",
   "execution_count": null,
   "metadata": {},
   "outputs": [],
   "source": [
    "\n",
    "eu_platform = game.groupby('platform')['eu_sales'].sum().reset_index().sort_values(by='eu_sales',ascending = False).reset_index(drop=True)"
   ]
  },
  {
   "cell_type": "code",
   "execution_count": null,
   "metadata": {},
   "outputs": [
    {
     "data": {
      "text/html": [
       "<div>\n",
       "<style scoped>\n",
       "    .dataframe tbody tr th:only-of-type {\n",
       "        vertical-align: middle;\n",
       "    }\n",
       "\n",
       "    .dataframe tbody tr th {\n",
       "        vertical-align: top;\n",
       "    }\n",
       "\n",
       "    .dataframe thead th {\n",
       "        text-align: right;\n",
       "    }\n",
       "</style>\n",
       "<table border=\"1\" class=\"dataframe\">\n",
       "  <thead>\n",
       "    <tr style=\"text-align: right;\">\n",
       "      <th></th>\n",
       "      <th>platform</th>\n",
       "      <th>eu_sales</th>\n",
       "    </tr>\n",
       "  </thead>\n",
       "  <tbody>\n",
       "    <tr>\n",
       "      <th>0</th>\n",
       "      <td>PS3</td>\n",
       "      <td>295.73</td>\n",
       "    </tr>\n",
       "    <tr>\n",
       "      <th>1</th>\n",
       "      <td>PS2</td>\n",
       "      <td>292.26</td>\n",
       "    </tr>\n",
       "    <tr>\n",
       "      <th>2</th>\n",
       "      <td>X360</td>\n",
       "      <td>248.84</td>\n",
       "    </tr>\n",
       "    <tr>\n",
       "      <th>3</th>\n",
       "      <td>Wii</td>\n",
       "      <td>233.04</td>\n",
       "    </tr>\n",
       "    <tr>\n",
       "      <th>4</th>\n",
       "      <td>DS</td>\n",
       "      <td>136.11</td>\n",
       "    </tr>\n",
       "  </tbody>\n",
       "</table>\n",
       "</div>"
      ],
      "text/plain": [
       "  platform  eu_sales\n",
       "0      PS3    295.73\n",
       "1      PS2    292.26\n",
       "2     X360    248.84\n",
       "3      Wii    233.04\n",
       "4       DS    136.11"
      ]
     },
     "execution_count": 47,
     "metadata": {},
     "output_type": "execute_result"
    }
   ],
   "source": [
    "eu_platform.head()"
   ]
  },
  {
   "cell_type": "markdown",
   "metadata": {},
   "source": [
    "Se puede observar como por region ha cambiado el primer lugar de las plataforma. Pero en las 3 regiones se puede observar como el PS2 ha sido la consola que se ha mantenido como segundo lugar segun sus ventas. De igual manera en sus 3 regiones se puede decir que casi son las mismas plataformas que estan presente. Solo es Japon el estado donde no esta la x360 y se tiene al PS como uno dentro de sus Top 5."
   ]
  },
  {
   "cell_type": "code",
   "execution_count": null,
   "metadata": {},
   "outputs": [
    {
     "name": "stdout",
     "output_type": "stream",
     "text": [
      "Las ventas totales de Japon son 455.12\n",
      "Las ventas totales de USA son 3157.99\n",
      "Las ventas totales de Europa son 1812.43\n",
      "Las ventas totales son 5425.54\n"
     ]
    }
   ],
   "source": [
    "#Ahora se va a sacar sus cuotas de cada una para conocer como han sido sus ventas en funcion de las ventas totales\n",
    "#para japon \n",
    "total_sales_jp= game['jp_sales'].sum()\n",
    "print(f'Las ventas totales de Japon son {round(total_sales_jp,2)}')\n",
    "#Para USA\n",
    "total_sales_na= game['na_sales'].sum()\n",
    "print(f'Las ventas totales de USA son {round(total_sales_na,2)}')\n",
    "#Para Europa\n",
    "total_sales_eu= game['eu_sales'].sum()\n",
    "print(f'Las ventas totales de Europa son {round(total_sales_eu,2)}')\n",
    "#Para todas las regiones \n",
    "total=game['total_sales'].sum()\n",
    "print(f'Las ventas totales son {round(total,2)}')\n"
   ]
  },
  {
   "cell_type": "code",
   "execution_count": null,
   "metadata": {},
   "outputs": [
    {
     "name": "stdout",
     "output_type": "stream",
     "text": [
      "La cuota de japon es 0.08388473774039079\n",
      "La cuota de Usa es 0.5820600345772033\n",
      "La cuota de Europa es 0.33405522768240575\n"
     ]
    }
   ],
   "source": [
    "print(f'La cuota de japon es {total_sales_jp/total}')\n",
    "print(f'La cuota de Usa es {total_sales_na/total}')\n",
    "print(f'La cuota de Europa es {total_sales_eu/total}')"
   ]
  },
  {
   "cell_type": "markdown",
   "metadata": {},
   "source": [
    "Se puede ver como la presencia de Estados  Unidos marca una diferencia entre las otras regiones , teniendo una cuota de venta de 0.58."
   ]
  },
  {
   "cell_type": "code",
   "execution_count": null,
   "metadata": {},
   "outputs": [
    {
     "data": {
      "text/html": [
       "<div>\n",
       "<style scoped>\n",
       "    .dataframe tbody tr th:only-of-type {\n",
       "        vertical-align: middle;\n",
       "    }\n",
       "\n",
       "    .dataframe tbody tr th {\n",
       "        vertical-align: top;\n",
       "    }\n",
       "\n",
       "    .dataframe thead th {\n",
       "        text-align: right;\n",
       "    }\n",
       "</style>\n",
       "<table border=\"1\" class=\"dataframe\">\n",
       "  <thead>\n",
       "    <tr style=\"text-align: right;\">\n",
       "      <th></th>\n",
       "      <th>rating</th>\n",
       "      <th>jp_sales</th>\n",
       "    </tr>\n",
       "  </thead>\n",
       "  <tbody>\n",
       "    <tr>\n",
       "      <th>0</th>\n",
       "      <td>E</td>\n",
       "      <td>199.57</td>\n",
       "    </tr>\n",
       "    <tr>\n",
       "      <th>1</th>\n",
       "      <td>T</td>\n",
       "      <td>149.83</td>\n",
       "    </tr>\n",
       "    <tr>\n",
       "      <th>2</th>\n",
       "      <td>M</td>\n",
       "      <td>64.18</td>\n",
       "    </tr>\n",
       "    <tr>\n",
       "      <th>3</th>\n",
       "      <td>E10+</td>\n",
       "      <td>40.08</td>\n",
       "    </tr>\n",
       "    <tr>\n",
       "      <th>4</th>\n",
       "      <td>K-A</td>\n",
       "      <td>1.46</td>\n",
       "    </tr>\n",
       "    <tr>\n",
       "      <th>5</th>\n",
       "      <td>AO</td>\n",
       "      <td>0.00</td>\n",
       "    </tr>\n",
       "    <tr>\n",
       "      <th>6</th>\n",
       "      <td>EC</td>\n",
       "      <td>0.00</td>\n",
       "    </tr>\n",
       "    <tr>\n",
       "      <th>7</th>\n",
       "      <td>RP</td>\n",
       "      <td>0.00</td>\n",
       "    </tr>\n",
       "  </tbody>\n",
       "</table>\n",
       "</div>"
      ],
      "text/plain": [
       "  rating  jp_sales\n",
       "0      E    199.57\n",
       "1      T    149.83\n",
       "2      M     64.18\n",
       "3   E10+     40.08\n",
       "4    K-A      1.46\n",
       "5     AO      0.00\n",
       "6     EC      0.00\n",
       "7     RP      0.00"
      ]
     },
     "execution_count": 50,
     "metadata": {},
     "output_type": "execute_result"
    }
   ],
   "source": [
    "#para Japon\n",
    "clasificacion_jp = game.groupby('rating')['jp_sales'].sum().reset_index().sort_values(by='jp_sales' , ascending=False).reset_index(drop=True)\n",
    "clasificacion_jp"
   ]
  },
  {
   "cell_type": "code",
   "execution_count": null,
   "metadata": {},
   "outputs": [
    {
     "data": {
      "text/html": [
       "<div>\n",
       "<style scoped>\n",
       "    .dataframe tbody tr th:only-of-type {\n",
       "        vertical-align: middle;\n",
       "    }\n",
       "\n",
       "    .dataframe tbody tr th {\n",
       "        vertical-align: top;\n",
       "    }\n",
       "\n",
       "    .dataframe thead th {\n",
       "        text-align: right;\n",
       "    }\n",
       "</style>\n",
       "<table border=\"1\" class=\"dataframe\">\n",
       "  <thead>\n",
       "    <tr style=\"text-align: right;\">\n",
       "      <th></th>\n",
       "      <th>rating</th>\n",
       "      <th>na_sales</th>\n",
       "    </tr>\n",
       "  </thead>\n",
       "  <tbody>\n",
       "    <tr>\n",
       "      <th>0</th>\n",
       "      <td>E</td>\n",
       "      <td>1294.24</td>\n",
       "    </tr>\n",
       "    <tr>\n",
       "      <th>1</th>\n",
       "      <td>T</td>\n",
       "      <td>757.13</td>\n",
       "    </tr>\n",
       "    <tr>\n",
       "      <th>2</th>\n",
       "      <td>M</td>\n",
       "      <td>747.95</td>\n",
       "    </tr>\n",
       "    <tr>\n",
       "      <th>3</th>\n",
       "      <td>E10+</td>\n",
       "      <td>353.32</td>\n",
       "    </tr>\n",
       "    <tr>\n",
       "      <th>4</th>\n",
       "      <td>K-A</td>\n",
       "      <td>2.56</td>\n",
       "    </tr>\n",
       "    <tr>\n",
       "      <th>5</th>\n",
       "      <td>EC</td>\n",
       "      <td>1.53</td>\n",
       "    </tr>\n",
       "    <tr>\n",
       "      <th>6</th>\n",
       "      <td>AO</td>\n",
       "      <td>1.26</td>\n",
       "    </tr>\n",
       "    <tr>\n",
       "      <th>7</th>\n",
       "      <td>RP</td>\n",
       "      <td>0.00</td>\n",
       "    </tr>\n",
       "  </tbody>\n",
       "</table>\n",
       "</div>"
      ],
      "text/plain": [
       "  rating  na_sales\n",
       "0      E   1294.24\n",
       "1      T    757.13\n",
       "2      M    747.95\n",
       "3   E10+    353.32\n",
       "4    K-A      2.56\n",
       "5     EC      1.53\n",
       "6     AO      1.26\n",
       "7     RP      0.00"
      ]
     },
     "execution_count": 51,
     "metadata": {},
     "output_type": "execute_result"
    }
   ],
   "source": [
    "#para USA\n",
    "clasificacion_na = game.groupby('rating')['na_sales'].sum().reset_index().sort_values(by='na_sales' , ascending=False).reset_index(drop=True)\n",
    "clasificacion_na"
   ]
  },
  {
   "cell_type": "code",
   "execution_count": null,
   "metadata": {},
   "outputs": [
    {
     "data": {
      "text/html": [
       "<div>\n",
       "<style scoped>\n",
       "    .dataframe tbody tr th:only-of-type {\n",
       "        vertical-align: middle;\n",
       "    }\n",
       "\n",
       "    .dataframe tbody tr th {\n",
       "        vertical-align: top;\n",
       "    }\n",
       "\n",
       "    .dataframe thead th {\n",
       "        text-align: right;\n",
       "    }\n",
       "</style>\n",
       "<table border=\"1\" class=\"dataframe\">\n",
       "  <thead>\n",
       "    <tr style=\"text-align: right;\">\n",
       "      <th></th>\n",
       "      <th>rating</th>\n",
       "      <th>eu_sales</th>\n",
       "    </tr>\n",
       "  </thead>\n",
       "  <tbody>\n",
       "    <tr>\n",
       "      <th>0</th>\n",
       "      <td>E</td>\n",
       "      <td>716.52</td>\n",
       "    </tr>\n",
       "    <tr>\n",
       "      <th>1</th>\n",
       "      <td>M</td>\n",
       "      <td>482.94</td>\n",
       "    </tr>\n",
       "    <tr>\n",
       "      <th>2</th>\n",
       "      <td>T</td>\n",
       "      <td>423.54</td>\n",
       "    </tr>\n",
       "    <tr>\n",
       "      <th>3</th>\n",
       "      <td>E10+</td>\n",
       "      <td>188.37</td>\n",
       "    </tr>\n",
       "    <tr>\n",
       "      <th>4</th>\n",
       "      <td>AO</td>\n",
       "      <td>0.61</td>\n",
       "    </tr>\n",
       "    <tr>\n",
       "      <th>5</th>\n",
       "      <td>K-A</td>\n",
       "      <td>0.27</td>\n",
       "    </tr>\n",
       "    <tr>\n",
       "      <th>6</th>\n",
       "      <td>EC</td>\n",
       "      <td>0.11</td>\n",
       "    </tr>\n",
       "    <tr>\n",
       "      <th>7</th>\n",
       "      <td>RP</td>\n",
       "      <td>0.07</td>\n",
       "    </tr>\n",
       "  </tbody>\n",
       "</table>\n",
       "</div>"
      ],
      "text/plain": [
       "  rating  eu_sales\n",
       "0      E    716.52\n",
       "1      M    482.94\n",
       "2      T    423.54\n",
       "3   E10+    188.37\n",
       "4     AO      0.61\n",
       "5    K-A      0.27\n",
       "6     EC      0.11\n",
       "7     RP      0.07"
      ]
     },
     "execution_count": 52,
     "metadata": {},
     "output_type": "execute_result"
    }
   ],
   "source": [
    "#para Europa\n",
    "clasificacion_eu = game.groupby('rating')['eu_sales'].sum().reset_index().sort_values(by='eu_sales' , ascending=False).reset_index(drop=True)\n",
    "clasificacion_eu"
   ]
  },
  {
   "cell_type": "markdown",
   "metadata": {},
   "source": [
    "Se puede ver realmente como en las 3 regiones , predomina el ranking 'E', y de igual manera los primeros 3 en las 3 regiones son el E,M,T. Se puede concluir que si comparten bastante similitud las 3 regiones con respecto al ranking."
   ]
  },
  {
   "cell_type": "markdown",
   "metadata": {},
   "source": [
    "Ahora se va a hacer una prueba de hipotesis  en relacion a dos plataformas , en el cual mantendremos lo siguiente:\n",
    "\n",
    "Hipotesis Nula: No hay diferencia en las calificaciones promedio de usuarios entre las plataformas \"Xone\" y \"PC\".\n",
    "\n",
    "Hipotesis Alternativa: Hay una diferencia en las calificaciones promedio de usuarios entre las plataformas \"Xone\" y \"PC\"."
   ]
  },
  {
   "cell_type": "code",
   "execution_count": null,
   "metadata": {},
   "outputs": [
    {
     "name": "stdout",
     "output_type": "stream",
     "text": [
      "Estadístico de Levene: 0.1669707080364554\n",
      "Valor p de Levene: 0.68290866008032\n",
      "No se rechaza la hipótesis de varianzas iguales.\n",
      "Estadístico de la prueba t: -5.35258119437921\n",
      "Valor p de la prueba t: 1.083164872978578e-07\n",
      "Se rechaza la hipótesis nula\n"
     ]
    }
   ],
   "source": [
    "#se crea una funcion para tomar en cuenta los outliers que existen.\n",
    "def remove_outliers(data):\n",
    "    Q1 = data.quantile(0.25)\n",
    "    Q3 = data.quantile(0.75)\n",
    "    IQR = Q3 - Q1\n",
    "    return data[(data >= (Q1 - 1.5 * IQR)) & (data <= (Q3 + 1.5 * IQR))]\n",
    "\n",
    "# Filtrar los datos por plataforma\n",
    "filtro_xone = game[game['platform'] == 'XOne']\n",
    "filtro_pc = game[game['platform'] == 'PC']\n",
    "\n",
    "# Obtener los puntajes de usuarios para cada plataforma\n",
    "record_users_x = filtro_xone['user_score']\n",
    "record_users_pc = filtro_pc['user_score']\n",
    "\n",
    "# Limpiar los datos eliminando outliers\n",
    "clean_record_users_x = remove_outliers(record_users_x)\n",
    "clean_record_users_pc = remove_outliers(record_users_pc)\n",
    "\n",
    "# Realizar la prueba de Levene con los datos limpios\n",
    "estadistico_levene_p, p_value_levene_p = st.levene(clean_record_users_x, clean_record_users_pc)\n",
    "print(\"Estadístico de Levene:\", estadistico_levene_p)\n",
    "print(\"Valor p de Levene:\", p_value_levene_p)\n",
    "\n",
    "# Definir el nivel de significancia\n",
    "alpha = 0.05\n",
    "\n",
    "# Decidir si asumir varianzas iguales o no\n",
    "if p_value_levene_p < alpha:\n",
    "    equal_var = False\n",
    "    print(\"Se rechaza la hipótesis de varianzas iguales.\")\n",
    "else:\n",
    "    equal_var = True\n",
    "    print(\"No se rechaza la hipótesis de varianzas iguales.\")\n",
    "\n",
    "# Realizar la prueba de t con los datos limpios\n",
    "prueba_hipotesis_p = st.ttest_ind(clean_record_users_x, clean_record_users_pc, equal_var=equal_var)\n",
    "print(\"Estadístico de la prueba t:\", prueba_hipotesis_p.statistic)\n",
    "print(\"Valor p de la prueba t:\", prueba_hipotesis_p.pvalue)\n",
    "\n",
    "# Decidir si rechazar o no la hipótesis nula\n",
    "if prueba_hipotesis_p.pvalue < alpha:\n",
    "    print('Se rechaza la hipótesis nula')\n",
    "else:\n",
    "    print('No se rechaza la hipótesis nula')"
   ]
  },
  {
   "cell_type": "markdown",
   "metadata": {},
   "source": [
    "Ahora se va a hacer una prueba de hipotesis en relacion a dos generos , en el cual mantendremos lo siguiente:\n",
    "\n",
    "Hipotesis Nula: No hay diferencia en las calificaciones promedio de usuarios entre los géneros \"Action\" y \"Sports\".\n",
    "\n",
    "Hipotesis Alternativa: Hay una diferencia en las calificaciones promedio de usuarios entre los géneros \"Action\" y \"Sports\"."
   ]
  },
  {
   "cell_type": "code",
   "execution_count": null,
   "metadata": {},
   "outputs": [
    {
     "name": "stdout",
     "output_type": "stream",
     "text": [
      "Estadístico de Levene: 20.738864102123642\n",
      "Valor p de Levene: 5.4457033024810644e-06\n",
      "Se rechaza la hipótesis de varianzas iguales.\n",
      "Estadístico de la prueba t: -2.857668594149614\n",
      "Valor p de la prueba t: 0.00429571355576891\n",
      "Se rechaza la hipótesis nula\n"
     ]
    }
   ],
   "source": [
    "#se crea otra funcion para poder intervenir con  los outliers\n",
    "def remove_outliers(data):\n",
    "    Q1 = data.quantile(0.25)\n",
    "    Q3 = data.quantile(0.75)\n",
    "    IQR = Q3 - Q1\n",
    "    return data[(data >= (Q1 - 1.5 * IQR)) & (data <= (Q3 + 1.5 * IQR))]\n",
    "#filtro para los generos \n",
    "filtro_actions = game[game['genre'] == 'Action']\n",
    "filtro_sports = game[game['genre'] == 'Sports']\n",
    "\n",
    "#obtener los puntajes de los usuarios \n",
    "genre_users_ac = filtro_actions['user_score']\n",
    "genre_users_sp = filtro_sports['user_score']\n",
    "# Limpiar los datos eliminando outliers\n",
    "clean_genre_users_ac = remove_outliers(genre_users_ac)\n",
    "clean_genre_users_sp = remove_outliers(genre_users_sp)\n",
    "\n",
    "# Realizar la prueba de Levene con los datos limpios\n",
    "estadistico_levene, p_value_levene = st.levene(clean_genre_users_ac, clean_genre_users_sp)\n",
    "print(\"Estadístico de Levene:\", estadistico_levene)\n",
    "print(\"Valor p de Levene:\", p_value_levene)\n",
    "\n",
    "# Definir el nivel de significancia\n",
    "alpha = 0.05\n",
    "\n",
    "# Decidir si asumir varianzas iguales o no\n",
    "if p_value_levene < alpha:\n",
    "    equal_var = False\n",
    "    print(\"Se rechaza la hipótesis de varianzas iguales.\")\n",
    "else:\n",
    "    equal_var = True\n",
    "    print(\"No se rechaza la hipótesis de varianzas iguales.\")\n",
    "\n",
    "# Realizar la prueba de t con los datos limpios\n",
    "prueba_hipotesis = st.ttest_ind(clean_genre_users_ac, clean_genre_users_sp, equal_var=equal_var)\n",
    "print(\"Estadístico de la prueba t:\", prueba_hipotesis.statistic)\n",
    "print(\"Valor p de la prueba t:\", prueba_hipotesis.pvalue)\n",
    "\n",
    "# Decidir si rechazar o no la hipótesis nula\n",
    "if prueba_hipotesis.pvalue < alpha:\n",
    "    print('Se rechaza la hipótesis nula')\n",
    "else:\n",
    "    print('No se rechaza la hipótesis nula')"
   ]
  },
  {
   "cell_type": "markdown",
   "metadata": {},
   "source": [
    "Se está utilizando una prueba t para muestras independientes, que permite comparar las medias de calificaciones de usuarios entre dos plataformas distintas y asi mismo entre dos generos diferentes. Esta prueba es adecuada para determinar si las diferencias observadas en las calificaciones son estadísticamente significativas, asumiendo varianzas desiguales entre los grupos.\n",
    "\n",
    "En la primera parte del análisis, se rechazó la hipótesis nula, lo que indica que existe una diferencia significativa en las calificaciones promedio entre las plataformas \"XOne\" y \"PC\". Esto sugiere que las calificaciones de usuarios para estas dos plataformas no son iguales y que al menos una de ellas tiene calificaciones significativamente diferentes.\n",
    "\n",
    "En la segunda parte, se rechazó la hipótesis nula, indicando que hay una diferencia estadísticamente significativa en las calificaciones promedio entre los géneros \"Action\" y \"Sports\". Esto sugiere que, en términos de calificaciones de usuarios, ambos géneros tienen promedios diferentes, lo que indica que los usuarios perciben los géneros de manera distinta."
   ]
  }
 ],
 "metadata": {
  "ExecuteTimeLog": [
   {
    "duration": 870,
    "start_time": "2024-08-07T00:38:00.039Z"
   },
   {
    "duration": 4318,
    "start_time": "2024-08-07T00:38:23.202Z"
   },
   {
    "duration": 710,
    "start_time": "2024-08-07T00:42:30.660Z"
   },
   {
    "duration": 55,
    "start_time": "2024-08-07T00:42:49.145Z"
   },
   {
    "duration": 20,
    "start_time": "2024-08-07T00:42:57.067Z"
   },
   {
    "duration": 18,
    "start_time": "2024-08-07T00:45:26.412Z"
   },
   {
    "duration": 855,
    "start_time": "2024-08-07T00:46:36.355Z"
   },
   {
    "duration": 10,
    "start_time": "2024-08-07T00:46:41.335Z"
   },
   {
    "duration": 6,
    "start_time": "2024-08-07T00:49:19.760Z"
   },
   {
    "duration": 24,
    "start_time": "2024-08-07T00:49:42.525Z"
   },
   {
    "duration": 26,
    "start_time": "2024-08-07T00:49:45.493Z"
   },
   {
    "duration": 8,
    "start_time": "2024-08-07T00:49:48.686Z"
   },
   {
    "duration": 23,
    "start_time": "2024-08-07T00:49:59.500Z"
   },
   {
    "duration": 24,
    "start_time": "2024-08-07T00:50:05.847Z"
   },
   {
    "duration": 24,
    "start_time": "2024-08-07T00:54:28.586Z"
   },
   {
    "duration": 4,
    "start_time": "2024-08-07T00:54:36.034Z"
   },
   {
    "duration": 8,
    "start_time": "2024-08-07T00:54:41.027Z"
   },
   {
    "duration": 5,
    "start_time": "2024-08-07T00:54:53.729Z"
   },
   {
    "duration": 5,
    "start_time": "2024-08-07T00:55:21.878Z"
   },
   {
    "duration": 7,
    "start_time": "2024-08-07T00:55:27.380Z"
   },
   {
    "duration": 20,
    "start_time": "2024-08-07T00:58:32.579Z"
   },
   {
    "duration": 26,
    "start_time": "2024-08-07T00:58:38.782Z"
   },
   {
    "duration": 25,
    "start_time": "2024-08-07T00:59:34.565Z"
   },
   {
    "duration": 307,
    "start_time": "2024-08-07T04:16:11.183Z"
   },
   {
    "duration": 4367,
    "start_time": "2024-08-07T04:16:19.622Z"
   },
   {
    "duration": 54,
    "start_time": "2024-08-07T04:16:23.994Z"
   },
   {
    "duration": 19,
    "start_time": "2024-08-07T04:16:24.051Z"
   },
   {
    "duration": 5,
    "start_time": "2024-08-07T04:16:24.073Z"
   },
   {
    "duration": 61,
    "start_time": "2024-08-07T04:16:24.082Z"
   },
   {
    "duration": 147,
    "start_time": "2024-08-07T04:19:16.185Z"
   },
   {
    "duration": 244,
    "start_time": "2024-08-07T04:19:50.200Z"
   },
   {
    "duration": 10,
    "start_time": "2024-08-07T04:19:54.548Z"
   },
   {
    "duration": 84,
    "start_time": "2024-08-07T04:19:59.262Z"
   },
   {
    "duration": 8,
    "start_time": "2024-08-07T04:20:31.148Z"
   },
   {
    "duration": 6,
    "start_time": "2024-08-07T04:20:35.033Z"
   },
   {
    "duration": 6,
    "start_time": "2024-08-07T04:20:39.528Z"
   },
   {
    "duration": 76,
    "start_time": "2024-08-07T04:21:41.440Z"
   },
   {
    "duration": 29,
    "start_time": "2024-08-07T04:21:43.355Z"
   },
   {
    "duration": 19,
    "start_time": "2024-08-07T04:21:52.363Z"
   },
   {
    "duration": 29,
    "start_time": "2024-08-07T04:21:53.978Z"
   },
   {
    "duration": 24,
    "start_time": "2024-08-07T04:22:35.870Z"
   },
   {
    "duration": 102,
    "start_time": "2024-08-07T04:22:36.624Z"
   },
   {
    "duration": 11,
    "start_time": "2024-08-07T04:23:04.176Z"
   },
   {
    "duration": 10,
    "start_time": "2024-08-07T04:23:08.994Z"
   },
   {
    "duration": 18,
    "start_time": "2024-08-07T04:23:19.817Z"
   },
   {
    "duration": 745,
    "start_time": "2024-08-07T04:23:39.927Z"
   },
   {
    "duration": 39,
    "start_time": "2024-08-07T04:23:40.675Z"
   },
   {
    "duration": 26,
    "start_time": "2024-08-07T04:23:40.717Z"
   },
   {
    "duration": 5,
    "start_time": "2024-08-07T04:23:40.747Z"
   },
   {
    "duration": 13,
    "start_time": "2024-08-07T04:23:40.755Z"
   },
   {
    "duration": 70,
    "start_time": "2024-08-07T04:23:40.771Z"
   },
   {
    "duration": 17,
    "start_time": "2024-08-07T04:23:40.844Z"
   },
   {
    "duration": 17,
    "start_time": "2024-08-07T04:26:14.387Z"
   },
   {
    "duration": 29,
    "start_time": "2024-08-07T04:26:15.575Z"
   },
   {
    "duration": 17,
    "start_time": "2024-08-07T04:26:18.664Z"
   },
   {
    "duration": 27,
    "start_time": "2024-08-07T04:26:25.598Z"
   },
   {
    "duration": 15,
    "start_time": "2024-08-07T04:26:27.372Z"
   },
   {
    "duration": 28,
    "start_time": "2024-08-07T04:26:28.830Z"
   },
   {
    "duration": 113,
    "start_time": "2024-08-07T04:27:58.820Z"
   },
   {
    "duration": 36,
    "start_time": "2024-08-07T04:27:59.857Z"
   },
   {
    "duration": 27,
    "start_time": "2024-08-07T04:28:03.270Z"
   },
   {
    "duration": 750,
    "start_time": "2024-08-07T04:28:17.946Z"
   },
   {
    "duration": 46,
    "start_time": "2024-08-07T04:28:18.700Z"
   },
   {
    "duration": 19,
    "start_time": "2024-08-07T04:28:18.749Z"
   },
   {
    "duration": 5,
    "start_time": "2024-08-07T04:28:18.770Z"
   },
   {
    "duration": 17,
    "start_time": "2024-08-07T04:28:18.779Z"
   },
   {
    "duration": 30,
    "start_time": "2024-08-07T04:28:18.827Z"
   },
   {
    "duration": 16,
    "start_time": "2024-08-07T04:28:18.860Z"
   },
   {
    "duration": 1535,
    "start_time": "2024-08-07T04:28:56.830Z"
   },
   {
    "duration": 0,
    "start_time": "2024-08-07T04:28:58.368Z"
   },
   {
    "duration": 101,
    "start_time": "2024-08-07T04:29:27.935Z"
   },
   {
    "duration": 267,
    "start_time": "2024-08-07T04:30:26.376Z"
   },
   {
    "duration": 27,
    "start_time": "2024-08-07T04:30:33.209Z"
   },
   {
    "duration": 5,
    "start_time": "2024-08-07T04:30:40.859Z"
   },
   {
    "duration": 152,
    "start_time": "2024-08-07T04:30:41.486Z"
   },
   {
    "duration": 746,
    "start_time": "2024-08-07T04:30:57.303Z"
   },
   {
    "duration": 38,
    "start_time": "2024-08-07T04:30:58.052Z"
   },
   {
    "duration": 36,
    "start_time": "2024-08-07T04:30:58.094Z"
   },
   {
    "duration": 5,
    "start_time": "2024-08-07T04:30:58.133Z"
   },
   {
    "duration": 8,
    "start_time": "2024-08-07T04:30:58.142Z"
   },
   {
    "duration": 28,
    "start_time": "2024-08-07T04:30:58.153Z"
   },
   {
    "duration": 58,
    "start_time": "2024-08-07T04:30:58.185Z"
   },
   {
    "duration": 188,
    "start_time": "2024-08-07T04:31:41.854Z"
   },
   {
    "duration": 21,
    "start_time": "2024-08-07T04:31:44.292Z"
   },
   {
    "duration": 16,
    "start_time": "2024-08-07T04:33:23.906Z"
   },
   {
    "duration": 27,
    "start_time": "2024-08-07T04:33:24.305Z"
   },
   {
    "duration": 690,
    "start_time": "2024-08-07T04:34:44.890Z"
   },
   {
    "duration": 50,
    "start_time": "2024-08-07T04:34:45.583Z"
   },
   {
    "duration": 20,
    "start_time": "2024-08-07T04:34:45.635Z"
   },
   {
    "duration": 5,
    "start_time": "2024-08-07T04:34:45.659Z"
   },
   {
    "duration": 1462,
    "start_time": "2024-08-07T04:34:45.668Z"
   },
   {
    "duration": 0,
    "start_time": "2024-08-07T04:34:47.133Z"
   },
   {
    "duration": 0,
    "start_time": "2024-08-07T04:34:47.135Z"
   },
   {
    "duration": 31,
    "start_time": "2024-08-07T04:39:29.211Z"
   },
   {
    "duration": 3,
    "start_time": "2024-08-07T04:41:30.159Z"
   },
   {
    "duration": 34,
    "start_time": "2024-08-07T04:42:34.630Z"
   },
   {
    "duration": 8,
    "start_time": "2024-08-07T04:42:38.395Z"
   },
   {
    "duration": 6,
    "start_time": "2024-08-07T04:44:01.937Z"
   },
   {
    "duration": 6,
    "start_time": "2024-08-07T04:44:29.491Z"
   },
   {
    "duration": 7,
    "start_time": "2024-08-07T04:44:37.225Z"
   },
   {
    "duration": 7,
    "start_time": "2024-08-07T04:44:54.369Z"
   },
   {
    "duration": 6,
    "start_time": "2024-08-07T04:44:59.060Z"
   },
   {
    "duration": 846,
    "start_time": "2024-08-07T04:51:50.804Z"
   },
   {
    "duration": 6,
    "start_time": "2024-08-07T04:51:56.562Z"
   },
   {
    "duration": 21,
    "start_time": "2024-08-07T04:53:42.896Z"
   },
   {
    "duration": 21,
    "start_time": "2024-08-07T04:53:50.051Z"
   },
   {
    "duration": 18,
    "start_time": "2024-08-07T04:54:26.473Z"
   },
   {
    "duration": 4,
    "start_time": "2024-08-07T04:57:35.323Z"
   },
   {
    "duration": 3,
    "start_time": "2024-08-07T04:57:59.910Z"
   },
   {
    "duration": 6,
    "start_time": "2024-08-07T04:58:13.884Z"
   },
   {
    "duration": 5,
    "start_time": "2024-08-07T04:59:11.062Z"
   },
   {
    "duration": 6,
    "start_time": "2024-08-07T04:59:19.995Z"
   },
   {
    "duration": 4,
    "start_time": "2024-08-07T04:59:26.686Z"
   },
   {
    "duration": 7,
    "start_time": "2024-08-07T04:59:27.046Z"
   },
   {
    "duration": 22,
    "start_time": "2024-08-07T05:00:12.987Z"
   },
   {
    "duration": 6,
    "start_time": "2024-08-07T05:00:27.292Z"
   },
   {
    "duration": 22,
    "start_time": "2024-08-07T05:01:38.520Z"
   },
   {
    "duration": 5,
    "start_time": "2024-08-07T05:02:45.385Z"
   },
   {
    "duration": 5,
    "start_time": "2024-08-07T05:03:12.591Z"
   },
   {
    "duration": 4,
    "start_time": "2024-08-07T05:03:34.141Z"
   },
   {
    "duration": 6,
    "start_time": "2024-08-07T05:03:34.511Z"
   },
   {
    "duration": 6,
    "start_time": "2024-08-07T05:03:37.246Z"
   },
   {
    "duration": 20,
    "start_time": "2024-08-07T05:03:53.370Z"
   },
   {
    "duration": 7,
    "start_time": "2024-08-07T05:04:26.761Z"
   },
   {
    "duration": 3,
    "start_time": "2024-08-07T05:06:20.141Z"
   },
   {
    "duration": 3,
    "start_time": "2024-08-07T05:06:38.464Z"
   },
   {
    "duration": 8,
    "start_time": "2024-08-07T05:06:50.040Z"
   },
   {
    "duration": 85,
    "start_time": "2024-08-07T05:07:02.015Z"
   },
   {
    "duration": 8,
    "start_time": "2024-08-07T05:07:04.281Z"
   },
   {
    "duration": 4,
    "start_time": "2024-08-07T05:07:30.440Z"
   },
   {
    "duration": 7,
    "start_time": "2024-08-07T05:07:30.805Z"
   },
   {
    "duration": 7,
    "start_time": "2024-08-07T05:08:42.571Z"
   },
   {
    "duration": 24,
    "start_time": "2024-08-07T05:10:54.486Z"
   },
   {
    "duration": 13,
    "start_time": "2024-08-07T05:10:59.226Z"
   },
   {
    "duration": 758,
    "start_time": "2024-08-07T05:11:17.098Z"
   },
   {
    "duration": 39,
    "start_time": "2024-08-07T05:11:17.859Z"
   },
   {
    "duration": 31,
    "start_time": "2024-08-07T05:11:17.901Z"
   },
   {
    "duration": 7,
    "start_time": "2024-08-07T05:11:17.935Z"
   },
   {
    "duration": 14,
    "start_time": "2024-08-07T05:11:17.947Z"
   },
   {
    "duration": 5,
    "start_time": "2024-08-07T05:11:17.964Z"
   },
   {
    "duration": 4,
    "start_time": "2024-08-07T05:11:17.972Z"
   },
   {
    "duration": 54,
    "start_time": "2024-08-07T05:11:17.979Z"
   },
   {
    "duration": 5,
    "start_time": "2024-08-07T05:11:18.037Z"
   },
   {
    "duration": 366,
    "start_time": "2024-08-07T05:12:29.692Z"
   },
   {
    "duration": 24,
    "start_time": "2024-08-07T05:12:59.503Z"
   },
   {
    "duration": 847,
    "start_time": "2024-08-07T05:15:08.961Z"
   },
   {
    "duration": 18,
    "start_time": "2024-08-07T05:15:38.505Z"
   },
   {
    "duration": 16,
    "start_time": "2024-08-07T05:16:27.797Z"
   },
   {
    "duration": 5,
    "start_time": "2024-08-07T05:17:12.541Z"
   },
   {
    "duration": 17,
    "start_time": "2024-08-07T05:17:14.306Z"
   },
   {
    "duration": 6,
    "start_time": "2024-08-07T05:17:17.551Z"
   },
   {
    "duration": 712,
    "start_time": "2024-08-07T05:17:29.568Z"
   },
   {
    "duration": 46,
    "start_time": "2024-08-07T05:17:30.283Z"
   },
   {
    "duration": 19,
    "start_time": "2024-08-07T05:17:30.333Z"
   },
   {
    "duration": 5,
    "start_time": "2024-08-07T05:17:30.355Z"
   },
   {
    "duration": 18,
    "start_time": "2024-08-07T05:17:30.365Z"
   },
   {
    "duration": 42,
    "start_time": "2024-08-07T05:17:30.386Z"
   },
   {
    "duration": 4,
    "start_time": "2024-08-07T05:17:30.431Z"
   },
   {
    "duration": 8,
    "start_time": "2024-08-07T05:17:30.438Z"
   },
   {
    "duration": 6,
    "start_time": "2024-08-07T05:17:30.449Z"
   },
   {
    "duration": 5,
    "start_time": "2024-08-07T05:22:45.667Z"
   },
   {
    "duration": 9,
    "start_time": "2024-08-07T05:27:05.756Z"
   },
   {
    "duration": 8,
    "start_time": "2024-08-07T05:27:11.557Z"
   },
   {
    "duration": 8,
    "start_time": "2024-08-07T05:27:15.902Z"
   },
   {
    "duration": 6,
    "start_time": "2024-08-07T05:27:54.142Z"
   },
   {
    "duration": 7,
    "start_time": "2024-08-07T05:27:57.753Z"
   },
   {
    "duration": 6,
    "start_time": "2024-08-07T05:28:05.091Z"
   },
   {
    "duration": 7,
    "start_time": "2024-08-07T05:28:16.222Z"
   },
   {
    "duration": 8,
    "start_time": "2024-08-07T05:28:20.515Z"
   },
   {
    "duration": 344,
    "start_time": "2024-08-07T05:29:52.430Z"
   },
   {
    "duration": 191,
    "start_time": "2024-08-07T05:30:01.484Z"
   },
   {
    "duration": 7,
    "start_time": "2024-08-07T05:32:50.747Z"
   },
   {
    "duration": 6,
    "start_time": "2024-08-07T05:33:18.043Z"
   },
   {
    "duration": 634,
    "start_time": "2024-08-07T05:33:29.481Z"
   },
   {
    "duration": 5,
    "start_time": "2024-08-07T05:33:44.407Z"
   },
   {
    "duration": 75,
    "start_time": "2024-08-07T05:33:45.000Z"
   },
   {
    "duration": 79,
    "start_time": "2024-08-07T05:33:56.548Z"
   },
   {
    "duration": 754,
    "start_time": "2024-08-07T05:34:11.028Z"
   },
   {
    "duration": 47,
    "start_time": "2024-08-07T05:34:11.786Z"
   },
   {
    "duration": 20,
    "start_time": "2024-08-07T05:34:11.835Z"
   },
   {
    "duration": 5,
    "start_time": "2024-08-07T05:34:11.861Z"
   },
   {
    "duration": 20,
    "start_time": "2024-08-07T05:34:11.869Z"
   },
   {
    "duration": 38,
    "start_time": "2024-08-07T05:34:11.892Z"
   },
   {
    "duration": 233,
    "start_time": "2024-08-07T05:34:11.933Z"
   },
   {
    "duration": 4,
    "start_time": "2024-08-07T05:34:12.169Z"
   },
   {
    "duration": 213,
    "start_time": "2024-08-07T05:34:12.177Z"
   },
   {
    "duration": 748,
    "start_time": "2024-08-07T05:36:19.027Z"
   },
   {
    "duration": 53,
    "start_time": "2024-08-07T05:36:19.779Z"
   },
   {
    "duration": 21,
    "start_time": "2024-08-07T05:36:19.835Z"
   },
   {
    "duration": 7,
    "start_time": "2024-08-07T05:36:19.859Z"
   },
   {
    "duration": 22,
    "start_time": "2024-08-07T05:36:19.872Z"
   },
   {
    "duration": 5,
    "start_time": "2024-08-07T05:36:19.926Z"
   },
   {
    "duration": 235,
    "start_time": "2024-08-07T05:36:19.934Z"
   },
   {
    "duration": 5,
    "start_time": "2024-08-07T05:36:20.171Z"
   },
   {
    "duration": 218,
    "start_time": "2024-08-07T05:36:20.179Z"
   },
   {
    "duration": 4,
    "start_time": "2024-08-07T05:37:10.525Z"
   },
   {
    "duration": 734,
    "start_time": "2024-08-07T05:37:57.952Z"
   },
   {
    "duration": 46,
    "start_time": "2024-08-07T05:37:58.689Z"
   },
   {
    "duration": 20,
    "start_time": "2024-08-07T05:37:58.738Z"
   },
   {
    "duration": 5,
    "start_time": "2024-08-07T05:37:58.761Z"
   },
   {
    "duration": 19,
    "start_time": "2024-08-07T05:37:58.770Z"
   },
   {
    "duration": 6,
    "start_time": "2024-08-07T05:37:58.827Z"
   },
   {
    "duration": 235,
    "start_time": "2024-08-07T05:37:58.838Z"
   },
   {
    "duration": 307,
    "start_time": "2024-08-08T04:24:13.704Z"
   },
   {
    "duration": 4320,
    "start_time": "2024-08-08T04:24:26.866Z"
   },
   {
    "duration": 53,
    "start_time": "2024-08-08T04:24:31.191Z"
   },
   {
    "duration": 27,
    "start_time": "2024-08-08T04:24:31.247Z"
   },
   {
    "duration": 4,
    "start_time": "2024-08-08T04:24:31.278Z"
   },
   {
    "duration": 19,
    "start_time": "2024-08-08T04:24:31.288Z"
   },
   {
    "duration": 5,
    "start_time": "2024-08-08T04:24:31.310Z"
   },
   {
    "duration": 267,
    "start_time": "2024-08-08T04:24:31.319Z"
   },
   {
    "duration": 8,
    "start_time": "2024-08-08T04:24:31.589Z"
   },
   {
    "duration": 13,
    "start_time": "2024-08-08T04:24:45.968Z"
   },
   {
    "duration": 7,
    "start_time": "2024-08-08T04:25:01.311Z"
   },
   {
    "duration": 5,
    "start_time": "2024-08-08T04:26:00.579Z"
   },
   {
    "duration": 9,
    "start_time": "2024-08-08T04:26:17.609Z"
   },
   {
    "duration": 8,
    "start_time": "2024-08-08T04:26:33.430Z"
   },
   {
    "duration": 221,
    "start_time": "2024-08-08T04:26:47.753Z"
   },
   {
    "duration": 210,
    "start_time": "2024-08-08T04:27:18.175Z"
   },
   {
    "duration": 206,
    "start_time": "2024-08-08T04:27:24.771Z"
   },
   {
    "duration": 258,
    "start_time": "2024-08-08T04:27:31.067Z"
   },
   {
    "duration": 206,
    "start_time": "2024-08-08T04:27:37.392Z"
   },
   {
    "duration": 8,
    "start_time": "2024-08-08T04:28:40.032Z"
   },
   {
    "duration": 7,
    "start_time": "2024-08-08T04:28:47.615Z"
   },
   {
    "duration": 7,
    "start_time": "2024-08-08T04:28:50.709Z"
   },
   {
    "duration": 7,
    "start_time": "2024-08-08T04:28:59.940Z"
   },
   {
    "duration": 211,
    "start_time": "2024-08-08T04:30:55.168Z"
   },
   {
    "duration": 201,
    "start_time": "2024-08-08T04:30:59.408Z"
   },
   {
    "duration": 601,
    "start_time": "2024-08-08T04:32:10.884Z"
   },
   {
    "duration": 129,
    "start_time": "2024-08-08T04:32:33.030Z"
   },
   {
    "duration": 125,
    "start_time": "2024-08-08T04:36:44.332Z"
   },
   {
    "duration": 133,
    "start_time": "2024-08-08T04:38:06.079Z"
   },
   {
    "duration": 162,
    "start_time": "2024-08-08T04:38:14.825Z"
   },
   {
    "duration": 161,
    "start_time": "2024-08-08T04:38:34.299Z"
   },
   {
    "duration": 7,
    "start_time": "2024-08-08T04:39:13.987Z"
   },
   {
    "duration": 6,
    "start_time": "2024-08-08T04:39:25.309Z"
   },
   {
    "duration": 189,
    "start_time": "2024-08-08T04:39:36.855Z"
   },
   {
    "duration": 9,
    "start_time": "2024-08-08T04:44:37.408Z"
   },
   {
    "duration": 24,
    "start_time": "2024-08-08T04:44:50.815Z"
   },
   {
    "duration": 29,
    "start_time": "2024-08-08T04:46:26.600Z"
   },
   {
    "duration": 37,
    "start_time": "2024-08-08T04:46:54.116Z"
   },
   {
    "duration": 20,
    "start_time": "2024-08-08T04:46:55.844Z"
   },
   {
    "duration": 7,
    "start_time": "2024-08-08T04:46:58.765Z"
   },
   {
    "duration": 17,
    "start_time": "2024-08-08T04:47:01.951Z"
   },
   {
    "duration": 29,
    "start_time": "2024-08-08T04:47:10.204Z"
   },
   {
    "duration": 4988,
    "start_time": "2024-08-08T14:41:59.313Z"
   },
   {
    "duration": 58,
    "start_time": "2024-08-08T14:42:04.305Z"
   },
   {
    "duration": 19,
    "start_time": "2024-08-08T14:42:04.366Z"
   },
   {
    "duration": 6,
    "start_time": "2024-08-08T14:42:04.387Z"
   },
   {
    "duration": 18,
    "start_time": "2024-08-08T14:42:04.398Z"
   },
   {
    "duration": 5,
    "start_time": "2024-08-08T14:42:04.419Z"
   },
   {
    "duration": 264,
    "start_time": "2024-08-08T14:42:04.427Z"
   },
   {
    "duration": 7,
    "start_time": "2024-08-08T14:42:04.695Z"
   },
   {
    "duration": 172,
    "start_time": "2024-08-08T14:42:04.712Z"
   },
   {
    "duration": 206,
    "start_time": "2024-08-08T14:42:04.892Z"
   },
   {
    "duration": 34,
    "start_time": "2024-08-08T14:42:05.102Z"
   },
   {
    "duration": 11,
    "start_time": "2024-08-08T14:50:03.926Z"
   },
   {
    "duration": 11,
    "start_time": "2024-08-08T14:50:14.991Z"
   },
   {
    "duration": 7,
    "start_time": "2024-08-08T14:52:58.972Z"
   },
   {
    "duration": 8,
    "start_time": "2024-08-08T14:53:04.354Z"
   },
   {
    "duration": 779,
    "start_time": "2024-08-08T14:53:22.811Z"
   },
   {
    "duration": 27,
    "start_time": "2024-08-08T14:56:19.560Z"
   },
   {
    "duration": 1205,
    "start_time": "2024-08-08T14:56:27.939Z"
   },
   {
    "duration": 929,
    "start_time": "2024-08-08T14:58:50.386Z"
   },
   {
    "duration": 6,
    "start_time": "2024-08-08T14:58:57.311Z"
   },
   {
    "duration": 7,
    "start_time": "2024-08-08T15:01:48.799Z"
   },
   {
    "duration": 7,
    "start_time": "2024-08-08T15:01:50.790Z"
   },
   {
    "duration": 8,
    "start_time": "2024-08-08T15:02:23.956Z"
   },
   {
    "duration": 96,
    "start_time": "2024-08-08T15:02:31.147Z"
   },
   {
    "duration": 27,
    "start_time": "2024-08-08T15:03:59.952Z"
   },
   {
    "duration": 26,
    "start_time": "2024-08-08T15:04:32.053Z"
   },
   {
    "duration": 8,
    "start_time": "2024-08-08T15:05:02.802Z"
   },
   {
    "duration": 5,
    "start_time": "2024-08-08T15:05:13.568Z"
   },
   {
    "duration": 7,
    "start_time": "2024-08-08T15:05:14.650Z"
   },
   {
    "duration": 6,
    "start_time": "2024-08-08T15:05:16.950Z"
   },
   {
    "duration": 4,
    "start_time": "2024-08-08T15:05:29.691Z"
   },
   {
    "duration": 7,
    "start_time": "2024-08-08T15:05:30.225Z"
   },
   {
    "duration": 29,
    "start_time": "2024-08-08T15:05:46.380Z"
   },
   {
    "duration": 5,
    "start_time": "2024-08-08T15:05:50.790Z"
   },
   {
    "duration": 6,
    "start_time": "2024-08-08T15:05:52.930Z"
   },
   {
    "duration": 40,
    "start_time": "2024-08-08T15:05:57.473Z"
   },
   {
    "duration": 19,
    "start_time": "2024-08-08T15:05:58.786Z"
   },
   {
    "duration": 5,
    "start_time": "2024-08-08T15:06:01.897Z"
   },
   {
    "duration": 5,
    "start_time": "2024-08-08T15:06:05.445Z"
   },
   {
    "duration": 5,
    "start_time": "2024-08-08T15:06:06.244Z"
   },
   {
    "duration": 5,
    "start_time": "2024-08-08T15:06:08.497Z"
   },
   {
    "duration": 8,
    "start_time": "2024-08-08T15:14:58.281Z"
   },
   {
    "duration": 7,
    "start_time": "2024-08-08T15:16:00.133Z"
   },
   {
    "duration": 1362,
    "start_time": "2024-08-08T15:16:13.075Z"
   },
   {
    "duration": 49,
    "start_time": "2024-08-08T15:16:14.442Z"
   },
   {
    "duration": 22,
    "start_time": "2024-08-08T15:16:14.493Z"
   },
   {
    "duration": 5,
    "start_time": "2024-08-08T15:16:14.518Z"
   },
   {
    "duration": 21,
    "start_time": "2024-08-08T15:16:14.528Z"
   },
   {
    "duration": 39,
    "start_time": "2024-08-08T15:16:14.552Z"
   },
   {
    "duration": 268,
    "start_time": "2024-08-08T15:16:14.594Z"
   },
   {
    "duration": 6,
    "start_time": "2024-08-08T15:16:14.864Z"
   },
   {
    "duration": 10,
    "start_time": "2024-08-08T15:16:14.889Z"
   },
   {
    "duration": 165,
    "start_time": "2024-08-08T15:16:14.902Z"
   },
   {
    "duration": 272,
    "start_time": "2024-08-08T15:16:15.070Z"
   },
   {
    "duration": 49,
    "start_time": "2024-08-08T15:16:15.346Z"
   },
   {
    "duration": 698,
    "start_time": "2024-08-08T15:16:15.398Z"
   },
   {
    "duration": 26,
    "start_time": "2024-08-08T15:16:39.076Z"
   },
   {
    "duration": 6,
    "start_time": "2024-08-08T15:17:13.907Z"
   },
   {
    "duration": 9,
    "start_time": "2024-08-08T15:17:17.616Z"
   },
   {
    "duration": 1177,
    "start_time": "2024-08-08T15:17:53.744Z"
   },
   {
    "duration": 132,
    "start_time": "2024-08-08T15:19:57.286Z"
   },
   {
    "duration": 12,
    "start_time": "2024-08-08T15:21:02.686Z"
   },
   {
    "duration": 8,
    "start_time": "2024-08-08T15:21:05.180Z"
   },
   {
    "duration": 12,
    "start_time": "2024-08-08T15:21:36.656Z"
   },
   {
    "duration": 6,
    "start_time": "2024-08-08T15:21:50.187Z"
   },
   {
    "duration": 8,
    "start_time": "2024-08-08T15:22:05.985Z"
   },
   {
    "duration": 359,
    "start_time": "2024-08-08T15:22:21.700Z"
   },
   {
    "duration": 8,
    "start_time": "2024-08-08T15:22:27.587Z"
   },
   {
    "duration": 5,
    "start_time": "2024-08-08T15:23:30.022Z"
   },
   {
    "duration": 5,
    "start_time": "2024-08-08T15:29:12.426Z"
   },
   {
    "duration": 8,
    "start_time": "2024-08-08T15:29:12.796Z"
   },
   {
    "duration": 6,
    "start_time": "2024-08-08T15:29:17.230Z"
   },
   {
    "duration": 8,
    "start_time": "2024-08-08T15:29:17.916Z"
   },
   {
    "duration": 8,
    "start_time": "2024-08-08T15:30:13.223Z"
   },
   {
    "duration": 8,
    "start_time": "2024-08-08T15:30:27.770Z"
   },
   {
    "duration": 10,
    "start_time": "2024-08-08T15:30:44.022Z"
   },
   {
    "duration": 120,
    "start_time": "2024-08-08T15:31:20.149Z"
   },
   {
    "duration": 32,
    "start_time": "2024-08-08T15:31:38.621Z"
   },
   {
    "duration": 27,
    "start_time": "2024-08-08T15:31:45.213Z"
   },
   {
    "duration": 8,
    "start_time": "2024-08-08T15:32:09.584Z"
   },
   {
    "duration": 9,
    "start_time": "2024-08-08T15:32:18.466Z"
   },
   {
    "duration": 7,
    "start_time": "2024-08-08T15:36:34.016Z"
   },
   {
    "duration": 8,
    "start_time": "2024-08-08T15:36:47.812Z"
   },
   {
    "duration": 10,
    "start_time": "2024-08-08T15:37:05.726Z"
   },
   {
    "duration": 9,
    "start_time": "2024-08-08T15:37:07.086Z"
   },
   {
    "duration": 8,
    "start_time": "2024-08-08T15:37:17.426Z"
   },
   {
    "duration": 1389,
    "start_time": "2024-08-08T15:37:24.719Z"
   },
   {
    "duration": 42,
    "start_time": "2024-08-08T15:37:26.113Z"
   },
   {
    "duration": 39,
    "start_time": "2024-08-08T15:37:26.158Z"
   },
   {
    "duration": 6,
    "start_time": "2024-08-08T15:37:26.200Z"
   },
   {
    "duration": 26,
    "start_time": "2024-08-08T15:37:26.214Z"
   },
   {
    "duration": 7,
    "start_time": "2024-08-08T15:37:26.244Z"
   },
   {
    "duration": 297,
    "start_time": "2024-08-08T15:37:26.255Z"
   },
   {
    "duration": 5,
    "start_time": "2024-08-08T15:37:26.559Z"
   },
   {
    "duration": 32,
    "start_time": "2024-08-08T15:37:26.568Z"
   },
   {
    "duration": 10,
    "start_time": "2024-08-08T15:37:26.608Z"
   },
   {
    "duration": 20,
    "start_time": "2024-08-08T15:37:26.621Z"
   },
   {
    "duration": 10,
    "start_time": "2024-08-08T15:37:26.647Z"
   },
   {
    "duration": 7,
    "start_time": "2024-08-08T15:37:26.660Z"
   },
   {
    "duration": 176,
    "start_time": "2024-08-08T15:37:26.672Z"
   },
   {
    "duration": 301,
    "start_time": "2024-08-08T15:37:26.851Z"
   },
   {
    "duration": 50,
    "start_time": "2024-08-08T15:37:27.155Z"
   },
   {
    "duration": 794,
    "start_time": "2024-08-08T15:37:27.208Z"
   },
   {
    "duration": 7,
    "start_time": "2024-08-08T15:38:13.987Z"
   },
   {
    "duration": 8,
    "start_time": "2024-08-08T15:38:26.151Z"
   },
   {
    "duration": 19,
    "start_time": "2024-08-08T15:38:30.973Z"
   },
   {
    "duration": 17,
    "start_time": "2024-08-08T15:39:30.877Z"
   },
   {
    "duration": 1318,
    "start_time": "2024-08-08T15:39:37.811Z"
   },
   {
    "duration": 41,
    "start_time": "2024-08-08T15:39:39.133Z"
   },
   {
    "duration": 36,
    "start_time": "2024-08-08T15:39:39.176Z"
   },
   {
    "duration": 5,
    "start_time": "2024-08-08T15:39:39.220Z"
   },
   {
    "duration": 21,
    "start_time": "2024-08-08T15:39:39.232Z"
   },
   {
    "duration": 35,
    "start_time": "2024-08-08T15:39:39.256Z"
   },
   {
    "duration": 278,
    "start_time": "2024-08-08T15:39:39.295Z"
   },
   {
    "duration": 5,
    "start_time": "2024-08-08T15:39:39.576Z"
   },
   {
    "duration": 10,
    "start_time": "2024-08-08T15:39:39.592Z"
   },
   {
    "duration": 6,
    "start_time": "2024-08-08T15:39:39.606Z"
   },
   {
    "duration": 25,
    "start_time": "2024-08-08T15:39:39.616Z"
   },
   {
    "duration": 1848,
    "start_time": "2024-08-08T15:39:39.644Z"
   },
   {
    "duration": 0,
    "start_time": "2024-08-08T15:39:41.496Z"
   },
   {
    "duration": 0,
    "start_time": "2024-08-08T15:39:41.498Z"
   },
   {
    "duration": 0,
    "start_time": "2024-08-08T15:39:41.501Z"
   },
   {
    "duration": 0,
    "start_time": "2024-08-08T15:39:41.503Z"
   },
   {
    "duration": 0,
    "start_time": "2024-08-08T15:39:41.505Z"
   },
   {
    "duration": 0,
    "start_time": "2024-08-08T15:39:41.508Z"
   },
   {
    "duration": 10,
    "start_time": "2024-08-08T15:42:07.196Z"
   },
   {
    "duration": 8,
    "start_time": "2024-08-08T15:42:10.881Z"
   },
   {
    "duration": 4,
    "start_time": "2024-08-08T15:42:22.667Z"
   },
   {
    "duration": 23,
    "start_time": "2024-08-08T15:47:44.326Z"
   },
   {
    "duration": 1384,
    "start_time": "2024-08-08T15:48:03.707Z"
   },
   {
    "duration": 49,
    "start_time": "2024-08-08T15:48:05.095Z"
   },
   {
    "duration": 42,
    "start_time": "2024-08-08T15:48:05.148Z"
   },
   {
    "duration": 6,
    "start_time": "2024-08-08T15:48:05.194Z"
   },
   {
    "duration": 21,
    "start_time": "2024-08-08T15:48:05.206Z"
   },
   {
    "duration": 6,
    "start_time": "2024-08-08T15:48:05.231Z"
   },
   {
    "duration": 270,
    "start_time": "2024-08-08T15:48:05.244Z"
   },
   {
    "duration": 6,
    "start_time": "2024-08-08T15:48:05.517Z"
   },
   {
    "duration": 11,
    "start_time": "2024-08-08T15:48:05.527Z"
   },
   {
    "duration": 5,
    "start_time": "2024-08-08T15:48:05.542Z"
   },
   {
    "duration": 64,
    "start_time": "2024-08-08T15:48:05.550Z"
   },
   {
    "duration": 1698,
    "start_time": "2024-08-08T15:48:05.618Z"
   },
   {
    "duration": 0,
    "start_time": "2024-08-08T15:48:07.320Z"
   },
   {
    "duration": 0,
    "start_time": "2024-08-08T15:48:07.322Z"
   },
   {
    "duration": 0,
    "start_time": "2024-08-08T15:48:07.324Z"
   },
   {
    "duration": 0,
    "start_time": "2024-08-08T15:48:07.325Z"
   },
   {
    "duration": 0,
    "start_time": "2024-08-08T15:48:07.327Z"
   },
   {
    "duration": 0,
    "start_time": "2024-08-08T15:48:07.329Z"
   },
   {
    "duration": 26,
    "start_time": "2024-08-08T15:48:28.294Z"
   },
   {
    "duration": 9,
    "start_time": "2024-08-08T15:48:44.321Z"
   },
   {
    "duration": 34,
    "start_time": "2024-08-08T15:49:19.356Z"
   },
   {
    "duration": 28,
    "start_time": "2024-08-08T15:49:49.227Z"
   },
   {
    "duration": 11,
    "start_time": "2024-08-08T15:52:09.678Z"
   },
   {
    "duration": 7,
    "start_time": "2024-08-08T15:52:17.215Z"
   },
   {
    "duration": 20,
    "start_time": "2024-08-08T15:52:21.646Z"
   },
   {
    "duration": 11,
    "start_time": "2024-08-08T15:54:08.868Z"
   },
   {
    "duration": 194,
    "start_time": "2024-08-08T15:54:27.713Z"
   },
   {
    "duration": 5,
    "start_time": "2024-08-08T15:54:51.822Z"
   },
   {
    "duration": 15,
    "start_time": "2024-08-08T15:54:53.438Z"
   },
   {
    "duration": 6,
    "start_time": "2024-08-08T15:56:30.518Z"
   },
   {
    "duration": 8,
    "start_time": "2024-08-08T15:56:45.912Z"
   },
   {
    "duration": 8,
    "start_time": "2024-08-08T15:57:57.368Z"
   },
   {
    "duration": 206,
    "start_time": "2024-08-08T15:58:10.967Z"
   },
   {
    "duration": 220,
    "start_time": "2024-08-08T15:58:44.741Z"
   },
   {
    "duration": 8,
    "start_time": "2024-08-08T15:59:51.270Z"
   },
   {
    "duration": 29,
    "start_time": "2024-08-08T16:01:23.948Z"
   },
   {
    "duration": 9,
    "start_time": "2024-08-08T16:01:38.372Z"
   },
   {
    "duration": 24,
    "start_time": "2024-08-08T16:01:42.447Z"
   },
   {
    "duration": 244,
    "start_time": "2024-08-08T16:10:24.194Z"
   },
   {
    "duration": 1408,
    "start_time": "2024-08-08T16:10:43.503Z"
   },
   {
    "duration": 44,
    "start_time": "2024-08-08T16:10:44.915Z"
   },
   {
    "duration": 35,
    "start_time": "2024-08-08T16:10:44.962Z"
   },
   {
    "duration": 8,
    "start_time": "2024-08-08T16:10:45.000Z"
   },
   {
    "duration": 20,
    "start_time": "2024-08-08T16:10:45.014Z"
   },
   {
    "duration": 6,
    "start_time": "2024-08-08T16:10:45.038Z"
   },
   {
    "duration": 310,
    "start_time": "2024-08-08T16:10:45.048Z"
   },
   {
    "duration": 5,
    "start_time": "2024-08-08T16:10:45.362Z"
   },
   {
    "duration": 11,
    "start_time": "2024-08-08T16:10:45.390Z"
   },
   {
    "duration": 5,
    "start_time": "2024-08-08T16:10:45.404Z"
   },
   {
    "duration": 16,
    "start_time": "2024-08-08T16:10:45.414Z"
   },
   {
    "duration": 14,
    "start_time": "2024-08-08T16:10:45.433Z"
   },
   {
    "duration": 203,
    "start_time": "2024-08-08T16:10:45.450Z"
   },
   {
    "duration": 295,
    "start_time": "2024-08-08T16:10:45.659Z"
   },
   {
    "duration": 50,
    "start_time": "2024-08-08T16:10:45.958Z"
   },
   {
    "duration": 211,
    "start_time": "2024-08-08T16:10:46.015Z"
   },
   {
    "duration": 199,
    "start_time": "2024-08-08T16:11:29.626Z"
   },
   {
    "duration": 29,
    "start_time": "2024-08-08T16:11:37.666Z"
   },
   {
    "duration": 18,
    "start_time": "2024-08-08T16:15:41.008Z"
   },
   {
    "duration": 20,
    "start_time": "2024-08-08T16:15:51.297Z"
   },
   {
    "duration": 8,
    "start_time": "2024-08-08T16:16:29.332Z"
   },
   {
    "duration": 17,
    "start_time": "2024-08-08T16:16:34.943Z"
   },
   {
    "duration": 16,
    "start_time": "2024-08-08T16:16:36.938Z"
   },
   {
    "duration": 18,
    "start_time": "2024-08-08T16:17:07.531Z"
   },
   {
    "duration": 8,
    "start_time": "2024-08-08T16:19:50.707Z"
   },
   {
    "duration": 10,
    "start_time": "2024-08-08T16:22:11.715Z"
   },
   {
    "duration": 8,
    "start_time": "2024-08-08T16:22:23.978Z"
   },
   {
    "duration": 20,
    "start_time": "2024-08-08T16:22:44.076Z"
   },
   {
    "duration": 7,
    "start_time": "2024-08-08T16:22:56.648Z"
   },
   {
    "duration": 8,
    "start_time": "2024-08-08T16:25:38.015Z"
   },
   {
    "duration": 5,
    "start_time": "2024-08-08T16:26:57.685Z"
   },
   {
    "duration": 18,
    "start_time": "2024-08-08T16:27:15.798Z"
   },
   {
    "duration": 344,
    "start_time": "2024-08-08T20:05:51.451Z"
   },
   {
    "duration": 5290,
    "start_time": "2024-08-08T20:05:59.952Z"
   },
   {
    "duration": 53,
    "start_time": "2024-08-08T20:06:05.246Z"
   },
   {
    "duration": 24,
    "start_time": "2024-08-08T20:06:05.302Z"
   },
   {
    "duration": 6,
    "start_time": "2024-08-08T20:06:05.330Z"
   },
   {
    "duration": 26,
    "start_time": "2024-08-08T20:06:05.342Z"
   },
   {
    "duration": 37,
    "start_time": "2024-08-08T20:06:05.374Z"
   },
   {
    "duration": 281,
    "start_time": "2024-08-08T20:06:05.418Z"
   },
   {
    "duration": 10,
    "start_time": "2024-08-08T20:06:05.702Z"
   },
   {
    "duration": 11,
    "start_time": "2024-08-08T20:06:05.715Z"
   },
   {
    "duration": 6,
    "start_time": "2024-08-08T20:06:05.729Z"
   },
   {
    "duration": 13,
    "start_time": "2024-08-08T20:06:05.742Z"
   },
   {
    "duration": 54,
    "start_time": "2024-08-08T20:06:05.759Z"
   },
   {
    "duration": 24,
    "start_time": "2024-08-08T20:06:05.817Z"
   },
   {
    "duration": 7,
    "start_time": "2024-08-08T20:06:05.846Z"
   },
   {
    "duration": 9,
    "start_time": "2024-08-08T20:06:05.857Z"
   },
   {
    "duration": 33,
    "start_time": "2024-08-08T20:06:05.904Z"
   },
   {
    "duration": 29,
    "start_time": "2024-08-08T20:06:22.687Z"
   },
   {
    "duration": 18,
    "start_time": "2024-08-08T20:09:11.831Z"
   },
   {
    "duration": 420,
    "start_time": "2024-08-08T20:10:40.666Z"
   },
   {
    "duration": 937,
    "start_time": "2024-08-08T20:10:46.361Z"
   },
   {
    "duration": 10,
    "start_time": "2024-08-08T20:11:02.054Z"
   },
   {
    "duration": 29,
    "start_time": "2024-08-08T20:11:07.887Z"
   },
   {
    "duration": 23,
    "start_time": "2024-08-08T20:11:13.515Z"
   },
   {
    "duration": 7,
    "start_time": "2024-08-08T20:11:35.736Z"
   },
   {
    "duration": 18,
    "start_time": "2024-08-08T20:11:36.443Z"
   },
   {
    "duration": 5,
    "start_time": "2024-08-08T20:11:58.701Z"
   },
   {
    "duration": 15,
    "start_time": "2024-08-08T20:14:40.962Z"
   },
   {
    "duration": 17,
    "start_time": "2024-08-08T20:14:44.761Z"
   },
   {
    "duration": 32,
    "start_time": "2024-08-08T20:14:53.838Z"
   },
   {
    "duration": 11,
    "start_time": "2024-08-08T20:15:23.587Z"
   },
   {
    "duration": 532,
    "start_time": "2024-08-08T20:16:39.826Z"
   },
   {
    "duration": 45,
    "start_time": "2024-08-08T20:16:46.386Z"
   },
   {
    "duration": 42,
    "start_time": "2024-08-08T20:16:51.890Z"
   },
   {
    "duration": 16,
    "start_time": "2024-08-08T20:18:12.592Z"
   },
   {
    "duration": 468,
    "start_time": "2024-08-08T20:19:08.527Z"
   },
   {
    "duration": 381,
    "start_time": "2024-08-08T20:20:10.056Z"
   },
   {
    "duration": 393,
    "start_time": "2024-08-08T20:20:53.302Z"
   },
   {
    "duration": 393,
    "start_time": "2024-08-08T20:21:48.441Z"
   },
   {
    "duration": 11,
    "start_time": "2024-08-08T20:27:53.098Z"
   },
   {
    "duration": 11,
    "start_time": "2024-08-08T20:28:14.332Z"
   },
   {
    "duration": 30,
    "start_time": "2024-08-08T20:29:18.788Z"
   },
   {
    "duration": 6,
    "start_time": "2024-08-08T20:30:04.289Z"
   },
   {
    "duration": 18,
    "start_time": "2024-08-08T20:30:10.222Z"
   },
   {
    "duration": 32,
    "start_time": "2024-08-08T20:31:44.833Z"
   },
   {
    "duration": 325,
    "start_time": "2024-08-08T20:32:03.411Z"
   },
   {
    "duration": 359,
    "start_time": "2024-08-08T20:32:58.374Z"
   },
   {
    "duration": 309,
    "start_time": "2024-08-08T20:33:39.330Z"
   },
   {
    "duration": 11,
    "start_time": "2024-08-08T20:40:27.926Z"
   },
   {
    "duration": 4,
    "start_time": "2024-08-08T20:41:08.129Z"
   },
   {
    "duration": 33,
    "start_time": "2024-08-08T20:41:11.519Z"
   },
   {
    "duration": 11,
    "start_time": "2024-08-08T20:41:13.996Z"
   },
   {
    "duration": 163,
    "start_time": "2024-08-08T20:42:44.727Z"
   },
   {
    "duration": 8,
    "start_time": "2024-08-08T20:43:31.671Z"
   },
   {
    "duration": 15,
    "start_time": "2024-08-08T20:46:21.399Z"
   },
   {
    "duration": 35,
    "start_time": "2024-08-08T20:46:28.393Z"
   },
   {
    "duration": 10,
    "start_time": "2024-08-08T20:48:07.736Z"
   },
   {
    "duration": 10,
    "start_time": "2024-08-08T20:49:02.422Z"
   },
   {
    "duration": 20,
    "start_time": "2024-08-08T20:49:07.711Z"
   },
   {
    "duration": 300,
    "start_time": "2024-08-08T20:49:20.091Z"
   },
   {
    "duration": 42,
    "start_time": "2024-08-08T20:51:24.595Z"
   },
   {
    "duration": 35,
    "start_time": "2024-08-08T20:52:14.560Z"
   },
   {
    "duration": 99,
    "start_time": "2024-08-08T20:52:24.063Z"
   },
   {
    "duration": 328,
    "start_time": "2024-08-08T20:55:15.212Z"
   },
   {
    "duration": 12,
    "start_time": "2024-08-08T20:56:23.742Z"
   },
   {
    "duration": 309,
    "start_time": "2024-08-08T20:56:49.253Z"
   },
   {
    "duration": 14,
    "start_time": "2024-08-08T20:57:01.513Z"
   },
   {
    "duration": 410,
    "start_time": "2024-08-08T20:57:58.231Z"
   },
   {
    "duration": 282,
    "start_time": "2024-08-08T20:58:28.142Z"
   },
   {
    "duration": 263,
    "start_time": "2024-08-08T20:58:45.167Z"
   },
   {
    "duration": 95,
    "start_time": "2024-08-08T20:59:48.951Z"
   },
   {
    "duration": 105,
    "start_time": "2024-08-08T20:59:56.322Z"
   },
   {
    "duration": 221,
    "start_time": "2024-08-08T21:00:12.816Z"
   },
   {
    "duration": 226,
    "start_time": "2024-08-08T21:01:33.086Z"
   },
   {
    "duration": 1326,
    "start_time": "2024-08-08T21:02:06.223Z"
   },
   {
    "duration": 267,
    "start_time": "2024-08-08T21:02:32.706Z"
   },
   {
    "duration": 263,
    "start_time": "2024-08-08T21:02:55.363Z"
   },
   {
    "duration": 4842,
    "start_time": "2024-08-09T00:59:31.680Z"
   },
   {
    "duration": 59,
    "start_time": "2024-08-09T00:59:36.534Z"
   },
   {
    "duration": 19,
    "start_time": "2024-08-09T00:59:36.595Z"
   },
   {
    "duration": 4,
    "start_time": "2024-08-09T00:59:36.619Z"
   },
   {
    "duration": 20,
    "start_time": "2024-08-09T00:59:36.634Z"
   },
   {
    "duration": 7,
    "start_time": "2024-08-09T00:59:36.657Z"
   },
   {
    "duration": 255,
    "start_time": "2024-08-09T00:59:36.667Z"
   },
   {
    "duration": 10,
    "start_time": "2024-08-09T00:59:36.925Z"
   },
   {
    "duration": 12,
    "start_time": "2024-08-09T00:59:36.939Z"
   },
   {
    "duration": 4,
    "start_time": "2024-08-09T00:59:36.954Z"
   },
   {
    "duration": 14,
    "start_time": "2024-08-09T00:59:36.962Z"
   },
   {
    "duration": 58,
    "start_time": "2024-08-09T00:59:36.979Z"
   },
   {
    "duration": 21,
    "start_time": "2024-08-09T00:59:37.043Z"
   },
   {
    "duration": 6,
    "start_time": "2024-08-09T00:59:37.070Z"
   },
   {
    "duration": 8,
    "start_time": "2024-08-09T00:59:37.079Z"
   },
   {
    "duration": 67,
    "start_time": "2024-08-09T00:59:37.090Z"
   },
   {
    "duration": 5,
    "start_time": "2024-08-09T00:59:37.164Z"
   },
   {
    "duration": 388,
    "start_time": "2024-08-09T00:59:37.172Z"
   },
   {
    "duration": 315,
    "start_time": "2024-08-09T00:59:37.563Z"
   },
   {
    "duration": 249,
    "start_time": "2024-08-09T00:59:37.881Z"
   },
   {
    "duration": 13,
    "start_time": "2024-08-09T00:59:38.134Z"
   },
   {
    "duration": 228,
    "start_time": "2024-08-09T01:01:44.720Z"
   },
   {
    "duration": 686,
    "start_time": "2024-08-09T01:06:31.039Z"
   },
   {
    "duration": 1134,
    "start_time": "2024-08-09T01:06:48.045Z"
   },
   {
    "duration": 215,
    "start_time": "2024-08-09T01:07:19.197Z"
   },
   {
    "duration": 144,
    "start_time": "2024-08-09T01:11:58.632Z"
   },
   {
    "duration": 224,
    "start_time": "2024-08-09T01:12:04.127Z"
   },
   {
    "duration": 34,
    "start_time": "2024-08-09T01:17:01.274Z"
   },
   {
    "duration": 846,
    "start_time": "2024-08-09T01:17:09.367Z"
   },
   {
    "duration": 104,
    "start_time": "2024-08-09T01:17:37.407Z"
   },
   {
    "duration": 9,
    "start_time": "2024-08-09T01:18:31.133Z"
   },
   {
    "duration": 86,
    "start_time": "2024-08-09T01:18:34.880Z"
   },
   {
    "duration": 323,
    "start_time": "2024-08-09T01:20:08.256Z"
   },
   {
    "duration": 9,
    "start_time": "2024-08-09T01:20:42.510Z"
   },
   {
    "duration": 306,
    "start_time": "2024-08-09T01:20:51.395Z"
   },
   {
    "duration": 538,
    "start_time": "2024-08-09T01:20:55.022Z"
   },
   {
    "duration": 309,
    "start_time": "2024-08-09T01:21:00.799Z"
   },
   {
    "duration": 433,
    "start_time": "2024-08-09T01:21:25.277Z"
   },
   {
    "duration": 79,
    "start_time": "2024-08-09T01:34:36.279Z"
   },
   {
    "duration": 31,
    "start_time": "2024-08-09T01:35:39.377Z"
   },
   {
    "duration": 6,
    "start_time": "2024-08-09T01:35:55.983Z"
   },
   {
    "duration": 7,
    "start_time": "2024-08-09T01:36:32.932Z"
   },
   {
    "duration": 8,
    "start_time": "2024-08-09T01:36:38.626Z"
   },
   {
    "duration": 9,
    "start_time": "2024-08-09T01:37:20.425Z"
   },
   {
    "duration": 6,
    "start_time": "2024-08-09T01:37:21.263Z"
   },
   {
    "duration": 8,
    "start_time": "2024-08-09T01:37:43.751Z"
   },
   {
    "duration": 7,
    "start_time": "2024-08-09T01:37:44.611Z"
   },
   {
    "duration": 8,
    "start_time": "2024-08-09T01:37:49.711Z"
   },
   {
    "duration": 6,
    "start_time": "2024-08-09T01:37:50.067Z"
   },
   {
    "duration": 526,
    "start_time": "2024-08-09T01:42:14.825Z"
   },
   {
    "duration": 361,
    "start_time": "2024-08-09T01:44:38.487Z"
   },
   {
    "duration": 13,
    "start_time": "2024-08-09T01:45:11.703Z"
   },
   {
    "duration": 545,
    "start_time": "2024-08-09T01:45:25.751Z"
   },
   {
    "duration": 512,
    "start_time": "2024-08-09T01:47:02.540Z"
   },
   {
    "duration": 566,
    "start_time": "2024-08-09T01:52:12.152Z"
   },
   {
    "duration": 828,
    "start_time": "2024-08-09T01:52:26.425Z"
   },
   {
    "duration": 5159,
    "start_time": "2024-08-09T15:47:11.480Z"
   },
   {
    "duration": 62,
    "start_time": "2024-08-09T15:47:16.643Z"
   },
   {
    "duration": 22,
    "start_time": "2024-08-09T15:47:16.710Z"
   },
   {
    "duration": 5,
    "start_time": "2024-08-09T15:47:16.737Z"
   },
   {
    "duration": 24,
    "start_time": "2024-08-09T15:47:16.746Z"
   },
   {
    "duration": 6,
    "start_time": "2024-08-09T15:47:16.774Z"
   },
   {
    "duration": 299,
    "start_time": "2024-08-09T15:47:16.785Z"
   },
   {
    "duration": 7,
    "start_time": "2024-08-09T15:47:17.091Z"
   },
   {
    "duration": 26,
    "start_time": "2024-08-09T15:47:17.102Z"
   },
   {
    "duration": 5,
    "start_time": "2024-08-09T15:47:17.133Z"
   },
   {
    "duration": 13,
    "start_time": "2024-08-09T15:47:17.141Z"
   },
   {
    "duration": 16,
    "start_time": "2024-08-09T15:47:17.157Z"
   },
   {
    "duration": 63,
    "start_time": "2024-08-09T15:47:17.176Z"
   },
   {
    "duration": 8,
    "start_time": "2024-08-09T15:47:17.243Z"
   },
   {
    "duration": 8,
    "start_time": "2024-08-09T15:47:17.255Z"
   },
   {
    "duration": 71,
    "start_time": "2024-08-09T15:47:17.266Z"
   },
   {
    "duration": 6,
    "start_time": "2024-08-09T15:47:17.341Z"
   },
   {
    "duration": 429,
    "start_time": "2024-08-09T15:47:17.351Z"
   },
   {
    "duration": 359,
    "start_time": "2024-08-09T15:47:17.788Z"
   },
   {
    "duration": 261,
    "start_time": "2024-08-09T15:47:18.150Z"
   },
   {
    "duration": 259,
    "start_time": "2024-08-09T15:47:18.415Z"
   },
   {
    "duration": 338,
    "start_time": "2024-08-09T15:47:18.677Z"
   },
   {
    "duration": 234,
    "start_time": "2024-08-09T15:47:19.027Z"
   },
   {
    "duration": 603,
    "start_time": "2024-08-09T15:47:19.264Z"
   },
   {
    "duration": 42,
    "start_time": "2024-08-09T15:54:27.305Z"
   },
   {
    "duration": 1370,
    "start_time": "2024-08-09T15:54:56.712Z"
   },
   {
    "duration": 49,
    "start_time": "2024-08-09T15:54:58.085Z"
   },
   {
    "duration": 23,
    "start_time": "2024-08-09T15:54:58.138Z"
   },
   {
    "duration": 9,
    "start_time": "2024-08-09T15:54:58.168Z"
   },
   {
    "duration": 18,
    "start_time": "2024-08-09T15:54:58.182Z"
   },
   {
    "duration": 30,
    "start_time": "2024-08-09T15:54:58.203Z"
   },
   {
    "duration": 263,
    "start_time": "2024-08-09T15:54:58.236Z"
   },
   {
    "duration": 6,
    "start_time": "2024-08-09T15:54:58.501Z"
   },
   {
    "duration": 14,
    "start_time": "2024-08-09T15:54:58.525Z"
   },
   {
    "duration": 8,
    "start_time": "2024-08-09T15:54:58.545Z"
   },
   {
    "duration": 21,
    "start_time": "2024-08-09T15:54:58.556Z"
   },
   {
    "duration": 16,
    "start_time": "2024-08-09T15:54:58.580Z"
   },
   {
    "duration": 48,
    "start_time": "2024-08-09T15:54:58.599Z"
   },
   {
    "duration": 8,
    "start_time": "2024-08-09T15:54:58.651Z"
   },
   {
    "duration": 9,
    "start_time": "2024-08-09T15:54:58.664Z"
   },
   {
    "duration": 74,
    "start_time": "2024-08-09T15:54:58.677Z"
   },
   {
    "duration": 7,
    "start_time": "2024-08-09T15:54:58.754Z"
   },
   {
    "duration": 433,
    "start_time": "2024-08-09T15:54:58.764Z"
   },
   {
    "duration": 395,
    "start_time": "2024-08-09T15:54:59.200Z"
   },
   {
    "duration": 284,
    "start_time": "2024-08-09T15:54:59.598Z"
   },
   {
    "duration": 272,
    "start_time": "2024-08-09T15:54:59.886Z"
   },
   {
    "duration": 256,
    "start_time": "2024-08-09T15:55:00.161Z"
   },
   {
    "duration": 271,
    "start_time": "2024-08-09T15:55:00.421Z"
   },
   {
    "duration": 640,
    "start_time": "2024-08-09T15:55:00.695Z"
   },
   {
    "duration": 38,
    "start_time": "2024-08-09T15:55:01.337Z"
   },
   {
    "duration": 7,
    "start_time": "2024-08-09T15:57:28.327Z"
   },
   {
    "duration": 8,
    "start_time": "2024-08-09T15:58:28.450Z"
   },
   {
    "duration": 5,
    "start_time": "2024-08-09T15:59:30.891Z"
   },
   {
    "duration": 27,
    "start_time": "2024-08-09T15:59:56.880Z"
   },
   {
    "duration": 5,
    "start_time": "2024-08-09T16:00:04.598Z"
   },
   {
    "duration": 380,
    "start_time": "2024-08-09T16:00:06.925Z"
   },
   {
    "duration": 287,
    "start_time": "2024-08-09T16:00:10.802Z"
   },
   {
    "duration": 226,
    "start_time": "2024-08-09T16:00:15.660Z"
   },
   {
    "duration": 229,
    "start_time": "2024-08-09T16:00:20.762Z"
   },
   {
    "duration": 300,
    "start_time": "2024-08-09T16:00:23.409Z"
   },
   {
    "duration": 216,
    "start_time": "2024-08-09T16:00:25.496Z"
   },
   {
    "duration": 541,
    "start_time": "2024-08-09T16:00:34.471Z"
   },
   {
    "duration": 31,
    "start_time": "2024-08-09T16:00:39.951Z"
   },
   {
    "duration": 4870,
    "start_time": "2024-08-09T19:22:10.356Z"
   },
   {
    "duration": 56,
    "start_time": "2024-08-09T19:22:15.229Z"
   },
   {
    "duration": 21,
    "start_time": "2024-08-09T19:22:15.288Z"
   },
   {
    "duration": 17,
    "start_time": "2024-08-09T19:22:15.312Z"
   },
   {
    "duration": 18,
    "start_time": "2024-08-09T19:22:15.333Z"
   },
   {
    "duration": 6,
    "start_time": "2024-08-09T19:22:15.354Z"
   },
   {
    "duration": 253,
    "start_time": "2024-08-09T19:22:15.363Z"
   },
   {
    "duration": 6,
    "start_time": "2024-08-09T19:22:15.627Z"
   },
   {
    "duration": 8,
    "start_time": "2024-08-09T19:22:15.636Z"
   },
   {
    "duration": 5,
    "start_time": "2024-08-09T19:22:15.648Z"
   },
   {
    "duration": 12,
    "start_time": "2024-08-09T19:22:15.655Z"
   },
   {
    "duration": 58,
    "start_time": "2024-08-09T19:22:15.671Z"
   },
   {
    "duration": 21,
    "start_time": "2024-08-09T19:22:15.732Z"
   },
   {
    "duration": 6,
    "start_time": "2024-08-09T19:22:15.759Z"
   },
   {
    "duration": 8,
    "start_time": "2024-08-09T19:22:15.768Z"
   },
   {
    "duration": 68,
    "start_time": "2024-08-09T19:22:15.779Z"
   },
   {
    "duration": 7,
    "start_time": "2024-08-09T19:22:15.850Z"
   },
   {
    "duration": 7,
    "start_time": "2024-08-09T19:22:15.861Z"
   },
   {
    "duration": 7,
    "start_time": "2024-08-09T19:22:15.871Z"
   },
   {
    "duration": 66,
    "start_time": "2024-08-09T19:22:15.881Z"
   },
   {
    "duration": 6,
    "start_time": "2024-08-09T19:22:15.951Z"
   },
   {
    "duration": 417,
    "start_time": "2024-08-09T19:22:15.960Z"
   },
   {
    "duration": 302,
    "start_time": "2024-08-09T19:22:16.380Z"
   },
   {
    "duration": 248,
    "start_time": "2024-08-09T19:22:16.685Z"
   },
   {
    "duration": 244,
    "start_time": "2024-08-09T19:22:16.937Z"
   },
   {
    "duration": 305,
    "start_time": "2024-08-09T19:22:17.188Z"
   },
   {
    "duration": 247,
    "start_time": "2024-08-09T19:22:17.496Z"
   },
   {
    "duration": 578,
    "start_time": "2024-08-09T19:22:17.745Z"
   },
   {
    "duration": 35,
    "start_time": "2024-08-09T19:22:18.326Z"
   },
   {
    "duration": 7,
    "start_time": "2024-08-09T19:28:13.838Z"
   },
   {
    "duration": 15,
    "start_time": "2024-08-09T19:28:22.204Z"
   },
   {
    "duration": 15,
    "start_time": "2024-08-09T19:28:48.080Z"
   },
   {
    "duration": 468,
    "start_time": "2024-08-09T19:29:15.858Z"
   },
   {
    "duration": 48,
    "start_time": "2024-08-09T19:29:17.650Z"
   },
   {
    "duration": 49,
    "start_time": "2024-08-09T19:29:19.891Z"
   },
   {
    "duration": 11,
    "start_time": "2024-08-09T19:29:23.944Z"
   },
   {
    "duration": 10,
    "start_time": "2024-08-09T19:29:27.948Z"
   },
   {
    "duration": 12168,
    "start_time": "2024-08-09T19:29:35.713Z"
   },
   {
    "duration": 81,
    "start_time": "2024-08-09T19:30:33.414Z"
   },
   {
    "duration": 277,
    "start_time": "2024-08-09T19:31:33.581Z"
   },
   {
    "duration": 11,
    "start_time": "2024-08-09T19:31:46.436Z"
   },
   {
    "duration": 20,
    "start_time": "2024-08-09T19:32:26.691Z"
   },
   {
    "duration": 233,
    "start_time": "2024-08-09T19:32:43.393Z"
   },
   {
    "duration": 283,
    "start_time": "2024-08-09T19:34:25.830Z"
   },
   {
    "duration": 279,
    "start_time": "2024-08-09T19:35:06.679Z"
   },
   {
    "duration": 218,
    "start_time": "2024-08-09T19:47:53.481Z"
   },
   {
    "duration": 353,
    "start_time": "2024-08-09T19:48:41.769Z"
   },
   {
    "duration": 4845,
    "start_time": "2024-08-09T20:18:18.101Z"
   },
   {
    "duration": 57,
    "start_time": "2024-08-09T20:18:22.950Z"
   },
   {
    "duration": 19,
    "start_time": "2024-08-09T20:18:23.010Z"
   },
   {
    "duration": 6,
    "start_time": "2024-08-09T20:18:23.032Z"
   },
   {
    "duration": 25,
    "start_time": "2024-08-09T20:18:23.043Z"
   },
   {
    "duration": 5,
    "start_time": "2024-08-09T20:18:23.070Z"
   },
   {
    "duration": 273,
    "start_time": "2024-08-09T20:18:23.078Z"
   },
   {
    "duration": 5,
    "start_time": "2024-08-09T20:18:23.354Z"
   },
   {
    "duration": 7,
    "start_time": "2024-08-09T20:18:23.363Z"
   },
   {
    "duration": 4,
    "start_time": "2024-08-09T20:18:23.374Z"
   },
   {
    "duration": 50,
    "start_time": "2024-08-09T20:18:23.381Z"
   },
   {
    "duration": 13,
    "start_time": "2024-08-09T20:18:23.434Z"
   },
   {
    "duration": 21,
    "start_time": "2024-08-09T20:18:23.450Z"
   },
   {
    "duration": 6,
    "start_time": "2024-08-09T20:18:23.477Z"
   },
   {
    "duration": 46,
    "start_time": "2024-08-09T20:18:23.486Z"
   },
   {
    "duration": 28,
    "start_time": "2024-08-09T20:18:23.535Z"
   },
   {
    "duration": 6,
    "start_time": "2024-08-09T20:18:23.566Z"
   },
   {
    "duration": 7,
    "start_time": "2024-08-09T20:18:23.576Z"
   },
   {
    "duration": 4,
    "start_time": "2024-08-09T20:18:23.631Z"
   },
   {
    "duration": 26,
    "start_time": "2024-08-09T20:18:23.638Z"
   },
   {
    "duration": 6,
    "start_time": "2024-08-09T20:18:23.667Z"
   },
   {
    "duration": 413,
    "start_time": "2024-08-09T20:18:23.675Z"
   },
   {
    "duration": 306,
    "start_time": "2024-08-09T20:18:24.091Z"
   },
   {
    "duration": 305,
    "start_time": "2024-08-09T20:18:24.400Z"
   },
   {
    "duration": 241,
    "start_time": "2024-08-09T20:18:24.708Z"
   },
   {
    "duration": 232,
    "start_time": "2024-08-09T20:18:24.952Z"
   },
   {
    "duration": 238,
    "start_time": "2024-08-09T20:18:25.187Z"
   },
   {
    "duration": 575,
    "start_time": "2024-08-09T20:18:25.428Z"
   },
   {
    "duration": 208,
    "start_time": "2024-08-09T20:18:26.006Z"
   },
   {
    "duration": 1233,
    "start_time": "2024-08-09T20:19:08.998Z"
   },
   {
    "duration": 216,
    "start_time": "2024-08-09T20:19:23.072Z"
   },
   {
    "duration": 314,
    "start_time": "2024-08-09T20:19:58.795Z"
   },
   {
    "duration": 222,
    "start_time": "2024-08-09T20:20:14.580Z"
   },
   {
    "duration": 220,
    "start_time": "2024-08-09T20:23:45.601Z"
   },
   {
    "duration": 227,
    "start_time": "2024-08-09T20:23:55.773Z"
   },
   {
    "duration": 11,
    "start_time": "2024-08-09T20:24:20.257Z"
   },
   {
    "duration": 222,
    "start_time": "2024-08-09T20:24:23.679Z"
   },
   {
    "duration": 223,
    "start_time": "2024-08-09T20:24:40.744Z"
   },
   {
    "duration": 233,
    "start_time": "2024-08-09T20:25:11.763Z"
   },
   {
    "duration": 222,
    "start_time": "2024-08-09T20:26:31.592Z"
   },
   {
    "duration": 7,
    "start_time": "2024-08-09T20:26:40.652Z"
   },
   {
    "duration": 215,
    "start_time": "2024-08-09T20:26:55.747Z"
   },
   {
    "duration": 319,
    "start_time": "2024-08-09T20:27:32.052Z"
   },
   {
    "duration": 216,
    "start_time": "2024-08-09T20:27:43.197Z"
   },
   {
    "duration": 8,
    "start_time": "2024-08-09T20:32:14.250Z"
   },
   {
    "duration": 16,
    "start_time": "2024-08-09T20:33:01.768Z"
   },
   {
    "duration": 13,
    "start_time": "2024-08-09T20:33:08.438Z"
   },
   {
    "duration": 22,
    "start_time": "2024-08-09T20:33:12.860Z"
   },
   {
    "duration": 13,
    "start_time": "2024-08-09T20:33:17.096Z"
   },
   {
    "duration": 15,
    "start_time": "2024-08-09T20:33:17.319Z"
   },
   {
    "duration": 23,
    "start_time": "2024-08-09T20:33:29.546Z"
   },
   {
    "duration": 22,
    "start_time": "2024-08-09T20:33:43.782Z"
   },
   {
    "duration": 26,
    "start_time": "2024-08-09T20:33:48.141Z"
   },
   {
    "duration": 24,
    "start_time": "2024-08-09T20:34:59.055Z"
   },
   {
    "duration": 5,
    "start_time": "2024-08-09T20:35:31.557Z"
   },
   {
    "duration": 13,
    "start_time": "2024-08-09T20:35:36.455Z"
   },
   {
    "duration": 14,
    "start_time": "2024-08-09T20:37:26.876Z"
   },
   {
    "duration": 3,
    "start_time": "2024-08-09T20:37:27.221Z"
   },
   {
    "duration": 3,
    "start_time": "2024-08-09T20:37:31.691Z"
   },
   {
    "duration": 3,
    "start_time": "2024-08-09T20:38:15.077Z"
   },
   {
    "duration": 14,
    "start_time": "2024-08-09T20:38:26.169Z"
   },
   {
    "duration": 14,
    "start_time": "2024-08-09T20:38:26.619Z"
   },
   {
    "duration": 14,
    "start_time": "2024-08-09T20:38:33.105Z"
   },
   {
    "duration": 13,
    "start_time": "2024-08-09T20:38:33.571Z"
   },
   {
    "duration": 207,
    "start_time": "2024-08-09T20:38:43.926Z"
   },
   {
    "duration": 1255,
    "start_time": "2024-08-09T20:39:47.243Z"
   },
   {
    "duration": 47,
    "start_time": "2024-08-09T20:39:48.502Z"
   },
   {
    "duration": 19,
    "start_time": "2024-08-09T20:39:48.552Z"
   },
   {
    "duration": 5,
    "start_time": "2024-08-09T20:39:48.574Z"
   },
   {
    "duration": 51,
    "start_time": "2024-08-09T20:39:48.585Z"
   },
   {
    "duration": 6,
    "start_time": "2024-08-09T20:39:48.639Z"
   },
   {
    "duration": 243,
    "start_time": "2024-08-09T20:39:48.648Z"
   },
   {
    "duration": 6,
    "start_time": "2024-08-09T20:39:48.894Z"
   },
   {
    "duration": 29,
    "start_time": "2024-08-09T20:39:48.904Z"
   },
   {
    "duration": 5,
    "start_time": "2024-08-09T20:39:48.936Z"
   },
   {
    "duration": 14,
    "start_time": "2024-08-09T20:39:48.944Z"
   },
   {
    "duration": 12,
    "start_time": "2024-08-09T20:39:48.960Z"
   },
   {
    "duration": 61,
    "start_time": "2024-08-09T20:39:48.975Z"
   },
   {
    "duration": 7,
    "start_time": "2024-08-09T20:39:49.044Z"
   },
   {
    "duration": 10,
    "start_time": "2024-08-09T20:39:49.054Z"
   },
   {
    "duration": 67,
    "start_time": "2024-08-09T20:39:49.066Z"
   },
   {
    "duration": 7,
    "start_time": "2024-08-09T20:39:49.136Z"
   },
   {
    "duration": 7,
    "start_time": "2024-08-09T20:39:49.147Z"
   },
   {
    "duration": 4,
    "start_time": "2024-08-09T20:39:49.157Z"
   },
   {
    "duration": 70,
    "start_time": "2024-08-09T20:39:49.164Z"
   },
   {
    "duration": 8,
    "start_time": "2024-08-09T20:39:49.237Z"
   },
   {
    "duration": 398,
    "start_time": "2024-08-09T20:39:49.250Z"
   },
   {
    "duration": 362,
    "start_time": "2024-08-09T20:39:49.650Z"
   },
   {
    "duration": 248,
    "start_time": "2024-08-09T20:39:50.015Z"
   },
   {
    "duration": 258,
    "start_time": "2024-08-09T20:39:50.267Z"
   },
   {
    "duration": 228,
    "start_time": "2024-08-09T20:39:50.531Z"
   },
   {
    "duration": 232,
    "start_time": "2024-08-09T20:39:50.763Z"
   },
   {
    "duration": 593,
    "start_time": "2024-08-09T20:39:50.998Z"
   },
   {
    "duration": 226,
    "start_time": "2024-08-09T20:39:51.594Z"
   },
   {
    "duration": 14,
    "start_time": "2024-08-09T20:39:51.830Z"
   },
   {
    "duration": 233,
    "start_time": "2024-08-09T20:39:51.847Z"
   },
   {
    "duration": 1233,
    "start_time": "2024-08-09T20:41:24.749Z"
   },
   {
    "duration": 46,
    "start_time": "2024-08-09T20:41:25.986Z"
   },
   {
    "duration": 22,
    "start_time": "2024-08-09T20:41:26.035Z"
   },
   {
    "duration": 4,
    "start_time": "2024-08-09T20:41:26.062Z"
   },
   {
    "duration": 17,
    "start_time": "2024-08-09T20:41:26.072Z"
   },
   {
    "duration": 5,
    "start_time": "2024-08-09T20:41:26.130Z"
   },
   {
    "duration": 235,
    "start_time": "2024-08-09T20:41:26.138Z"
   },
   {
    "duration": 6,
    "start_time": "2024-08-09T20:41:26.376Z"
   },
   {
    "duration": 8,
    "start_time": "2024-08-09T20:41:26.386Z"
   },
   {
    "duration": 32,
    "start_time": "2024-08-09T20:41:26.397Z"
   },
   {
    "duration": 14,
    "start_time": "2024-08-09T20:41:26.432Z"
   },
   {
    "duration": 13,
    "start_time": "2024-08-09T20:41:26.448Z"
   },
   {
    "duration": 20,
    "start_time": "2024-08-09T20:41:26.463Z"
   },
   {
    "duration": 43,
    "start_time": "2024-08-09T20:41:26.490Z"
   },
   {
    "duration": 8,
    "start_time": "2024-08-09T20:41:26.537Z"
   },
   {
    "duration": 28,
    "start_time": "2024-08-09T20:41:26.547Z"
   },
   {
    "duration": 6,
    "start_time": "2024-08-09T20:41:26.578Z"
   },
   {
    "duration": 48,
    "start_time": "2024-08-09T20:41:26.587Z"
   },
   {
    "duration": 4,
    "start_time": "2024-08-09T20:41:26.638Z"
   },
   {
    "duration": 29,
    "start_time": "2024-08-09T20:41:26.645Z"
   },
   {
    "duration": 6,
    "start_time": "2024-08-09T20:41:26.677Z"
   },
   {
    "duration": 412,
    "start_time": "2024-08-09T20:41:26.686Z"
   },
   {
    "duration": 378,
    "start_time": "2024-08-09T20:41:27.101Z"
   },
   {
    "duration": 248,
    "start_time": "2024-08-09T20:41:27.482Z"
   },
   {
    "duration": 249,
    "start_time": "2024-08-09T20:41:27.733Z"
   },
   {
    "duration": 231,
    "start_time": "2024-08-09T20:41:27.984Z"
   },
   {
    "duration": 234,
    "start_time": "2024-08-09T20:41:28.218Z"
   },
   {
    "duration": 565,
    "start_time": "2024-08-09T20:41:28.455Z"
   },
   {
    "duration": 213,
    "start_time": "2024-08-09T20:41:29.023Z"
   },
   {
    "duration": 15,
    "start_time": "2024-08-09T20:41:29.239Z"
   },
   {
    "duration": 4,
    "start_time": "2024-08-09T20:41:29.256Z"
   },
   {
    "duration": 1283,
    "start_time": "2024-08-09T20:41:39.009Z"
   },
   {
    "duration": 45,
    "start_time": "2024-08-09T20:41:40.295Z"
   },
   {
    "duration": 19,
    "start_time": "2024-08-09T20:41:40.343Z"
   },
   {
    "duration": 5,
    "start_time": "2024-08-09T20:41:40.364Z"
   },
   {
    "duration": 20,
    "start_time": "2024-08-09T20:41:40.374Z"
   },
   {
    "duration": 38,
    "start_time": "2024-08-09T20:41:40.396Z"
   },
   {
    "duration": 235,
    "start_time": "2024-08-09T20:41:40.437Z"
   },
   {
    "duration": 5,
    "start_time": "2024-08-09T20:41:40.676Z"
   },
   {
    "duration": 9,
    "start_time": "2024-08-09T20:41:40.684Z"
   },
   {
    "duration": 6,
    "start_time": "2024-08-09T20:41:40.695Z"
   },
   {
    "duration": 15,
    "start_time": "2024-08-09T20:41:40.731Z"
   },
   {
    "duration": 13,
    "start_time": "2024-08-09T20:41:40.748Z"
   },
   {
    "duration": 21,
    "start_time": "2024-08-09T20:41:40.764Z"
   },
   {
    "duration": 43,
    "start_time": "2024-08-09T20:41:40.791Z"
   },
   {
    "duration": 8,
    "start_time": "2024-08-09T20:41:40.836Z"
   },
   {
    "duration": 27,
    "start_time": "2024-08-09T20:41:40.848Z"
   },
   {
    "duration": 8,
    "start_time": "2024-08-09T20:41:40.878Z"
   },
   {
    "duration": 7,
    "start_time": "2024-08-09T20:41:40.930Z"
   },
   {
    "duration": 7,
    "start_time": "2024-08-09T20:41:40.939Z"
   },
   {
    "duration": 25,
    "start_time": "2024-08-09T20:41:40.949Z"
   },
   {
    "duration": 6,
    "start_time": "2024-08-09T20:41:40.977Z"
   },
   {
    "duration": 446,
    "start_time": "2024-08-09T20:41:40.986Z"
   },
   {
    "duration": 370,
    "start_time": "2024-08-09T20:41:41.435Z"
   },
   {
    "duration": 253,
    "start_time": "2024-08-09T20:41:41.809Z"
   },
   {
    "duration": 276,
    "start_time": "2024-08-09T20:41:42.065Z"
   },
   {
    "duration": 247,
    "start_time": "2024-08-09T20:41:42.344Z"
   },
   {
    "duration": 247,
    "start_time": "2024-08-09T20:41:42.594Z"
   },
   {
    "duration": 576,
    "start_time": "2024-08-09T20:41:42.843Z"
   },
   {
    "duration": 218,
    "start_time": "2024-08-09T20:41:43.422Z"
   },
   {
    "duration": 16,
    "start_time": "2024-08-09T20:41:43.644Z"
   },
   {
    "duration": 4,
    "start_time": "2024-08-09T20:41:43.662Z"
   },
   {
    "duration": 18,
    "start_time": "2024-08-09T20:41:54.335Z"
   },
   {
    "duration": 10,
    "start_time": "2024-08-09T20:41:59.681Z"
   },
   {
    "duration": 14,
    "start_time": "2024-08-09T20:42:02.330Z"
   },
   {
    "duration": 39,
    "start_time": "2024-08-09T20:43:17.809Z"
   },
   {
    "duration": 493,
    "start_time": "2024-08-09T20:44:01.367Z"
   },
   {
    "duration": 9,
    "start_time": "2024-08-09T20:44:13.994Z"
   },
   {
    "duration": 16,
    "start_time": "2024-08-09T20:44:27.305Z"
   },
   {
    "duration": 15,
    "start_time": "2024-08-09T20:46:16.597Z"
   },
   {
    "duration": 15,
    "start_time": "2024-08-09T20:46:50.787Z"
   },
   {
    "duration": 15,
    "start_time": "2024-08-09T20:47:19.791Z"
   },
   {
    "duration": 16,
    "start_time": "2024-08-09T20:48:24.849Z"
   },
   {
    "duration": 4936,
    "start_time": "2024-08-10T04:20:56.890Z"
   },
   {
    "duration": 53,
    "start_time": "2024-08-10T04:21:01.834Z"
   },
   {
    "duration": 19,
    "start_time": "2024-08-10T04:21:01.889Z"
   },
   {
    "duration": 19,
    "start_time": "2024-08-10T04:21:01.911Z"
   },
   {
    "duration": 19,
    "start_time": "2024-08-10T04:21:01.934Z"
   },
   {
    "duration": 5,
    "start_time": "2024-08-10T04:21:01.956Z"
   },
   {
    "duration": 256,
    "start_time": "2024-08-10T04:21:01.964Z"
   },
   {
    "duration": 10,
    "start_time": "2024-08-10T04:21:02.223Z"
   },
   {
    "duration": 9,
    "start_time": "2024-08-10T04:21:02.236Z"
   },
   {
    "duration": 5,
    "start_time": "2024-08-10T04:21:02.250Z"
   },
   {
    "duration": 14,
    "start_time": "2024-08-10T04:21:02.257Z"
   },
   {
    "duration": 56,
    "start_time": "2024-08-10T04:21:02.274Z"
   },
   {
    "duration": 23,
    "start_time": "2024-08-10T04:21:02.334Z"
   },
   {
    "duration": 7,
    "start_time": "2024-08-10T04:21:02.363Z"
   },
   {
    "duration": 10,
    "start_time": "2024-08-10T04:21:02.373Z"
   },
   {
    "duration": 72,
    "start_time": "2024-08-10T04:21:02.387Z"
   },
   {
    "duration": 7,
    "start_time": "2024-08-10T04:21:02.461Z"
   },
   {
    "duration": 7,
    "start_time": "2024-08-10T04:21:02.471Z"
   },
   {
    "duration": 4,
    "start_time": "2024-08-10T04:21:02.481Z"
   },
   {
    "duration": 69,
    "start_time": "2024-08-10T04:21:02.487Z"
   },
   {
    "duration": 5,
    "start_time": "2024-08-10T04:21:02.560Z"
   },
   {
    "duration": 415,
    "start_time": "2024-08-10T04:21:02.568Z"
   },
   {
    "duration": 318,
    "start_time": "2024-08-10T04:21:02.986Z"
   },
   {
    "duration": 250,
    "start_time": "2024-08-10T04:21:03.307Z"
   },
   {
    "duration": 243,
    "start_time": "2024-08-10T04:21:03.561Z"
   },
   {
    "duration": 295,
    "start_time": "2024-08-10T04:21:03.807Z"
   },
   {
    "duration": 237,
    "start_time": "2024-08-10T04:21:04.105Z"
   },
   {
    "duration": 584,
    "start_time": "2024-08-10T04:21:04.347Z"
   },
   {
    "duration": 226,
    "start_time": "2024-08-10T04:21:04.934Z"
   },
   {
    "duration": 14,
    "start_time": "2024-08-10T04:21:05.163Z"
   },
   {
    "duration": 13,
    "start_time": "2024-08-10T04:21:05.180Z"
   },
   {
    "duration": 49,
    "start_time": "2024-08-10T04:21:05.197Z"
   },
   {
    "duration": 17,
    "start_time": "2024-08-10T04:21:05.248Z"
   },
   {
    "duration": 15,
    "start_time": "2024-08-10T04:21:05.268Z"
   },
   {
    "duration": 52,
    "start_time": "2024-08-10T04:21:05.286Z"
   },
   {
    "duration": 8,
    "start_time": "2024-08-10T04:24:52.880Z"
   },
   {
    "duration": 6,
    "start_time": "2024-08-10T04:25:02.514Z"
   },
   {
    "duration": 8,
    "start_time": "2024-08-10T04:26:17.094Z"
   },
   {
    "duration": 10,
    "start_time": "2024-08-10T04:26:22.889Z"
   },
   {
    "duration": 409,
    "start_time": "2024-08-10T04:26:38.043Z"
   },
   {
    "duration": 8,
    "start_time": "2024-08-10T04:26:49.541Z"
   },
   {
    "duration": 11,
    "start_time": "2024-08-10T04:26:49.939Z"
   },
   {
    "duration": 8,
    "start_time": "2024-08-10T04:26:58.344Z"
   },
   {
    "duration": 11,
    "start_time": "2024-08-10T04:26:58.944Z"
   },
   {
    "duration": 6,
    "start_time": "2024-08-10T04:27:16.452Z"
   },
   {
    "duration": 8,
    "start_time": "2024-08-10T04:27:19.728Z"
   },
   {
    "duration": 237,
    "start_time": "2024-08-10T04:27:26.060Z"
   },
   {
    "duration": 748,
    "start_time": "2024-08-10T04:28:20.989Z"
   },
   {
    "duration": 272,
    "start_time": "2024-08-10T04:28:52.405Z"
   },
   {
    "duration": 272,
    "start_time": "2024-08-10T04:29:46.343Z"
   },
   {
    "duration": 7,
    "start_time": "2024-08-10T04:30:14.760Z"
   },
   {
    "duration": 289,
    "start_time": "2024-08-10T04:30:21.440Z"
   },
   {
    "duration": 6,
    "start_time": "2024-08-10T04:32:55.466Z"
   },
   {
    "duration": 1371,
    "start_time": "2024-08-10T04:32:58.672Z"
   },
   {
    "duration": 284,
    "start_time": "2024-08-10T04:33:34.407Z"
   },
   {
    "duration": 25,
    "start_time": "2024-08-10T04:33:49.018Z"
   },
   {
    "duration": 283,
    "start_time": "2024-08-10T04:33:54.076Z"
   },
   {
    "duration": 7,
    "start_time": "2024-08-10T04:44:47.383Z"
   },
   {
    "duration": 18,
    "start_time": "2024-08-10T04:47:28.583Z"
   },
   {
    "duration": 6,
    "start_time": "2024-08-10T04:49:34.114Z"
   },
   {
    "duration": 8,
    "start_time": "2024-08-10T04:49:39.360Z"
   },
   {
    "duration": 27,
    "start_time": "2024-08-10T04:49:58.404Z"
   },
   {
    "duration": 9,
    "start_time": "2024-08-10T04:50:03.510Z"
   },
   {
    "duration": 12,
    "start_time": "2024-08-10T04:50:11.836Z"
   },
   {
    "duration": 10,
    "start_time": "2024-08-10T04:50:25.771Z"
   },
   {
    "duration": 4,
    "start_time": "2024-08-10T04:55:46.914Z"
   },
   {
    "duration": 4,
    "start_time": "2024-08-10T04:56:08.841Z"
   },
   {
    "duration": 23,
    "start_time": "2024-08-10T04:56:34.259Z"
   },
   {
    "duration": 365,
    "start_time": "2024-08-10T04:56:41.535Z"
   },
   {
    "duration": 93,
    "start_time": "2024-08-10T04:57:07.284Z"
   },
   {
    "duration": 90,
    "start_time": "2024-08-10T04:59:08.585Z"
   },
   {
    "duration": 34,
    "start_time": "2024-08-10T05:02:18.533Z"
   },
   {
    "duration": 22,
    "start_time": "2024-08-10T05:02:18.749Z"
   },
   {
    "duration": 8,
    "start_time": "2024-08-10T05:02:26.916Z"
   },
   {
    "duration": 15,
    "start_time": "2024-08-10T05:02:28.235Z"
   },
   {
    "duration": 10,
    "start_time": "2024-08-10T05:02:31.620Z"
   },
   {
    "duration": 8,
    "start_time": "2024-08-10T05:03:37.139Z"
   },
   {
    "duration": 10,
    "start_time": "2024-08-10T05:03:37.975Z"
   },
   {
    "duration": 9,
    "start_time": "2024-08-10T05:03:55.392Z"
   },
   {
    "duration": 10,
    "start_time": "2024-08-10T05:03:55.813Z"
   },
   {
    "duration": 7,
    "start_time": "2024-08-10T05:04:01.979Z"
   },
   {
    "duration": 12,
    "start_time": "2024-08-10T05:04:02.125Z"
   },
   {
    "duration": 8,
    "start_time": "2024-08-10T05:04:40.779Z"
   },
   {
    "duration": 12,
    "start_time": "2024-08-10T05:04:46.668Z"
   },
   {
    "duration": 9,
    "start_time": "2024-08-10T05:04:53.689Z"
   },
   {
    "duration": 3,
    "start_time": "2024-08-10T05:10:17.831Z"
   },
   {
    "duration": 5,
    "start_time": "2024-08-10T05:10:36.014Z"
   },
   {
    "duration": 459,
    "start_time": "2024-08-10T05:10:36.358Z"
   },
   {
    "duration": 304,
    "start_time": "2024-08-10T05:10:40.319Z"
   },
   {
    "duration": 238,
    "start_time": "2024-08-10T05:10:41.524Z"
   },
   {
    "duration": 260,
    "start_time": "2024-08-10T05:10:42.794Z"
   },
   {
    "duration": 225,
    "start_time": "2024-08-10T05:10:44.354Z"
   },
   {
    "duration": 234,
    "start_time": "2024-08-10T05:10:45.861Z"
   },
   {
    "duration": 554,
    "start_time": "2024-08-10T05:10:47.420Z"
   },
   {
    "duration": 221,
    "start_time": "2024-08-10T05:10:52.077Z"
   },
   {
    "duration": 15,
    "start_time": "2024-08-10T05:10:53.301Z"
   },
   {
    "duration": 10,
    "start_time": "2024-08-10T05:10:54.021Z"
   },
   {
    "duration": 16,
    "start_time": "2024-08-10T05:10:55.475Z"
   },
   {
    "duration": 17,
    "start_time": "2024-08-10T05:10:56.455Z"
   },
   {
    "duration": 16,
    "start_time": "2024-08-10T05:10:57.882Z"
   },
   {
    "duration": 16,
    "start_time": "2024-08-10T05:10:59.014Z"
   },
   {
    "duration": 9,
    "start_time": "2024-08-10T05:11:00.561Z"
   },
   {
    "duration": 288,
    "start_time": "2024-08-10T05:11:00.871Z"
   },
   {
    "duration": 8,
    "start_time": "2024-08-10T05:11:02.558Z"
   },
   {
    "duration": 11,
    "start_time": "2024-08-10T05:11:02.940Z"
   },
   {
    "duration": 9,
    "start_time": "2024-08-10T05:11:03.578Z"
   },
   {
    "duration": 10,
    "start_time": "2024-08-10T05:11:03.968Z"
   },
   {
    "duration": 9,
    "start_time": "2024-08-10T05:11:04.479Z"
   },
   {
    "duration": 10,
    "start_time": "2024-08-10T05:11:04.929Z"
   },
   {
    "duration": 5,
    "start_time": "2024-08-10T05:13:04.239Z"
   },
   {
    "duration": 6,
    "start_time": "2024-08-10T05:13:10.693Z"
   },
   {
    "duration": 6,
    "start_time": "2024-08-10T05:13:56.385Z"
   },
   {
    "duration": 5,
    "start_time": "2024-08-10T05:14:03.909Z"
   },
   {
    "duration": 5,
    "start_time": "2024-08-10T05:14:06.257Z"
   },
   {
    "duration": 5,
    "start_time": "2024-08-10T05:14:09.420Z"
   },
   {
    "duration": 5,
    "start_time": "2024-08-10T05:15:04.169Z"
   },
   {
    "duration": 6,
    "start_time": "2024-08-10T05:15:35.104Z"
   },
   {
    "duration": 6,
    "start_time": "2024-08-10T05:15:40.350Z"
   },
   {
    "duration": 6,
    "start_time": "2024-08-10T05:16:08.195Z"
   },
   {
    "duration": 29,
    "start_time": "2024-08-10T05:16:54.531Z"
   },
   {
    "duration": 7,
    "start_time": "2024-08-10T05:17:36.513Z"
   },
   {
    "duration": 4,
    "start_time": "2024-08-10T05:19:37.481Z"
   },
   {
    "duration": 4,
    "start_time": "2024-08-10T05:20:17.446Z"
   },
   {
    "duration": 5,
    "start_time": "2024-08-10T05:20:30.625Z"
   },
   {
    "duration": 15,
    "start_time": "2024-08-10T05:22:59.049Z"
   },
   {
    "duration": 4,
    "start_time": "2024-08-10T05:23:07.685Z"
   },
   {
    "duration": 8,
    "start_time": "2024-08-10T05:23:10.550Z"
   },
   {
    "duration": 32,
    "start_time": "2024-08-10T05:25:29.121Z"
   },
   {
    "duration": 9,
    "start_time": "2024-08-10T05:25:58.676Z"
   },
   {
    "duration": 17,
    "start_time": "2024-08-10T05:26:04.444Z"
   },
   {
    "duration": 9,
    "start_time": "2024-08-10T05:26:24.620Z"
   },
   {
    "duration": 17,
    "start_time": "2024-08-10T05:26:25.279Z"
   },
   {
    "duration": 29,
    "start_time": "2024-08-10T05:26:51.485Z"
   },
   {
    "duration": 16,
    "start_time": "2024-08-10T05:26:51.891Z"
   },
   {
    "duration": 9,
    "start_time": "2024-08-10T05:27:01.594Z"
   },
   {
    "duration": 10,
    "start_time": "2024-08-10T05:27:02.275Z"
   },
   {
    "duration": 15,
    "start_time": "2024-08-10T05:27:20.761Z"
   },
   {
    "duration": 14,
    "start_time": "2024-08-10T05:27:41.610Z"
   },
   {
    "duration": 16,
    "start_time": "2024-08-10T05:28:00.430Z"
   },
   {
    "duration": 15,
    "start_time": "2024-08-10T05:28:33.135Z"
   },
   {
    "duration": 15,
    "start_time": "2024-08-10T05:28:42.994Z"
   },
   {
    "duration": 14,
    "start_time": "2024-08-10T05:28:47.792Z"
   },
   {
    "duration": 285,
    "start_time": "2024-08-10T05:30:39.870Z"
   },
   {
    "duration": 4814,
    "start_time": "2024-08-10T17:15:50.423Z"
   },
   {
    "duration": 55,
    "start_time": "2024-08-10T17:15:55.241Z"
   },
   {
    "duration": 20,
    "start_time": "2024-08-10T17:15:55.298Z"
   },
   {
    "duration": 4,
    "start_time": "2024-08-10T17:15:55.321Z"
   },
   {
    "duration": 18,
    "start_time": "2024-08-10T17:15:55.338Z"
   },
   {
    "duration": 6,
    "start_time": "2024-08-10T17:15:55.358Z"
   },
   {
    "duration": 251,
    "start_time": "2024-08-10T17:15:55.366Z"
   },
   {
    "duration": 14,
    "start_time": "2024-08-10T17:15:55.620Z"
   },
   {
    "duration": 7,
    "start_time": "2024-08-10T17:15:55.637Z"
   },
   {
    "duration": 5,
    "start_time": "2024-08-10T17:15:55.647Z"
   },
   {
    "duration": 14,
    "start_time": "2024-08-10T17:15:55.655Z"
   },
   {
    "duration": 13,
    "start_time": "2024-08-10T17:15:55.672Z"
   },
   {
    "duration": 64,
    "start_time": "2024-08-10T17:15:55.688Z"
   },
   {
    "duration": 6,
    "start_time": "2024-08-10T17:15:55.759Z"
   },
   {
    "duration": 8,
    "start_time": "2024-08-10T17:15:55.768Z"
   },
   {
    "duration": 72,
    "start_time": "2024-08-10T17:15:55.780Z"
   },
   {
    "duration": 8,
    "start_time": "2024-08-10T17:15:55.855Z"
   },
   {
    "duration": 7,
    "start_time": "2024-08-10T17:15:55.866Z"
   },
   {
    "duration": 4,
    "start_time": "2024-08-10T17:15:55.876Z"
   },
   {
    "duration": 70,
    "start_time": "2024-08-10T17:15:55.884Z"
   },
   {
    "duration": 13,
    "start_time": "2024-08-10T17:15:55.956Z"
   },
   {
    "duration": 402,
    "start_time": "2024-08-10T17:15:55.973Z"
   },
   {
    "duration": 304,
    "start_time": "2024-08-10T17:15:56.380Z"
   },
   {
    "duration": 254,
    "start_time": "2024-08-10T17:15:56.686Z"
   },
   {
    "duration": 241,
    "start_time": "2024-08-10T17:15:56.945Z"
   },
   {
    "duration": 295,
    "start_time": "2024-08-10T17:15:57.189Z"
   },
   {
    "duration": 243,
    "start_time": "2024-08-10T17:15:57.487Z"
   },
   {
    "duration": 576,
    "start_time": "2024-08-10T17:15:57.735Z"
   },
   {
    "duration": 213,
    "start_time": "2024-08-10T17:15:58.314Z"
   },
   {
    "duration": 18,
    "start_time": "2024-08-10T17:15:58.533Z"
   },
   {
    "duration": 14,
    "start_time": "2024-08-10T17:15:58.554Z"
   },
   {
    "duration": 17,
    "start_time": "2024-08-10T17:15:58.571Z"
   },
   {
    "duration": 16,
    "start_time": "2024-08-10T17:15:58.634Z"
   },
   {
    "duration": 18,
    "start_time": "2024-08-10T17:15:58.652Z"
   },
   {
    "duration": 17,
    "start_time": "2024-08-10T17:15:58.672Z"
   },
   {
    "duration": 46,
    "start_time": "2024-08-10T17:15:58.692Z"
   },
   {
    "duration": 300,
    "start_time": "2024-08-10T17:15:58.741Z"
   },
   {
    "duration": 9,
    "start_time": "2024-08-10T17:15:59.044Z"
   },
   {
    "duration": 10,
    "start_time": "2024-08-10T17:15:59.056Z"
   },
   {
    "duration": 9,
    "start_time": "2024-08-10T17:15:59.070Z"
   },
   {
    "duration": 54,
    "start_time": "2024-08-10T17:15:59.087Z"
   },
   {
    "duration": 9,
    "start_time": "2024-08-10T17:15:59.144Z"
   },
   {
    "duration": 10,
    "start_time": "2024-08-10T17:15:59.156Z"
   },
   {
    "duration": 7,
    "start_time": "2024-08-10T17:15:59.170Z"
   },
   {
    "duration": 5,
    "start_time": "2024-08-10T17:15:59.181Z"
   },
   {
    "duration": 14,
    "start_time": "2024-08-10T17:15:59.235Z"
   },
   {
    "duration": 15,
    "start_time": "2024-08-10T17:15:59.253Z"
   },
   {
    "duration": 15,
    "start_time": "2024-08-10T17:15:59.271Z"
   },
   {
    "duration": 5,
    "start_time": "2024-08-10T17:21:57.255Z"
   },
   {
    "duration": 16,
    "start_time": "2024-08-10T17:22:03.049Z"
   },
   {
    "duration": 1236,
    "start_time": "2024-08-10T17:23:16.226Z"
   },
   {
    "duration": 76,
    "start_time": "2024-08-10T17:23:25.752Z"
   },
   {
    "duration": 5,
    "start_time": "2024-08-10T17:23:40.046Z"
   },
   {
    "duration": 30,
    "start_time": "2024-08-10T17:23:44.856Z"
   },
   {
    "duration": 8,
    "start_time": "2024-08-10T17:23:57.828Z"
   },
   {
    "duration": 7,
    "start_time": "2024-08-10T17:24:03.569Z"
   },
   {
    "duration": 11,
    "start_time": "2024-08-10T17:25:10.587Z"
   },
   {
    "duration": 22,
    "start_time": "2024-08-10T17:25:24.274Z"
   },
   {
    "duration": 9,
    "start_time": "2024-08-10T17:25:27.181Z"
   },
   {
    "duration": 6,
    "start_time": "2024-08-10T17:25:27.503Z"
   },
   {
    "duration": 7,
    "start_time": "2024-08-10T17:25:33.417Z"
   },
   {
    "duration": 5,
    "start_time": "2024-08-10T17:32:26.071Z"
   },
   {
    "duration": 7,
    "start_time": "2024-08-10T17:32:26.576Z"
   },
   {
    "duration": 10,
    "start_time": "2024-08-10T17:33:17.087Z"
   },
   {
    "duration": 31,
    "start_time": "2024-08-10T17:39:59.198Z"
   },
   {
    "duration": 4,
    "start_time": "2024-08-10T17:40:24.066Z"
   },
   {
    "duration": 13,
    "start_time": "2024-08-10T17:40:31.172Z"
   },
   {
    "duration": 11,
    "start_time": "2024-08-10T17:45:20.097Z"
   },
   {
    "duration": 13,
    "start_time": "2024-08-10T17:47:06.650Z"
   },
   {
    "duration": 5,
    "start_time": "2024-08-10T17:47:44.844Z"
   },
   {
    "duration": 12,
    "start_time": "2024-08-10T17:48:10.648Z"
   },
   {
    "duration": 4,
    "start_time": "2024-08-10T17:48:18.748Z"
   },
   {
    "duration": 253,
    "start_time": "2024-08-10T17:51:10.559Z"
   },
   {
    "duration": 12,
    "start_time": "2024-08-10T17:54:35.263Z"
   },
   {
    "duration": 308,
    "start_time": "2024-08-11T22:03:22.333Z"
   },
   {
    "duration": 4886,
    "start_time": "2024-08-11T22:03:31.043Z"
   },
   {
    "duration": 67,
    "start_time": "2024-08-11T22:03:35.932Z"
   },
   {
    "duration": 19,
    "start_time": "2024-08-11T22:03:36.003Z"
   },
   {
    "duration": 5,
    "start_time": "2024-08-11T22:03:36.028Z"
   },
   {
    "duration": 19,
    "start_time": "2024-08-11T22:03:36.039Z"
   },
   {
    "duration": 6,
    "start_time": "2024-08-11T22:03:36.061Z"
   },
   {
    "duration": 266,
    "start_time": "2024-08-11T22:03:36.070Z"
   },
   {
    "duration": 5,
    "start_time": "2024-08-11T22:03:36.339Z"
   },
   {
    "duration": 9,
    "start_time": "2024-08-11T22:03:36.348Z"
   },
   {
    "duration": 5,
    "start_time": "2024-08-11T22:03:36.362Z"
   },
   {
    "duration": 44,
    "start_time": "2024-08-11T22:03:36.370Z"
   },
   {
    "duration": 12,
    "start_time": "2024-08-11T22:03:36.417Z"
   },
   {
    "duration": 21,
    "start_time": "2024-08-11T22:03:36.432Z"
   },
   {
    "duration": 48,
    "start_time": "2024-08-11T22:03:36.460Z"
   },
   {
    "duration": 7,
    "start_time": "2024-08-11T22:03:36.511Z"
   },
   {
    "duration": 30,
    "start_time": "2024-08-11T22:03:36.521Z"
   },
   {
    "duration": 7,
    "start_time": "2024-08-11T22:03:36.553Z"
   },
   {
    "duration": 7,
    "start_time": "2024-08-11T22:03:36.563Z"
   },
   {
    "duration": 39,
    "start_time": "2024-08-11T22:03:36.572Z"
   },
   {
    "duration": 26,
    "start_time": "2024-08-11T22:03:36.615Z"
   },
   {
    "duration": 6,
    "start_time": "2024-08-11T22:03:36.644Z"
   },
   {
    "duration": 433,
    "start_time": "2024-08-11T22:03:36.654Z"
   },
   {
    "duration": 303,
    "start_time": "2024-08-11T22:03:37.090Z"
   },
   {
    "duration": 247,
    "start_time": "2024-08-11T22:03:37.399Z"
   },
   {
    "duration": 241,
    "start_time": "2024-08-11T22:03:37.649Z"
   },
   {
    "duration": 235,
    "start_time": "2024-08-11T22:03:37.893Z"
   },
   {
    "duration": 244,
    "start_time": "2024-08-11T22:03:38.131Z"
   },
   {
    "duration": 582,
    "start_time": "2024-08-11T22:03:38.379Z"
   },
   {
    "duration": 295,
    "start_time": "2024-08-11T22:03:38.964Z"
   },
   {
    "duration": 14,
    "start_time": "2024-08-11T22:03:39.262Z"
   },
   {
    "duration": 35,
    "start_time": "2024-08-11T22:03:39.279Z"
   },
   {
    "duration": 19,
    "start_time": "2024-08-11T22:03:39.316Z"
   },
   {
    "duration": 16,
    "start_time": "2024-08-11T22:03:39.338Z"
   },
   {
    "duration": 53,
    "start_time": "2024-08-11T22:03:39.358Z"
   },
   {
    "duration": 16,
    "start_time": "2024-08-11T22:03:39.414Z"
   },
   {
    "duration": 9,
    "start_time": "2024-08-11T22:03:39.433Z"
   },
   {
    "duration": 339,
    "start_time": "2024-08-11T22:03:39.444Z"
   },
   {
    "duration": 24,
    "start_time": "2024-08-11T22:03:39.787Z"
   },
   {
    "duration": 11,
    "start_time": "2024-08-11T22:03:39.814Z"
   },
   {
    "duration": 10,
    "start_time": "2024-08-11T22:03:39.829Z"
   },
   {
    "duration": 10,
    "start_time": "2024-08-11T22:03:39.848Z"
   },
   {
    "duration": 53,
    "start_time": "2024-08-11T22:03:39.862Z"
   },
   {
    "duration": 11,
    "start_time": "2024-08-11T22:03:39.921Z"
   },
   {
    "duration": 9,
    "start_time": "2024-08-11T22:03:39.936Z"
   },
   {
    "duration": 5,
    "start_time": "2024-08-11T22:03:39.948Z"
   },
   {
    "duration": 62,
    "start_time": "2024-08-11T22:03:39.957Z"
   },
   {
    "duration": 15,
    "start_time": "2024-08-11T22:03:40.023Z"
   },
   {
    "duration": 22,
    "start_time": "2024-08-11T22:03:40.042Z"
   },
   {
    "duration": 48,
    "start_time": "2024-08-11T22:03:40.067Z"
   },
   {
    "duration": 20,
    "start_time": "2024-08-11T22:03:40.118Z"
   },
   {
    "duration": 217,
    "start_time": "2024-08-11T22:04:41.673Z"
   },
   {
    "duration": 249,
    "start_time": "2024-08-11T22:04:49.831Z"
   },
   {
    "duration": 230,
    "start_time": "2024-08-11T22:04:53.053Z"
   },
   {
    "duration": 237,
    "start_time": "2024-08-11T22:05:11.832Z"
   },
   {
    "duration": 221,
    "start_time": "2024-08-11T22:05:17.043Z"
   },
   {
    "duration": 235,
    "start_time": "2024-08-11T22:06:50.481Z"
   },
   {
    "duration": 219,
    "start_time": "2024-08-11T22:07:14.857Z"
   },
   {
    "duration": 219,
    "start_time": "2024-08-11T22:07:30.177Z"
   },
   {
    "duration": 224,
    "start_time": "2024-08-11T22:12:11.236Z"
   },
   {
    "duration": 223,
    "start_time": "2024-08-11T22:12:34.837Z"
   },
   {
    "duration": 213,
    "start_time": "2024-08-11T22:12:51.871Z"
   },
   {
    "duration": 300,
    "start_time": "2024-08-11T22:13:43.237Z"
   },
   {
    "duration": 400,
    "start_time": "2024-08-11T22:17:40.719Z"
   },
   {
    "duration": 24,
    "start_time": "2024-08-11T22:18:22.216Z"
   },
   {
    "duration": 4,
    "start_time": "2024-08-11T22:18:50.576Z"
   },
   {
    "duration": 4,
    "start_time": "2024-08-11T22:18:57.190Z"
   },
   {
    "duration": 23,
    "start_time": "2024-08-11T22:19:02.987Z"
   },
   {
    "duration": 712,
    "start_time": "2024-08-11T22:20:10.272Z"
   },
   {
    "duration": 6,
    "start_time": "2024-08-11T22:20:28.152Z"
   },
   {
    "duration": 5,
    "start_time": "2024-08-11T22:20:30.586Z"
   },
   {
    "duration": 15,
    "start_time": "2024-08-11T22:25:45.245Z"
   },
   {
    "duration": 16,
    "start_time": "2024-08-11T22:28:16.827Z"
   },
   {
    "duration": 15,
    "start_time": "2024-08-11T22:30:11.473Z"
   },
   {
    "duration": 13,
    "start_time": "2024-08-12T01:31:39.348Z"
   },
   {
    "duration": 320,
    "start_time": "2024-08-12T04:01:50.491Z"
   },
   {
    "duration": 4868,
    "start_time": "2024-08-12T04:01:58.394Z"
   },
   {
    "duration": 63,
    "start_time": "2024-08-12T04:02:03.266Z"
   },
   {
    "duration": 19,
    "start_time": "2024-08-12T04:02:03.333Z"
   },
   {
    "duration": 5,
    "start_time": "2024-08-12T04:02:03.355Z"
   },
   {
    "duration": 43,
    "start_time": "2024-08-12T04:02:03.365Z"
   },
   {
    "duration": 5,
    "start_time": "2024-08-12T04:02:03.412Z"
   },
   {
    "duration": 243,
    "start_time": "2024-08-12T04:02:03.420Z"
   },
   {
    "duration": 5,
    "start_time": "2024-08-12T04:02:03.666Z"
   },
   {
    "duration": 8,
    "start_time": "2024-08-12T04:02:03.675Z"
   },
   {
    "duration": 5,
    "start_time": "2024-08-12T04:02:03.709Z"
   },
   {
    "duration": 15,
    "start_time": "2024-08-12T04:02:03.717Z"
   },
   {
    "duration": 16,
    "start_time": "2024-08-12T04:02:03.735Z"
   },
   {
    "duration": 64,
    "start_time": "2024-08-12T04:02:03.754Z"
   },
   {
    "duration": 6,
    "start_time": "2024-08-12T04:02:03.826Z"
   },
   {
    "duration": 8,
    "start_time": "2024-08-12T04:02:03.835Z"
   },
   {
    "duration": 62,
    "start_time": "2024-08-12T04:02:03.846Z"
   },
   {
    "duration": 6,
    "start_time": "2024-08-12T04:02:03.912Z"
   },
   {
    "duration": 8,
    "start_time": "2024-08-12T04:02:03.921Z"
   },
   {
    "duration": 4,
    "start_time": "2024-08-12T04:02:03.933Z"
   },
   {
    "duration": 68,
    "start_time": "2024-08-12T04:02:03.940Z"
   },
   {
    "duration": 6,
    "start_time": "2024-08-12T04:02:04.012Z"
   },
   {
    "duration": 407,
    "start_time": "2024-08-12T04:02:04.021Z"
   },
   {
    "duration": 379,
    "start_time": "2024-08-12T04:02:04.431Z"
   },
   {
    "duration": 253,
    "start_time": "2024-08-12T04:02:04.813Z"
   },
   {
    "duration": 243,
    "start_time": "2024-08-12T04:02:05.069Z"
   },
   {
    "duration": 233,
    "start_time": "2024-08-12T04:02:05.315Z"
   },
   {
    "duration": 240,
    "start_time": "2024-08-12T04:02:05.551Z"
   },
   {
    "duration": 603,
    "start_time": "2024-08-12T04:02:05.794Z"
   },
   {
    "duration": 217,
    "start_time": "2024-08-12T04:02:06.401Z"
   },
   {
    "duration": 233,
    "start_time": "2024-08-12T04:02:06.622Z"
   },
   {
    "duration": 244,
    "start_time": "2024-08-12T04:02:06.858Z"
   },
   {
    "duration": 17,
    "start_time": "2024-08-12T04:02:07.105Z"
   },
   {
    "duration": 15,
    "start_time": "2024-08-12T04:02:07.125Z"
   },
   {
    "duration": 16,
    "start_time": "2024-08-12T04:02:07.143Z"
   },
   {
    "duration": 57,
    "start_time": "2024-08-12T04:02:07.162Z"
   },
   {
    "duration": 18,
    "start_time": "2024-08-12T04:02:07.221Z"
   },
   {
    "duration": 16,
    "start_time": "2024-08-12T04:02:07.242Z"
   },
   {
    "duration": 8,
    "start_time": "2024-08-12T04:02:07.261Z"
   },
   {
    "duration": 310,
    "start_time": "2024-08-12T04:02:07.308Z"
   },
   {
    "duration": 9,
    "start_time": "2024-08-12T04:02:07.622Z"
   },
   {
    "duration": 10,
    "start_time": "2024-08-12T04:02:07.640Z"
   },
   {
    "duration": 10,
    "start_time": "2024-08-12T04:02:07.653Z"
   },
   {
    "duration": 50,
    "start_time": "2024-08-12T04:02:07.666Z"
   },
   {
    "duration": 9,
    "start_time": "2024-08-12T04:02:07.719Z"
   },
   {
    "duration": 10,
    "start_time": "2024-08-12T04:02:07.731Z"
   },
   {
    "duration": 8,
    "start_time": "2024-08-12T04:02:07.744Z"
   },
   {
    "duration": 5,
    "start_time": "2024-08-12T04:02:07.755Z"
   },
   {
    "duration": 15,
    "start_time": "2024-08-12T04:02:07.808Z"
   },
   {
    "duration": 17,
    "start_time": "2024-08-12T04:02:07.825Z"
   },
   {
    "duration": 131,
    "start_time": "2024-08-12T04:02:07.845Z"
   },
   {
    "duration": 29,
    "start_time": "2024-08-12T04:02:07.979Z"
   },
   {
    "duration": 15,
    "start_time": "2024-08-12T04:02:08.012Z"
   },
   {
    "duration": 18,
    "start_time": "2024-08-12T04:02:08.030Z"
   },
   {
    "duration": 18,
    "start_time": "2024-08-12T04:02:56.455Z"
   },
   {
    "duration": 17,
    "start_time": "2024-08-12T04:03:18.932Z"
   },
   {
    "duration": 18,
    "start_time": "2024-08-12T04:04:01.528Z"
   },
   {
    "duration": 19,
    "start_time": "2024-08-12T04:04:30.924Z"
   },
   {
    "duration": 4985,
    "start_time": "2024-08-14T05:27:24.412Z"
   },
   {
    "duration": 56,
    "start_time": "2024-08-14T05:27:29.401Z"
   },
   {
    "duration": 20,
    "start_time": "2024-08-14T05:27:29.460Z"
   },
   {
    "duration": 9,
    "start_time": "2024-08-14T05:27:29.483Z"
   },
   {
    "duration": 18,
    "start_time": "2024-08-14T05:27:29.497Z"
   },
   {
    "duration": 6,
    "start_time": "2024-08-14T05:27:29.518Z"
   },
   {
    "duration": 264,
    "start_time": "2024-08-14T05:27:29.528Z"
   },
   {
    "duration": 5,
    "start_time": "2024-08-14T05:27:29.795Z"
   },
   {
    "duration": 9,
    "start_time": "2024-08-14T05:27:29.803Z"
   },
   {
    "duration": 7,
    "start_time": "2024-08-14T05:27:29.815Z"
   },
   {
    "duration": 13,
    "start_time": "2024-08-14T05:27:29.825Z"
   },
   {
    "duration": 54,
    "start_time": "2024-08-14T05:27:29.841Z"
   },
   {
    "duration": 22,
    "start_time": "2024-08-14T05:27:29.898Z"
   },
   {
    "duration": 7,
    "start_time": "2024-08-14T05:27:29.928Z"
   },
   {
    "duration": 9,
    "start_time": "2024-08-14T05:27:29.938Z"
   },
   {
    "duration": 66,
    "start_time": "2024-08-14T05:27:29.949Z"
   },
   {
    "duration": 7,
    "start_time": "2024-08-14T05:27:30.018Z"
   },
   {
    "duration": 8,
    "start_time": "2024-08-14T05:27:30.028Z"
   },
   {
    "duration": 5,
    "start_time": "2024-08-14T05:27:30.039Z"
   },
   {
    "duration": 27,
    "start_time": "2024-08-14T05:27:30.091Z"
   },
   {
    "duration": 6,
    "start_time": "2024-08-14T05:27:30.120Z"
   },
   {
    "duration": 408,
    "start_time": "2024-08-14T05:27:30.129Z"
   },
   {
    "duration": 304,
    "start_time": "2024-08-14T05:27:30.540Z"
   },
   {
    "duration": 247,
    "start_time": "2024-08-14T05:27:30.847Z"
   },
   {
    "duration": 303,
    "start_time": "2024-08-14T05:27:31.097Z"
   },
   {
    "duration": 229,
    "start_time": "2024-08-14T05:27:31.403Z"
   },
   {
    "duration": 238,
    "start_time": "2024-08-14T05:27:31.635Z"
   },
   {
    "duration": 571,
    "start_time": "2024-08-14T05:27:31.876Z"
   },
   {
    "duration": 236,
    "start_time": "2024-08-14T05:27:32.450Z"
   },
   {
    "duration": 250,
    "start_time": "2024-08-14T05:27:32.690Z"
   },
   {
    "duration": 240,
    "start_time": "2024-08-14T05:27:32.943Z"
   },
   {
    "duration": 16,
    "start_time": "2024-08-14T05:27:33.190Z"
   },
   {
    "duration": 14,
    "start_time": "2024-08-14T05:27:33.209Z"
   },
   {
    "duration": 18,
    "start_time": "2024-08-14T05:27:33.226Z"
   },
   {
    "duration": 58,
    "start_time": "2024-08-14T05:27:33.246Z"
   },
   {
    "duration": 17,
    "start_time": "2024-08-14T05:27:33.307Z"
   },
   {
    "duration": 17,
    "start_time": "2024-08-14T05:27:33.328Z"
   },
   {
    "duration": 50,
    "start_time": "2024-08-14T05:27:33.348Z"
   },
   {
    "duration": 307,
    "start_time": "2024-08-14T05:27:33.401Z"
   },
   {
    "duration": 9,
    "start_time": "2024-08-14T05:27:33.711Z"
   },
   {
    "duration": 9,
    "start_time": "2024-08-14T05:27:33.729Z"
   },
   {
    "duration": 14,
    "start_time": "2024-08-14T05:27:33.741Z"
   },
   {
    "duration": 12,
    "start_time": "2024-08-14T05:27:33.791Z"
   },
   {
    "duration": 8,
    "start_time": "2024-08-14T05:27:33.806Z"
   },
   {
    "duration": 11,
    "start_time": "2024-08-14T05:27:33.817Z"
   },
   {
    "duration": 8,
    "start_time": "2024-08-14T05:27:33.831Z"
   },
   {
    "duration": 46,
    "start_time": "2024-08-14T05:27:33.844Z"
   },
   {
    "duration": 16,
    "start_time": "2024-08-14T05:27:33.894Z"
   },
   {
    "duration": 16,
    "start_time": "2024-08-14T05:27:33.913Z"
   },
   {
    "duration": 15,
    "start_time": "2024-08-14T05:27:33.933Z"
   },
   {
    "duration": 511,
    "start_time": "2024-08-14T05:27:33.992Z"
   },
   {
    "duration": 0,
    "start_time": "2024-08-14T05:27:34.506Z"
   },
   {
    "duration": 235,
    "start_time": "2024-08-14T05:27:44.601Z"
   },
   {
    "duration": 19,
    "start_time": "2024-08-14T05:34:42.660Z"
   },
   {
    "duration": 19,
    "start_time": "2024-08-14T05:35:14.475Z"
   },
   {
    "duration": 39,
    "start_time": "2024-08-14T05:35:21.040Z"
   },
   {
    "duration": 238,
    "start_time": "2024-08-14T05:40:11.306Z"
   },
   {
    "duration": 252,
    "start_time": "2024-08-14T05:40:16.726Z"
   },
   {
    "duration": 547,
    "start_time": "2024-08-14T05:41:50.646Z"
   },
   {
    "duration": 544,
    "start_time": "2024-08-14T05:42:18.524Z"
   },
   {
    "duration": 558,
    "start_time": "2024-08-14T05:43:05.281Z"
   },
   {
    "duration": 147,
    "start_time": "2024-08-14T05:48:20.530Z"
   },
   {
    "duration": 4834,
    "start_time": "2024-08-20T02:22:53.907Z"
   },
   {
    "duration": 56,
    "start_time": "2024-08-20T02:22:58.745Z"
   },
   {
    "duration": 19,
    "start_time": "2024-08-20T02:22:58.804Z"
   },
   {
    "duration": 6,
    "start_time": "2024-08-20T02:22:58.826Z"
   },
   {
    "duration": 18,
    "start_time": "2024-08-20T02:22:58.837Z"
   },
   {
    "duration": 8,
    "start_time": "2024-08-20T02:22:58.858Z"
   },
   {
    "duration": 265,
    "start_time": "2024-08-20T02:22:58.868Z"
   },
   {
    "duration": 213,
    "start_time": "2024-08-20T02:22:59.136Z"
   },
   {
    "duration": 5,
    "start_time": "2024-08-20T02:22:59.352Z"
   },
   {
    "duration": 8,
    "start_time": "2024-08-20T02:22:59.361Z"
   },
   {
    "duration": 6,
    "start_time": "2024-08-20T02:22:59.372Z"
   },
   {
    "duration": 12,
    "start_time": "2024-08-20T02:22:59.381Z"
   },
   {
    "duration": 13,
    "start_time": "2024-08-20T02:22:59.431Z"
   },
   {
    "duration": 20,
    "start_time": "2024-08-20T02:22:59.451Z"
   },
   {
    "duration": 7,
    "start_time": "2024-08-20T02:22:59.474Z"
   },
   {
    "duration": 48,
    "start_time": "2024-08-20T02:22:59.484Z"
   },
   {
    "duration": 30,
    "start_time": "2024-08-20T02:22:59.534Z"
   },
   {
    "duration": 6,
    "start_time": "2024-08-20T02:22:59.567Z"
   },
   {
    "duration": 9,
    "start_time": "2024-08-20T02:22:59.576Z"
   },
   {
    "duration": 4,
    "start_time": "2024-08-20T02:22:59.631Z"
   },
   {
    "duration": 27,
    "start_time": "2024-08-20T02:22:59.638Z"
   },
   {
    "duration": 6,
    "start_time": "2024-08-20T02:22:59.668Z"
   },
   {
    "duration": 403,
    "start_time": "2024-08-20T02:22:59.678Z"
   },
   {
    "duration": 308,
    "start_time": "2024-08-20T02:23:00.085Z"
   },
   {
    "duration": 239,
    "start_time": "2024-08-20T02:23:00.397Z"
   },
   {
    "duration": 295,
    "start_time": "2024-08-20T02:23:00.639Z"
   },
   {
    "duration": 232,
    "start_time": "2024-08-20T02:23:00.937Z"
   },
   {
    "duration": 262,
    "start_time": "2024-08-20T02:23:01.172Z"
   },
   {
    "duration": 41,
    "start_time": "2024-08-20T02:23:01.437Z"
   },
   {
    "duration": 584,
    "start_time": "2024-08-20T02:23:01.483Z"
   },
   {
    "duration": 248,
    "start_time": "2024-08-20T02:23:02.070Z"
   },
   {
    "duration": 235,
    "start_time": "2024-08-20T02:23:02.331Z"
   },
   {
    "duration": 236,
    "start_time": "2024-08-20T02:23:02.569Z"
   },
   {
    "duration": 28,
    "start_time": "2024-08-20T02:23:02.808Z"
   },
   {
    "duration": 11,
    "start_time": "2024-08-20T02:23:02.842Z"
   },
   {
    "duration": 17,
    "start_time": "2024-08-20T02:23:02.856Z"
   },
   {
    "duration": 17,
    "start_time": "2024-08-20T02:23:02.875Z"
   },
   {
    "duration": 46,
    "start_time": "2024-08-20T02:23:02.897Z"
   },
   {
    "duration": 17,
    "start_time": "2024-08-20T02:23:02.946Z"
   },
   {
    "duration": 9,
    "start_time": "2024-08-20T02:23:02.966Z"
   },
   {
    "duration": 317,
    "start_time": "2024-08-20T02:23:02.983Z"
   },
   {
    "duration": 26,
    "start_time": "2024-08-20T02:23:03.303Z"
   },
   {
    "duration": 10,
    "start_time": "2024-08-20T02:23:03.333Z"
   },
   {
    "duration": 12,
    "start_time": "2024-08-20T02:23:03.346Z"
   },
   {
    "duration": 10,
    "start_time": "2024-08-20T02:23:03.361Z"
   },
   {
    "duration": 9,
    "start_time": "2024-08-20T02:23:03.375Z"
   },
   {
    "duration": 52,
    "start_time": "2024-08-20T02:23:03.386Z"
   },
   {
    "duration": 8,
    "start_time": "2024-08-20T02:23:03.441Z"
   },
   {
    "duration": 5,
    "start_time": "2024-08-20T02:23:03.452Z"
   },
   {
    "duration": 14,
    "start_time": "2024-08-20T02:23:03.460Z"
   },
   {
    "duration": 63,
    "start_time": "2024-08-20T02:23:03.476Z"
   },
   {
    "duration": 14,
    "start_time": "2024-08-20T02:23:03.543Z"
   },
   {
    "duration": 505,
    "start_time": "2024-08-20T02:23:03.559Z"
   },
   {
    "duration": 0,
    "start_time": "2024-08-20T02:23:04.067Z"
   },
   {
    "duration": 32,
    "start_time": "2024-08-20T02:23:10.716Z"
   },
   {
    "duration": 31,
    "start_time": "2024-08-20T02:23:15.963Z"
   },
   {
    "duration": 4892,
    "start_time": "2024-08-25T01:24:29.918Z"
   },
   {
    "duration": 53,
    "start_time": "2024-08-25T01:24:34.814Z"
   },
   {
    "duration": 20,
    "start_time": "2024-08-25T01:24:34.870Z"
   },
   {
    "duration": 5,
    "start_time": "2024-08-25T01:24:34.894Z"
   },
   {
    "duration": 17,
    "start_time": "2024-08-25T01:24:34.913Z"
   },
   {
    "duration": 5,
    "start_time": "2024-08-25T01:24:34.933Z"
   },
   {
    "duration": 242,
    "start_time": "2024-08-25T01:24:34.941Z"
   },
   {
    "duration": 210,
    "start_time": "2024-08-25T01:24:35.185Z"
   },
   {
    "duration": 18,
    "start_time": "2024-08-25T01:24:35.397Z"
   },
   {
    "duration": 8,
    "start_time": "2024-08-25T01:24:35.421Z"
   },
   {
    "duration": 5,
    "start_time": "2024-08-25T01:24:35.431Z"
   },
   {
    "duration": 14,
    "start_time": "2024-08-25T01:24:35.439Z"
   },
   {
    "duration": 57,
    "start_time": "2024-08-25T01:24:35.456Z"
   },
   {
    "duration": 21,
    "start_time": "2024-08-25T01:24:35.516Z"
   },
   {
    "duration": 9,
    "start_time": "2024-08-25T01:24:35.540Z"
   },
   {
    "duration": 8,
    "start_time": "2024-08-25T01:24:35.552Z"
   },
   {
    "duration": 68,
    "start_time": "2024-08-25T01:24:35.563Z"
   },
   {
    "duration": 6,
    "start_time": "2024-08-25T01:24:35.634Z"
   },
   {
    "duration": 8,
    "start_time": "2024-08-25T01:24:35.644Z"
   },
   {
    "duration": 4,
    "start_time": "2024-08-25T01:24:35.655Z"
   },
   {
    "duration": 70,
    "start_time": "2024-08-25T01:24:35.663Z"
   },
   {
    "duration": 6,
    "start_time": "2024-08-25T01:24:35.736Z"
   },
   {
    "duration": 391,
    "start_time": "2024-08-25T01:24:35.745Z"
   },
   {
    "duration": 295,
    "start_time": "2024-08-25T01:24:36.140Z"
   },
   {
    "duration": 303,
    "start_time": "2024-08-25T01:24:36.438Z"
   },
   {
    "duration": 233,
    "start_time": "2024-08-25T01:24:36.745Z"
   },
   {
    "duration": 230,
    "start_time": "2024-08-25T01:24:36.982Z"
   },
   {
    "duration": 246,
    "start_time": "2024-08-25T01:24:37.220Z"
   },
   {
    "duration": 58,
    "start_time": "2024-08-25T01:24:37.469Z"
   },
   {
    "duration": 544,
    "start_time": "2024-08-25T01:24:37.530Z"
   },
   {
    "duration": 237,
    "start_time": "2024-08-25T01:24:38.076Z"
   },
   {
    "duration": 238,
    "start_time": "2024-08-25T01:24:38.316Z"
   },
   {
    "duration": 230,
    "start_time": "2024-08-25T01:24:38.557Z"
   },
   {
    "duration": 23,
    "start_time": "2024-08-25T01:24:38.793Z"
   },
   {
    "duration": 10,
    "start_time": "2024-08-25T01:24:38.819Z"
   },
   {
    "duration": 19,
    "start_time": "2024-08-25T01:24:38.832Z"
   },
   {
    "duration": 59,
    "start_time": "2024-08-25T01:24:38.854Z"
   },
   {
    "duration": 17,
    "start_time": "2024-08-25T01:24:38.916Z"
   },
   {
    "duration": 16,
    "start_time": "2024-08-25T01:24:38.935Z"
   },
   {
    "duration": 8,
    "start_time": "2024-08-25T01:24:38.954Z"
   },
   {
    "duration": 322,
    "start_time": "2024-08-25T01:24:38.965Z"
   },
   {
    "duration": 9,
    "start_time": "2024-08-25T01:24:39.290Z"
   },
   {
    "duration": 10,
    "start_time": "2024-08-25T01:24:39.313Z"
   },
   {
    "duration": 9,
    "start_time": "2024-08-25T01:24:39.327Z"
   },
   {
    "duration": 10,
    "start_time": "2024-08-25T01:24:39.338Z"
   },
   {
    "duration": 10,
    "start_time": "2024-08-25T01:24:39.352Z"
   },
   {
    "duration": 50,
    "start_time": "2024-08-25T01:24:39.365Z"
   },
   {
    "duration": 7,
    "start_time": "2024-08-25T01:24:39.418Z"
   },
   {
    "duration": 5,
    "start_time": "2024-08-25T01:24:39.428Z"
   },
   {
    "duration": 15,
    "start_time": "2024-08-25T01:24:39.436Z"
   },
   {
    "duration": 63,
    "start_time": "2024-08-25T01:24:39.454Z"
   },
   {
    "duration": 15,
    "start_time": "2024-08-25T01:24:39.520Z"
   },
   {
    "duration": 513,
    "start_time": "2024-08-25T01:24:39.538Z"
   },
   {
    "duration": 0,
    "start_time": "2024-08-25T01:24:40.054Z"
   },
   {
    "duration": 12,
    "start_time": "2024-08-25T01:33:53.984Z"
   },
   {
    "duration": 24,
    "start_time": "2024-08-25T01:37:19.372Z"
   },
   {
    "duration": 16,
    "start_time": "2024-08-25T01:37:28.673Z"
   },
   {
    "duration": 17,
    "start_time": "2024-08-25T01:37:31.777Z"
   },
   {
    "duration": 847,
    "start_time": "2024-08-25T01:40:29.832Z"
   },
   {
    "duration": 6,
    "start_time": "2024-08-25T01:40:34.938Z"
   },
   {
    "duration": 29,
    "start_time": "2024-08-25T01:40:36.326Z"
   },
   {
    "duration": 9,
    "start_time": "2024-08-25T01:41:06.918Z"
   },
   {
    "duration": 11,
    "start_time": "2024-08-25T01:41:10.172Z"
   },
   {
    "duration": 9,
    "start_time": "2024-08-25T01:41:59.921Z"
   },
   {
    "duration": 49,
    "start_time": "2024-08-25T01:43:11.859Z"
   },
   {
    "duration": 251,
    "start_time": "2024-08-25T01:43:58.885Z"
   },
   {
    "duration": 23,
    "start_time": "2024-08-25T01:44:24.438Z"
   },
   {
    "duration": 7,
    "start_time": "2024-08-25T01:44:58.477Z"
   },
   {
    "duration": 7,
    "start_time": "2024-08-25T01:45:25.597Z"
   },
   {
    "duration": 24,
    "start_time": "2024-08-25T01:46:01.618Z"
   },
   {
    "duration": 10,
    "start_time": "2024-08-25T01:46:13.908Z"
   },
   {
    "duration": 20,
    "start_time": "2024-08-25T01:48:50.796Z"
   },
   {
    "duration": 55,
    "start_time": "2024-08-25T01:53:53.058Z"
   },
   {
    "duration": 21,
    "start_time": "2024-08-25T01:54:20.607Z"
   },
   {
    "duration": 21,
    "start_time": "2024-08-25T01:55:29.841Z"
   },
   {
    "duration": 367,
    "start_time": "2024-08-25T02:13:52.995Z"
   },
   {
    "duration": 97,
    "start_time": "2024-08-25T02:13:58.738Z"
   },
   {
    "duration": 24,
    "start_time": "2024-08-25T02:14:18.897Z"
   },
   {
    "duration": 22,
    "start_time": "2024-08-25T02:15:33.138Z"
   },
   {
    "duration": 21,
    "start_time": "2024-08-25T02:19:01.010Z"
   },
   {
    "duration": 21,
    "start_time": "2024-08-25T02:19:17.938Z"
   },
   {
    "duration": 22,
    "start_time": "2024-08-25T02:19:20.696Z"
   }
  ],
  "kernelspec": {
   "display_name": "Python 3 (ipykernel)",
   "language": "python",
   "name": "python3"
  },
  "language_info": {
   "codemirror_mode": {
    "name": "ipython",
    "version": 3
   },
   "file_extension": ".py",
   "mimetype": "text/x-python",
   "name": "python",
   "nbconvert_exporter": "python",
   "pygments_lexer": "ipython3",
   "version": "3.12.4"
  },
  "toc": {
   "base_numbering": 1,
   "nav_menu": {},
   "number_sections": true,
   "sideBar": true,
   "skip_h1_title": true,
   "title_cell": "Table of Contents",
   "title_sidebar": "Contents",
   "toc_cell": false,
   "toc_position": {},
   "toc_section_display": true,
   "toc_window_display": true
  }
 },
 "nbformat": 4,
 "nbformat_minor": 2
}
